{
 "cells": [
  {
   "cell_type": "code",
   "execution_count": 1,
   "metadata": {},
   "outputs": [],
   "source": [
    "import os\n",
    "os.chdir(\"../../crystal/\")\n",
    "\n",
    "import pandas as pd\n",
    "import numpy as np\n",
    "import matplotlib.pyplot as plt\n",
    "import plotly.express as px\n",
    "import plotly.io as pio\n",
    "\n",
    "from tqdm import tqdm\n",
    "from math import lcm\n",
    "from typing import List, Dict\n",
    "from ripser import Rips\n",
    "from utils import wasserstein_distance_matrix, plot_distance_matrix\n",
    "\n",
    "from Symmetry import Symmetry\n",
    "from UnitCell import UnitCell\n",
    "from RandomCrystal import RandomCrystal\n",
    "from Fractional import FractionalCoordinate, FractionalCoordinateList\n",
    "from Positional import PositionalCoordinate, PositionalCoordinateList\n",
    "\n",
    "from sklearn.manifold import TSNE, Isomap, MDS, SpectralEmbedding\n",
    "from sklearn.multiclass import OneVsOneClassifier\n",
    "from sklearn.svm import SVC\n",
    "\n",
    "from sklearn.model_selection import train_test_split\n",
    "from sklearn.metrics import accuracy_score, classification_report\n",
    "\n",
    "plt.rcParams['text.usetex'] = False"
   ]
  },
  {
   "cell_type": "code",
   "execution_count": 2,
   "metadata": {},
   "outputs": [
    {
     "data": {
      "text/html": [
       "<div>\n",
       "<style scoped>\n",
       "    .dataframe tbody tr th:only-of-type {\n",
       "        vertical-align: middle;\n",
       "    }\n",
       "\n",
       "    .dataframe tbody tr th {\n",
       "        vertical-align: top;\n",
       "    }\n",
       "\n",
       "    .dataframe thead th {\n",
       "        text-align: right;\n",
       "    }\n",
       "</style>\n",
       "<table border=\"1\" class=\"dataframe\">\n",
       "  <thead>\n",
       "    <tr style=\"text-align: right;\">\n",
       "      <th></th>\n",
       "      <th>Space Group</th>\n",
       "      <th>Crystal System</th>\n",
       "      <th>Asymmetric Unit</th>\n",
       "      <th>Symmetries</th>\n",
       "      <th>Group Order</th>\n",
       "      <th>Unit Cell</th>\n",
       "    </tr>\n",
       "  </thead>\n",
       "  <tbody>\n",
       "    <tr>\n",
       "      <th>0</th>\n",
       "      <td>2</td>\n",
       "      <td>Triclinic</td>\n",
       "      <td>30</td>\n",
       "      <td>x,y,z;-x,-y,-z</td>\n",
       "      <td>2</td>\n",
       "      <td>13.027,11.1822,9.2189,92.35,107.3,104.5</td>\n",
       "    </tr>\n",
       "    <tr>\n",
       "      <th>1</th>\n",
       "      <td>9</td>\n",
       "      <td>Monoclinic</td>\n",
       "      <td>71</td>\n",
       "      <td>x,y,z;x,-y,z+1/2;x+1/2,y+1/2,z;x+1/2,-y+1/2,z+1/2</td>\n",
       "      <td>4</td>\n",
       "      <td>20.408,13.304,20.166,90.0,102.33,90.0</td>\n",
       "    </tr>\n",
       "    <tr>\n",
       "      <th>2</th>\n",
       "      <td>10</td>\n",
       "      <td>Monoclinic</td>\n",
       "      <td>50</td>\n",
       "      <td>x,y,z;-x,y,-z;-x,-y,-z;x,-y,z</td>\n",
       "      <td>4</td>\n",
       "      <td>12.7411,12.6989,20.9991,90.0,96.29,90.0</td>\n",
       "    </tr>\n",
       "    <tr>\n",
       "      <th>3</th>\n",
       "      <td>11</td>\n",
       "      <td>Monoclinic</td>\n",
       "      <td>25</td>\n",
       "      <td>x,y,z;-x,y+1/2,-z;-x,-y,-z;x,-y+1/2,z</td>\n",
       "      <td>4</td>\n",
       "      <td>11.454,21.695,7.227,90.0,93.15,90.0</td>\n",
       "    </tr>\n",
       "    <tr>\n",
       "      <th>4</th>\n",
       "      <td>12</td>\n",
       "      <td>Monoclinic</td>\n",
       "      <td>24</td>\n",
       "      <td>x,y,z;-x,y,-z;-x,-y,-z;x,-y,z;x+1/2,y+1/2,z;-x...</td>\n",
       "      <td>8</td>\n",
       "      <td>22.684,13.373,12.553,90.0,69.48,90.0</td>\n",
       "    </tr>\n",
       "    <tr>\n",
       "      <th>...</th>\n",
       "      <td>...</td>\n",
       "      <td>...</td>\n",
       "      <td>...</td>\n",
       "      <td>...</td>\n",
       "      <td>...</td>\n",
       "      <td>...</td>\n",
       "    </tr>\n",
       "    <tr>\n",
       "      <th>68</th>\n",
       "      <td>223</td>\n",
       "      <td>Cubic</td>\n",
       "      <td>7</td>\n",
       "      <td>x,y,z;-x,-y,z;x,-y,-z;-x,y,-z;z,x,y;y,z,x;-z,-...</td>\n",
       "      <td>48</td>\n",
       "      <td>13.705,13.705,13.705,90.0,90.0,90.0</td>\n",
       "    </tr>\n",
       "    <tr>\n",
       "      <th>69</th>\n",
       "      <td>225</td>\n",
       "      <td>Cubic</td>\n",
       "      <td>4</td>\n",
       "      <td>x,y,z;-x,-y,z;x,-y,-z;-x,y,-z;z,x,y;y,z,x;-z,-...</td>\n",
       "      <td>192</td>\n",
       "      <td>13.624,13.624,13.624,90.0,90.0,90.0</td>\n",
       "    </tr>\n",
       "    <tr>\n",
       "      <th>70</th>\n",
       "      <td>227</td>\n",
       "      <td>Cubic</td>\n",
       "      <td>5</td>\n",
       "      <td>x,y,z;-x+1/4,-y+1/4,z;x,-y+1/4,-z+1/4;-x+1/4,y...</td>\n",
       "      <td>192</td>\n",
       "      <td>24.345,24.345,24.345,90.0,90.0,90.0</td>\n",
       "    </tr>\n",
       "    <tr>\n",
       "      <th>71</th>\n",
       "      <td>229</td>\n",
       "      <td>Cubic</td>\n",
       "      <td>5</td>\n",
       "      <td>x,y,z;-x,-y,z;x,-y,-z;-x,y,-z;z,x,y;y,z,x;-z,-...</td>\n",
       "      <td>96</td>\n",
       "      <td>18.578,18.578,18.578,90.0,90.0,90.0</td>\n",
       "    </tr>\n",
       "    <tr>\n",
       "      <th>72</th>\n",
       "      <td>230</td>\n",
       "      <td>Cubic</td>\n",
       "      <td>3</td>\n",
       "      <td>x,y,z;-x,-y+1/2,z;x,-y,-z+1/2;-x+1/2,y,-z;z,x,...</td>\n",
       "      <td>96</td>\n",
       "      <td>17.252,17.252,17.252,90.0,90.0,90.0</td>\n",
       "    </tr>\n",
       "  </tbody>\n",
       "</table>\n",
       "<p>73 rows × 6 columns</p>\n",
       "</div>"
      ],
      "text/plain": [
       "    Space Group Crystal System  Asymmetric Unit  \\\n",
       "0             2      Triclinic               30   \n",
       "1             9     Monoclinic               71   \n",
       "2            10     Monoclinic               50   \n",
       "3            11     Monoclinic               25   \n",
       "4            12     Monoclinic               24   \n",
       "..          ...            ...              ...   \n",
       "68          223          Cubic                7   \n",
       "69          225          Cubic                4   \n",
       "70          227          Cubic                5   \n",
       "71          229          Cubic                5   \n",
       "72          230          Cubic                3   \n",
       "\n",
       "                                           Symmetries  Group Order  \\\n",
       "0                                      x,y,z;-x,-y,-z            2   \n",
       "1   x,y,z;x,-y,z+1/2;x+1/2,y+1/2,z;x+1/2,-y+1/2,z+1/2            4   \n",
       "2                       x,y,z;-x,y,-z;-x,-y,-z;x,-y,z            4   \n",
       "3               x,y,z;-x,y+1/2,-z;-x,-y,-z;x,-y+1/2,z            4   \n",
       "4   x,y,z;-x,y,-z;-x,-y,-z;x,-y,z;x+1/2,y+1/2,z;-x...            8   \n",
       "..                                                ...          ...   \n",
       "68  x,y,z;-x,-y,z;x,-y,-z;-x,y,-z;z,x,y;y,z,x;-z,-...           48   \n",
       "69  x,y,z;-x,-y,z;x,-y,-z;-x,y,-z;z,x,y;y,z,x;-z,-...          192   \n",
       "70  x,y,z;-x+1/4,-y+1/4,z;x,-y+1/4,-z+1/4;-x+1/4,y...          192   \n",
       "71  x,y,z;-x,-y,z;x,-y,-z;-x,y,-z;z,x,y;y,z,x;-z,-...           96   \n",
       "72  x,y,z;-x,-y+1/2,z;x,-y,-z+1/2;-x+1/2,y,-z;z,x,...           96   \n",
       "\n",
       "                                  Unit Cell  \n",
       "0   13.027,11.1822,9.2189,92.35,107.3,104.5  \n",
       "1     20.408,13.304,20.166,90.0,102.33,90.0  \n",
       "2   12.7411,12.6989,20.9991,90.0,96.29,90.0  \n",
       "3       11.454,21.695,7.227,90.0,93.15,90.0  \n",
       "4      22.684,13.373,12.553,90.0,69.48,90.0  \n",
       "..                                      ...  \n",
       "68      13.705,13.705,13.705,90.0,90.0,90.0  \n",
       "69      13.624,13.624,13.624,90.0,90.0,90.0  \n",
       "70      24.345,24.345,24.345,90.0,90.0,90.0  \n",
       "71      18.578,18.578,18.578,90.0,90.0,90.0  \n",
       "72      17.252,17.252,17.252,90.0,90.0,90.0  \n",
       "\n",
       "[73 rows x 6 columns]"
      ]
     },
     "execution_count": 2,
     "metadata": {},
     "output_type": "execute_result"
    }
   ],
   "source": [
    "df = pd.read_csv(\"output/space_groups.csv\", sep=\" \")\n",
    "df"
   ]
  },
  {
   "cell_type": "markdown",
   "metadata": {},
   "source": [
    "# Triclinic vs Monoclinic"
   ]
  },
  {
   "cell_type": "code",
   "execution_count": 28,
   "metadata": {},
   "outputs": [
    {
     "name": "stdout",
     "output_type": "stream",
     "text": [
      "Least common multiple: 8\n"
     ]
    }
   ],
   "source": [
    "crystal_system_1: str = 'Triclinic'\n",
    "crystal_system_2: str = 'Monoclinic'\n",
    "\n",
    "space_groups_1: np.ndarray = df.loc[df['Crystal System'] == crystal_system_1]['Space Group'].unique()\n",
    "space_groups_2: np.ndarray = df.loc[df['Crystal System'] == crystal_system_2]['Space Group'].unique()\n",
    "\n",
    "random_space_group_index: np.ndarray = np.random.randint(low = 0, high = len(space_groups_1), size = 1, dtype = int)[0]\n",
    "space_group_1: int = space_groups_1[random_space_group_index]\n",
    "\n",
    "random_space_group_index: np.ndarray = np.random.randint(low = 0, high = len(space_groups_2), size = 1, dtype = int)[0]\n",
    "space_group_2: int = space_groups_2[random_space_group_index]\n",
    "\n",
    "row_1 = df.loc[df['Space Group'] == space_group_1]\n",
    "row_2 = df.loc[df['Space Group'] == space_group_2]\n",
    "\n",
    "group_order_1: int = row_1['Group Order'].values[0]\n",
    "group_order_2: int = row_2['Group Order'].values[0]\n",
    "\n",
    "least_common_multiple: int = lcm(group_order_1, group_order_2)\n",
    "print(f'Least common multiple: {least_common_multiple}')\n",
    "\n",
    "crystal_dict = {}\n",
    "n = 48"
   ]
  },
  {
   "cell_type": "code",
   "execution_count": 30,
   "metadata": {},
   "outputs": [
    {
     "name": "stderr",
     "output_type": "stream",
     "text": [
      "100%|██████████| 50/50 [00:00<00:00, 84.45it/s]\n"
     ]
    }
   ],
   "source": [
    "symmetries: list = row_1['Symmetries'].values[0].split(sep=\";\")\n",
    "symmetries: List[Symmetry] = [Symmetry(sym) for sym in symmetries]\n",
    "\n",
    "unit_cell: List[str] = row_1['Unit Cell'].values[0].split(sep=\",\")\n",
    "unit_cell: UnitCell = UnitCell(*[float(x) for x in unit_cell])\n",
    "normalised_unit_cell: UnitCell = unit_cell.normalise()\n",
    "\n",
    "normalising_constant: float = unit_cell.normalising_constant\n",
    "k = least_common_multiple // group_order_1\n",
    "if least_common_multiple < n:\n",
    "    k *= (n // least_common_multiple)\n",
    "\n",
    "rips = Rips(maxdim=2, verbose=False)\n",
    "\n",
    "for _ in tqdm(range(50)):\n",
    "    random_crystal: RandomCrystal = RandomCrystal(symmetries, k)\n",
    "    positional_coordinates: PositionalCoordinateList = random_crystal.fractional_coordinates.orthogonalise(unit_cell)\n",
    "    normalised_positional_coordinates: PositionalCoordinateList = positional_coordinates.normalise(normalising_constant)\n",
    "\n",
    "    distance_matrix: np.ndarray = normalised_positional_coordinates.calculate_distance_matrix(normalised_unit_cell, boundary_conditions=True)\n",
    "    persistence = rips.fit_transform(X = distance_matrix, distance_matrix=True)\n",
    "\n",
    "    for dim, intervals in enumerate(persistence):\n",
    "        persistence[dim] = np.array(list(filter(lambda i: i[1] < float('inf'), intervals)))\n",
    "\n",
    "    crystal_dict[f'{space_group_1}_{_+1}'] = {\n",
    "        'system': crystal_system_1,\n",
    "        'persistence': persistence\n",
    "    }"
   ]
  },
  {
   "cell_type": "code",
   "execution_count": 31,
   "metadata": {},
   "outputs": [
    {
     "name": "stderr",
     "output_type": "stream",
     "text": [
      "100%|██████████| 50/50 [00:00<00:00, 70.12it/s]\n"
     ]
    }
   ],
   "source": [
    "symmetries: list = row_2['Symmetries'].values[0].split(sep=\";\")\n",
    "symmetries: List[Symmetry] = [Symmetry(sym) for sym in symmetries]\n",
    "\n",
    "unit_cell: List[str] = row_2['Unit Cell'].values[0].split(sep=\",\")\n",
    "unit_cell: UnitCell = UnitCell(*[float(x) for x in unit_cell])\n",
    "normalised_unit_cell: UnitCell = unit_cell.normalise()\n",
    "\n",
    "normalising_constant: float = unit_cell.normalising_constant\n",
    "k = least_common_multiple // group_order_2\n",
    "if least_common_multiple < n:\n",
    "    k *= (n // least_common_multiple)\n",
    "\n",
    "rips = Rips(maxdim=2, verbose=False)\n",
    "\n",
    "for _ in tqdm(range(50)):\n",
    "    random_crystal: RandomCrystal = RandomCrystal(symmetries, k)\n",
    "    positional_coordinates: PositionalCoordinateList = random_crystal.fractional_coordinates.orthogonalise(unit_cell)\n",
    "    normalised_positional_coordinates: PositionalCoordinateList = positional_coordinates.normalise(normalising_constant)\n",
    "\n",
    "    distance_matrix: np.ndarray = normalised_positional_coordinates.calculate_distance_matrix(normalised_unit_cell, boundary_conditions=True)\n",
    "    persistence = rips.fit_transform(X = distance_matrix, distance_matrix=True)\n",
    "\n",
    "    for dim, intervals in enumerate(persistence):\n",
    "        persistence[dim] = np.array(list(filter(lambda i: i[1] < float('inf'), intervals)))\n",
    "\n",
    "    crystal_dict[f'{space_group_2}_{_+1}'] = {\n",
    "        'system': crystal_system_2,\n",
    "        'persistence': persistence\n",
    "    }"
   ]
  },
  {
   "cell_type": "code",
   "execution_count": 32,
   "metadata": {},
   "outputs": [
    {
     "name": "stderr",
     "output_type": "stream",
     "text": [
      "100%|██████████| 100/100 [00:01<00:00, 53.21it/s]\n",
      "100%|██████████| 100/100 [00:01<00:00, 70.73it/s]\n",
      "100%|██████████| 100/100 [00:01<00:00, 85.57it/s]\n"
     ]
    }
   ],
   "source": [
    "distance_matrix_0 = wasserstein_distance_matrix(crystal_dict, 0)\n",
    "distance_matrix_1 = wasserstein_distance_matrix(crystal_dict, 1)\n",
    "distance_matrix_2 = wasserstein_distance_matrix(crystal_dict, 2)\n",
    "\n",
    "distance_matrix: np.ndarray = np.maximum.reduce([distance_matrix_0, distance_matrix_1, distance_matrix_2])"
   ]
  },
  {
   "cell_type": "code",
   "execution_count": 34,
   "metadata": {},
   "outputs": [
    {
     "data": {
      "text/html": [
       "<div>\n",
       "<style scoped>\n",
       "    .dataframe tbody tr th:only-of-type {\n",
       "        vertical-align: middle;\n",
       "    }\n",
       "\n",
       "    .dataframe tbody tr th {\n",
       "        vertical-align: top;\n",
       "    }\n",
       "\n",
       "    .dataframe thead th {\n",
       "        text-align: right;\n",
       "    }\n",
       "</style>\n",
       "<table border=\"1\" class=\"dataframe\">\n",
       "  <thead>\n",
       "    <tr style=\"text-align: right;\">\n",
       "      <th></th>\n",
       "      <th>1</th>\n",
       "      <th>2</th>\n",
       "      <th>3</th>\n",
       "      <th>4</th>\n",
       "      <th>5</th>\n",
       "      <th>Crystal System</th>\n",
       "      <th>Name</th>\n",
       "    </tr>\n",
       "  </thead>\n",
       "  <tbody>\n",
       "    <tr>\n",
       "      <th>0</th>\n",
       "      <td>0.165199</td>\n",
       "      <td>0.328322</td>\n",
       "      <td>-0.021521</td>\n",
       "      <td>0.265744</td>\n",
       "      <td>0.413502</td>\n",
       "      <td>Triclinic</td>\n",
       "      <td>2_1</td>\n",
       "    </tr>\n",
       "    <tr>\n",
       "      <th>1</th>\n",
       "      <td>-0.745970</td>\n",
       "      <td>-0.015208</td>\n",
       "      <td>0.517209</td>\n",
       "      <td>0.344020</td>\n",
       "      <td>-0.108280</td>\n",
       "      <td>Triclinic</td>\n",
       "      <td>2_2</td>\n",
       "    </tr>\n",
       "    <tr>\n",
       "      <th>2</th>\n",
       "      <td>0.207066</td>\n",
       "      <td>0.275433</td>\n",
       "      <td>-0.138255</td>\n",
       "      <td>0.283340</td>\n",
       "      <td>0.203409</td>\n",
       "      <td>Triclinic</td>\n",
       "      <td>2_3</td>\n",
       "    </tr>\n",
       "    <tr>\n",
       "      <th>3</th>\n",
       "      <td>-0.468655</td>\n",
       "      <td>-0.310115</td>\n",
       "      <td>0.099062</td>\n",
       "      <td>-0.119628</td>\n",
       "      <td>-0.071538</td>\n",
       "      <td>Triclinic</td>\n",
       "      <td>2_4</td>\n",
       "    </tr>\n",
       "    <tr>\n",
       "      <th>4</th>\n",
       "      <td>-0.698286</td>\n",
       "      <td>-0.155939</td>\n",
       "      <td>0.909205</td>\n",
       "      <td>-0.048793</td>\n",
       "      <td>0.358443</td>\n",
       "      <td>Triclinic</td>\n",
       "      <td>2_5</td>\n",
       "    </tr>\n",
       "  </tbody>\n",
       "</table>\n",
       "</div>"
      ],
      "text/plain": [
       "          1         2         3         4         5 Crystal System Name\n",
       "0  0.165199  0.328322 -0.021521  0.265744  0.413502      Triclinic  2_1\n",
       "1 -0.745970 -0.015208  0.517209  0.344020 -0.108280      Triclinic  2_2\n",
       "2  0.207066  0.275433 -0.138255  0.283340  0.203409      Triclinic  2_3\n",
       "3 -0.468655 -0.310115  0.099062 -0.119628 -0.071538      Triclinic  2_4\n",
       "4 -0.698286 -0.155939  0.909205 -0.048793  0.358443      Triclinic  2_5"
      ]
     },
     "execution_count": 34,
     "metadata": {},
     "output_type": "execute_result"
    }
   ],
   "source": [
    "system = [v['system'] for v in crystal_dict.values()]\n",
    "crystals = list(crystal_dict.keys())\n",
    "\n",
    "n = 5\n",
    "mds = MDS(n_components=n, dissimilarity='precomputed', metric=True)\n",
    "embedding = mds.fit_transform(distance_matrix)\n",
    "\n",
    "embedding_df = pd.DataFrame(embedding, columns=[str(_+1) for _ in range(n)])\n",
    "embedding_df['Crystal System'] = system\n",
    "embedding_df['Name'] = crystals\n",
    "\n",
    "X = embedding\n",
    "y = embedding_df['Crystal System'].values\n",
    "\n",
    "X_train, X_test, y_train, y_test = train_test_split(X, y, test_size=0.3, random_state=42)\n",
    "\n",
    "embedding_df.head()"
   ]
  },
  {
   "cell_type": "code",
   "execution_count": 36,
   "metadata": {},
   "outputs": [
    {
     "name": "stdout",
     "output_type": "stream",
     "text": [
      "Accuracy: 0.93\n",
      "Classification Report:\n",
      "              precision    recall  f1-score   support\n",
      "\n",
      "   Triclinic       1.00      0.85      0.92        13\n",
      "  Monoclinic       0.89      1.00      0.94        17\n",
      "\n",
      "    accuracy                           0.93        30\n",
      "   macro avg       0.95      0.92      0.93        30\n",
      "weighted avg       0.94      0.93      0.93        30\n",
      "\n"
     ]
    }
   ],
   "source": [
    "clf = OneVsOneClassifier(SVC())\n",
    "clf.fit(X_train, y_train)\n",
    "\n",
    "y_pred = clf.predict(X_test)\n",
    "\n",
    "accuracy = accuracy_score(y_test, y_pred)\n",
    "print(f'Accuracy: {accuracy:.2f}')\n",
    "\n",
    "class_report = classification_report(y_test, y_pred, target_names = embedding_df['Crystal System'].unique())\n",
    "print('Classification Report:')\n",
    "print(class_report)"
   ]
  },
  {
   "cell_type": "markdown",
   "metadata": {},
   "source": [
    "# Triclinic vs Orthorhombic"
   ]
  },
  {
   "cell_type": "code",
   "execution_count": 38,
   "metadata": {},
   "outputs": [
    {
     "name": "stdout",
     "output_type": "stream",
     "text": [
      "Least common multiple: 16\n"
     ]
    }
   ],
   "source": [
    "crystal_system_1: str = 'Triclinic'\n",
    "crystal_system_2: str = 'Orthorhombic'\n",
    "\n",
    "space_groups_1: np.ndarray = df.loc[df['Crystal System'] == crystal_system_1]['Space Group'].unique()\n",
    "space_groups_2: np.ndarray = df.loc[df['Crystal System'] == crystal_system_2]['Space Group'].unique()\n",
    "\n",
    "random_space_group_index: np.ndarray = np.random.randint(low = 0, high = len(space_groups_1), size = 1, dtype = int)[0]\n",
    "space_group_1: int = space_groups_1[random_space_group_index]\n",
    "\n",
    "random_space_group_index: np.ndarray = np.random.randint(low = 0, high = len(space_groups_2), size = 1, dtype = int)[0]\n",
    "space_group_2: int = space_groups_2[random_space_group_index]\n",
    "\n",
    "row_1 = df.loc[df['Space Group'] == space_group_1]\n",
    "row_2 = df.loc[df['Space Group'] == space_group_2]\n",
    "\n",
    "group_order_1: int = row_1['Group Order'].values[0]\n",
    "group_order_2: int = row_2['Group Order'].values[0]\n",
    "\n",
    "least_common_multiple: int = lcm(group_order_1, group_order_2)\n",
    "print(f'Least common multiple: {least_common_multiple}')\n",
    "\n",
    "crystal_dict = {}\n",
    "n = 48"
   ]
  },
  {
   "cell_type": "code",
   "execution_count": 39,
   "metadata": {},
   "outputs": [
    {
     "name": "stderr",
     "output_type": "stream",
     "text": [
      "100%|██████████| 50/50 [00:00<00:00, 65.79it/s]\n"
     ]
    }
   ],
   "source": [
    "symmetries: list = row_1['Symmetries'].values[0].split(sep=\";\")\n",
    "symmetries: List[Symmetry] = [Symmetry(sym) for sym in symmetries]\n",
    "\n",
    "unit_cell: List[str] = row_1['Unit Cell'].values[0].split(sep=\",\")\n",
    "unit_cell: UnitCell = UnitCell(*[float(x) for x in unit_cell])\n",
    "normalised_unit_cell: UnitCell = unit_cell.normalise()\n",
    "\n",
    "normalising_constant: float = unit_cell.normalising_constant\n",
    "k = least_common_multiple // group_order_1\n",
    "if least_common_multiple < n:\n",
    "    k *= (n // least_common_multiple)\n",
    "\n",
    "rips = Rips(maxdim=2, verbose=False)\n",
    "\n",
    "for _ in tqdm(range(50)):\n",
    "    random_crystal: RandomCrystal = RandomCrystal(symmetries, k)\n",
    "    positional_coordinates: PositionalCoordinateList = random_crystal.fractional_coordinates.orthogonalise(unit_cell)\n",
    "    normalised_positional_coordinates: PositionalCoordinateList = positional_coordinates.normalise(normalising_constant)\n",
    "\n",
    "    distance_matrix: np.ndarray = normalised_positional_coordinates.calculate_distance_matrix(normalised_unit_cell, boundary_conditions=True)\n",
    "    persistence = rips.fit_transform(X = distance_matrix, distance_matrix=True)\n",
    "\n",
    "    for dim, intervals in enumerate(persistence):\n",
    "        persistence[dim] = np.array(list(filter(lambda i: i[1] < float('inf'), intervals)))\n",
    "\n",
    "    crystal_dict[f'{space_group_1}_{_+1}'] = {\n",
    "        'system': crystal_system_1,\n",
    "        'persistence': persistence\n",
    "    }"
   ]
  },
  {
   "cell_type": "code",
   "execution_count": 40,
   "metadata": {},
   "outputs": [
    {
     "name": "stderr",
     "output_type": "stream",
     "text": [
      "100%|██████████| 50/50 [00:00<00:00, 52.88it/s]\n"
     ]
    }
   ],
   "source": [
    "symmetries: list = row_2['Symmetries'].values[0].split(sep=\";\")\n",
    "symmetries: List[Symmetry] = [Symmetry(sym) for sym in symmetries]\n",
    "\n",
    "unit_cell: List[str] = row_2['Unit Cell'].values[0].split(sep=\",\")\n",
    "unit_cell: UnitCell = UnitCell(*[float(x) for x in unit_cell])\n",
    "normalised_unit_cell: UnitCell = unit_cell.normalise()\n",
    "\n",
    "normalising_constant: float = unit_cell.normalising_constant\n",
    "k = least_common_multiple // group_order_2\n",
    "if least_common_multiple < n:\n",
    "    k *= (n // least_common_multiple)\n",
    "\n",
    "rips = Rips(maxdim=2, verbose=False)\n",
    "\n",
    "for _ in tqdm(range(50)):\n",
    "    random_crystal: RandomCrystal = RandomCrystal(symmetries, k)\n",
    "    positional_coordinates: PositionalCoordinateList = random_crystal.fractional_coordinates.orthogonalise(unit_cell)\n",
    "    normalised_positional_coordinates: PositionalCoordinateList = positional_coordinates.normalise(normalising_constant)\n",
    "\n",
    "    distance_matrix: np.ndarray = normalised_positional_coordinates.calculate_distance_matrix(normalised_unit_cell, boundary_conditions=True)\n",
    "    persistence = rips.fit_transform(X = distance_matrix, distance_matrix=True)\n",
    "\n",
    "    for dim, intervals in enumerate(persistence):\n",
    "        persistence[dim] = np.array(list(filter(lambda i: i[1] < float('inf'), intervals)))\n",
    "\n",
    "    crystal_dict[f'{space_group_2}_{_+1}'] = {\n",
    "        'system': crystal_system_2,\n",
    "        'persistence': persistence\n",
    "    }"
   ]
  },
  {
   "cell_type": "code",
   "execution_count": 41,
   "metadata": {},
   "outputs": [
    {
     "name": "stderr",
     "output_type": "stream",
     "text": [
      "100%|██████████| 100/100 [00:02<00:00, 49.53it/s]\n",
      "100%|██████████| 100/100 [00:01<00:00, 57.84it/s]\n",
      "100%|██████████| 100/100 [00:01<00:00, 83.31it/s]\n"
     ]
    }
   ],
   "source": [
    "distance_matrix_0 = wasserstein_distance_matrix(crystal_dict, 0)\n",
    "distance_matrix_1 = wasserstein_distance_matrix(crystal_dict, 1)\n",
    "distance_matrix_2 = wasserstein_distance_matrix(crystal_dict, 2)\n",
    "\n",
    "distance_matrix: np.ndarray = np.maximum.reduce([distance_matrix_0, distance_matrix_1, distance_matrix_2])"
   ]
  },
  {
   "cell_type": "code",
   "execution_count": 42,
   "metadata": {},
   "outputs": [
    {
     "data": {
      "text/html": [
       "<div>\n",
       "<style scoped>\n",
       "    .dataframe tbody tr th:only-of-type {\n",
       "        vertical-align: middle;\n",
       "    }\n",
       "\n",
       "    .dataframe tbody tr th {\n",
       "        vertical-align: top;\n",
       "    }\n",
       "\n",
       "    .dataframe thead th {\n",
       "        text-align: right;\n",
       "    }\n",
       "</style>\n",
       "<table border=\"1\" class=\"dataframe\">\n",
       "  <thead>\n",
       "    <tr style=\"text-align: right;\">\n",
       "      <th></th>\n",
       "      <th>1</th>\n",
       "      <th>2</th>\n",
       "      <th>3</th>\n",
       "      <th>4</th>\n",
       "      <th>5</th>\n",
       "      <th>Crystal System</th>\n",
       "      <th>Name</th>\n",
       "    </tr>\n",
       "  </thead>\n",
       "  <tbody>\n",
       "    <tr>\n",
       "      <th>0</th>\n",
       "      <td>0.585855</td>\n",
       "      <td>0.238950</td>\n",
       "      <td>0.428096</td>\n",
       "      <td>0.485877</td>\n",
       "      <td>-0.055643</td>\n",
       "      <td>Triclinic</td>\n",
       "      <td>2_1</td>\n",
       "    </tr>\n",
       "    <tr>\n",
       "      <th>1</th>\n",
       "      <td>0.307327</td>\n",
       "      <td>-0.232716</td>\n",
       "      <td>1.070425</td>\n",
       "      <td>0.095646</td>\n",
       "      <td>-0.211679</td>\n",
       "      <td>Triclinic</td>\n",
       "      <td>2_2</td>\n",
       "    </tr>\n",
       "    <tr>\n",
       "      <th>2</th>\n",
       "      <td>0.424325</td>\n",
       "      <td>-0.206865</td>\n",
       "      <td>0.215732</td>\n",
       "      <td>0.101424</td>\n",
       "      <td>-0.118018</td>\n",
       "      <td>Triclinic</td>\n",
       "      <td>2_3</td>\n",
       "    </tr>\n",
       "    <tr>\n",
       "      <th>3</th>\n",
       "      <td>0.053621</td>\n",
       "      <td>-0.281255</td>\n",
       "      <td>0.878031</td>\n",
       "      <td>-0.046780</td>\n",
       "      <td>0.314145</td>\n",
       "      <td>Triclinic</td>\n",
       "      <td>2_4</td>\n",
       "    </tr>\n",
       "    <tr>\n",
       "      <th>4</th>\n",
       "      <td>0.214511</td>\n",
       "      <td>0.518470</td>\n",
       "      <td>0.863395</td>\n",
       "      <td>0.278534</td>\n",
       "      <td>-0.109135</td>\n",
       "      <td>Triclinic</td>\n",
       "      <td>2_5</td>\n",
       "    </tr>\n",
       "  </tbody>\n",
       "</table>\n",
       "</div>"
      ],
      "text/plain": [
       "          1         2         3         4         5 Crystal System Name\n",
       "0  0.585855  0.238950  0.428096  0.485877 -0.055643      Triclinic  2_1\n",
       "1  0.307327 -0.232716  1.070425  0.095646 -0.211679      Triclinic  2_2\n",
       "2  0.424325 -0.206865  0.215732  0.101424 -0.118018      Triclinic  2_3\n",
       "3  0.053621 -0.281255  0.878031 -0.046780  0.314145      Triclinic  2_4\n",
       "4  0.214511  0.518470  0.863395  0.278534 -0.109135      Triclinic  2_5"
      ]
     },
     "execution_count": 42,
     "metadata": {},
     "output_type": "execute_result"
    }
   ],
   "source": [
    "system = [v['system'] for v in crystal_dict.values()]\n",
    "crystals = list(crystal_dict.keys())\n",
    "\n",
    "n = 5\n",
    "mds = MDS(n_components=n, dissimilarity='precomputed', metric=True)\n",
    "embedding = mds.fit_transform(distance_matrix)\n",
    "\n",
    "embedding_df = pd.DataFrame(embedding, columns=[str(_+1) for _ in range(n)])\n",
    "embedding_df['Crystal System'] = system\n",
    "embedding_df['Name'] = crystals\n",
    "\n",
    "X = embedding\n",
    "y = embedding_df['Crystal System'].values\n",
    "\n",
    "X_train, X_test, y_train, y_test = train_test_split(X, y, test_size=0.3, random_state=42)\n",
    "\n",
    "embedding_df.head()"
   ]
  },
  {
   "cell_type": "code",
   "execution_count": 43,
   "metadata": {},
   "outputs": [
    {
     "name": "stdout",
     "output_type": "stream",
     "text": [
      "Accuracy: 0.97\n",
      "Classification Report:\n",
      "              precision    recall  f1-score   support\n",
      "\n",
      "   Triclinic       1.00      0.92      0.96        13\n",
      "Orthorhombic       0.94      1.00      0.97        17\n",
      "\n",
      "    accuracy                           0.97        30\n",
      "   macro avg       0.97      0.96      0.97        30\n",
      "weighted avg       0.97      0.97      0.97        30\n",
      "\n"
     ]
    }
   ],
   "source": [
    "clf = OneVsOneClassifier(SVC())\n",
    "clf.fit(X_train, y_train)\n",
    "\n",
    "y_pred = clf.predict(X_test)\n",
    "\n",
    "accuracy = accuracy_score(y_test, y_pred)\n",
    "print(f'Accuracy: {accuracy:.2f}')\n",
    "\n",
    "class_report = classification_report(y_test, y_pred, target_names = embedding_df['Crystal System'].unique())\n",
    "print('Classification Report:')\n",
    "print(class_report)"
   ]
  },
  {
   "cell_type": "markdown",
   "metadata": {},
   "source": [
    "# Triclinic vs Tetragonal"
   ]
  },
  {
   "cell_type": "code",
   "execution_count": 45,
   "metadata": {},
   "outputs": [
    {
     "name": "stdout",
     "output_type": "stream",
     "text": [
      "Least common multiple: 16\n"
     ]
    }
   ],
   "source": [
    "crystal_system_1: str = 'Triclinic'\n",
    "crystal_system_2: str = 'Tetragonal'\n",
    "\n",
    "space_groups_1: np.ndarray = df.loc[df['Crystal System'] == crystal_system_1]['Space Group'].unique()\n",
    "space_groups_2: np.ndarray = df.loc[df['Crystal System'] == crystal_system_2]['Space Group'].unique()\n",
    "\n",
    "random_space_group_index: np.ndarray = np.random.randint(low = 0, high = len(space_groups_1), size = 1, dtype = int)[0]\n",
    "space_group_1: int = space_groups_1[random_space_group_index]\n",
    "\n",
    "random_space_group_index: np.ndarray = np.random.randint(low = 0, high = len(space_groups_2), size = 1, dtype = int)[0]\n",
    "space_group_2: int = space_groups_2[random_space_group_index]\n",
    "\n",
    "row_1 = df.loc[df['Space Group'] == space_group_1]\n",
    "row_2 = df.loc[df['Space Group'] == space_group_2]\n",
    "\n",
    "group_order_1: int = row_1['Group Order'].values[0]\n",
    "group_order_2: int = row_2['Group Order'].values[0]\n",
    "\n",
    "least_common_multiple: int = lcm(group_order_1, group_order_2)\n",
    "print(f'Least common multiple: {least_common_multiple}')\n",
    "\n",
    "crystal_dict = {}\n",
    "n = 48"
   ]
  },
  {
   "cell_type": "code",
   "execution_count": 46,
   "metadata": {},
   "outputs": [
    {
     "name": "stderr",
     "output_type": "stream",
     "text": [
      "100%|██████████| 50/50 [00:00<00:00, 83.93it/s]\n"
     ]
    }
   ],
   "source": [
    "symmetries: list = row_1['Symmetries'].values[0].split(sep=\";\")\n",
    "symmetries: List[Symmetry] = [Symmetry(sym) for sym in symmetries]\n",
    "\n",
    "unit_cell: List[str] = row_1['Unit Cell'].values[0].split(sep=\",\")\n",
    "unit_cell: UnitCell = UnitCell(*[float(x) for x in unit_cell])\n",
    "normalised_unit_cell: UnitCell = unit_cell.normalise()\n",
    "\n",
    "normalising_constant: float = unit_cell.normalising_constant\n",
    "k = least_common_multiple // group_order_1\n",
    "if least_common_multiple < n:\n",
    "    k *= (n // least_common_multiple)\n",
    "\n",
    "rips = Rips(maxdim=2, verbose=False)\n",
    "\n",
    "for _ in tqdm(range(50)):\n",
    "    random_crystal: RandomCrystal = RandomCrystal(symmetries, k)\n",
    "    positional_coordinates: PositionalCoordinateList = random_crystal.fractional_coordinates.orthogonalise(unit_cell)\n",
    "    normalised_positional_coordinates: PositionalCoordinateList = positional_coordinates.normalise(normalising_constant)\n",
    "\n",
    "    distance_matrix: np.ndarray = normalised_positional_coordinates.calculate_distance_matrix(normalised_unit_cell, boundary_conditions=True)\n",
    "    persistence = rips.fit_transform(X = distance_matrix, distance_matrix=True)\n",
    "\n",
    "    for dim, intervals in enumerate(persistence):\n",
    "        persistence[dim] = np.array(list(filter(lambda i: i[1] < float('inf'), intervals)))\n",
    "\n",
    "    crystal_dict[f'{space_group_1}_{_+1}'] = {\n",
    "        'system': crystal_system_1,\n",
    "        'persistence': persistence\n",
    "    }"
   ]
  },
  {
   "cell_type": "code",
   "execution_count": 47,
   "metadata": {},
   "outputs": [
    {
     "name": "stderr",
     "output_type": "stream",
     "text": [
      "100%|██████████| 50/50 [00:01<00:00, 46.01it/s]\n"
     ]
    }
   ],
   "source": [
    "symmetries: list = row_2['Symmetries'].values[0].split(sep=\";\")\n",
    "symmetries: List[Symmetry] = [Symmetry(sym) for sym in symmetries]\n",
    "\n",
    "unit_cell: List[str] = row_2['Unit Cell'].values[0].split(sep=\",\")\n",
    "unit_cell: UnitCell = UnitCell(*[float(x) for x in unit_cell])\n",
    "normalised_unit_cell: UnitCell = unit_cell.normalise()\n",
    "\n",
    "normalising_constant: float = unit_cell.normalising_constant\n",
    "k = least_common_multiple // group_order_2\n",
    "if least_common_multiple < n:\n",
    "    k *= (n // least_common_multiple)\n",
    "\n",
    "rips = Rips(maxdim=2, verbose=False)\n",
    "\n",
    "for _ in tqdm(range(50)):\n",
    "    random_crystal: RandomCrystal = RandomCrystal(symmetries, k)\n",
    "    positional_coordinates: PositionalCoordinateList = random_crystal.fractional_coordinates.orthogonalise(unit_cell)\n",
    "    normalised_positional_coordinates: PositionalCoordinateList = positional_coordinates.normalise(normalising_constant)\n",
    "\n",
    "    distance_matrix: np.ndarray = normalised_positional_coordinates.calculate_distance_matrix(normalised_unit_cell, boundary_conditions=True)\n",
    "    persistence = rips.fit_transform(X = distance_matrix, distance_matrix=True)\n",
    "\n",
    "    for dim, intervals in enumerate(persistence):\n",
    "        persistence[dim] = np.array(list(filter(lambda i: i[1] < float('inf'), intervals)))\n",
    "\n",
    "    crystal_dict[f'{space_group_2}_{_+1}'] = {\n",
    "        'system': crystal_system_2,\n",
    "        'persistence': persistence\n",
    "    }"
   ]
  },
  {
   "cell_type": "code",
   "execution_count": 48,
   "metadata": {},
   "outputs": [
    {
     "name": "stderr",
     "output_type": "stream",
     "text": [
      "100%|██████████| 100/100 [00:02<00:00, 49.86it/s]\n",
      "100%|██████████| 100/100 [00:01<00:00, 62.46it/s]\n",
      "100%|██████████| 100/100 [00:01<00:00, 83.07it/s]\n"
     ]
    }
   ],
   "source": [
    "distance_matrix_0 = wasserstein_distance_matrix(crystal_dict, 0)\n",
    "distance_matrix_1 = wasserstein_distance_matrix(crystal_dict, 1)\n",
    "distance_matrix_2 = wasserstein_distance_matrix(crystal_dict, 2)\n",
    "\n",
    "distance_matrix: np.ndarray = np.maximum.reduce([distance_matrix_0, distance_matrix_1, distance_matrix_2])"
   ]
  },
  {
   "cell_type": "code",
   "execution_count": 49,
   "metadata": {},
   "outputs": [
    {
     "data": {
      "text/html": [
       "<div>\n",
       "<style scoped>\n",
       "    .dataframe tbody tr th:only-of-type {\n",
       "        vertical-align: middle;\n",
       "    }\n",
       "\n",
       "    .dataframe tbody tr th {\n",
       "        vertical-align: top;\n",
       "    }\n",
       "\n",
       "    .dataframe thead th {\n",
       "        text-align: right;\n",
       "    }\n",
       "</style>\n",
       "<table border=\"1\" class=\"dataframe\">\n",
       "  <thead>\n",
       "    <tr style=\"text-align: right;\">\n",
       "      <th></th>\n",
       "      <th>1</th>\n",
       "      <th>2</th>\n",
       "      <th>3</th>\n",
       "      <th>4</th>\n",
       "      <th>5</th>\n",
       "      <th>Crystal System</th>\n",
       "      <th>Name</th>\n",
       "    </tr>\n",
       "  </thead>\n",
       "  <tbody>\n",
       "    <tr>\n",
       "      <th>0</th>\n",
       "      <td>-0.038503</td>\n",
       "      <td>-0.575677</td>\n",
       "      <td>1.078584</td>\n",
       "      <td>-0.151951</td>\n",
       "      <td>-0.297590</td>\n",
       "      <td>Triclinic</td>\n",
       "      <td>2_1</td>\n",
       "    </tr>\n",
       "    <tr>\n",
       "      <th>1</th>\n",
       "      <td>0.136689</td>\n",
       "      <td>-0.014051</td>\n",
       "      <td>0.861820</td>\n",
       "      <td>-0.131622</td>\n",
       "      <td>-0.105085</td>\n",
       "      <td>Triclinic</td>\n",
       "      <td>2_2</td>\n",
       "    </tr>\n",
       "    <tr>\n",
       "      <th>2</th>\n",
       "      <td>-0.474189</td>\n",
       "      <td>-0.497811</td>\n",
       "      <td>0.962369</td>\n",
       "      <td>0.318611</td>\n",
       "      <td>-0.602825</td>\n",
       "      <td>Triclinic</td>\n",
       "      <td>2_3</td>\n",
       "    </tr>\n",
       "    <tr>\n",
       "      <th>3</th>\n",
       "      <td>-0.227290</td>\n",
       "      <td>-0.290583</td>\n",
       "      <td>0.953831</td>\n",
       "      <td>-0.284974</td>\n",
       "      <td>-0.302349</td>\n",
       "      <td>Triclinic</td>\n",
       "      <td>2_4</td>\n",
       "    </tr>\n",
       "    <tr>\n",
       "      <th>4</th>\n",
       "      <td>0.201455</td>\n",
       "      <td>0.093092</td>\n",
       "      <td>0.895028</td>\n",
       "      <td>0.209212</td>\n",
       "      <td>-0.214282</td>\n",
       "      <td>Triclinic</td>\n",
       "      <td>2_5</td>\n",
       "    </tr>\n",
       "  </tbody>\n",
       "</table>\n",
       "</div>"
      ],
      "text/plain": [
       "          1         2         3         4         5 Crystal System Name\n",
       "0 -0.038503 -0.575677  1.078584 -0.151951 -0.297590      Triclinic  2_1\n",
       "1  0.136689 -0.014051  0.861820 -0.131622 -0.105085      Triclinic  2_2\n",
       "2 -0.474189 -0.497811  0.962369  0.318611 -0.602825      Triclinic  2_3\n",
       "3 -0.227290 -0.290583  0.953831 -0.284974 -0.302349      Triclinic  2_4\n",
       "4  0.201455  0.093092  0.895028  0.209212 -0.214282      Triclinic  2_5"
      ]
     },
     "execution_count": 49,
     "metadata": {},
     "output_type": "execute_result"
    }
   ],
   "source": [
    "system = [v['system'] for v in crystal_dict.values()]\n",
    "crystals = list(crystal_dict.keys())\n",
    "\n",
    "n = 5\n",
    "mds = MDS(n_components=n, dissimilarity='precomputed', metric=True)\n",
    "embedding = mds.fit_transform(distance_matrix)\n",
    "\n",
    "embedding_df = pd.DataFrame(embedding, columns=[str(_+1) for _ in range(n)])\n",
    "embedding_df['Crystal System'] = system\n",
    "embedding_df['Name'] = crystals\n",
    "\n",
    "X = embedding\n",
    "y = embedding_df['Crystal System'].values\n",
    "\n",
    "X_train, X_test, y_train, y_test = train_test_split(X, y, test_size=0.3, random_state=42)\n",
    "\n",
    "embedding_df.head()"
   ]
  },
  {
   "cell_type": "code",
   "execution_count": 50,
   "metadata": {},
   "outputs": [
    {
     "name": "stdout",
     "output_type": "stream",
     "text": [
      "Accuracy: 0.90\n",
      "Classification Report:\n",
      "              precision    recall  f1-score   support\n",
      "\n",
      "   Triclinic       1.00      0.77      0.87        13\n",
      "  Tetragonal       0.85      1.00      0.92        17\n",
      "\n",
      "    accuracy                           0.90        30\n",
      "   macro avg       0.93      0.88      0.89        30\n",
      "weighted avg       0.91      0.90      0.90        30\n",
      "\n"
     ]
    }
   ],
   "source": [
    "clf = OneVsOneClassifier(SVC())\n",
    "clf.fit(X_train, y_train)\n",
    "\n",
    "y_pred = clf.predict(X_test)\n",
    "\n",
    "accuracy = accuracy_score(y_test, y_pred)\n",
    "print(f'Accuracy: {accuracy:.2f}')\n",
    "\n",
    "class_report = classification_report(y_test, y_pred, target_names = embedding_df['Crystal System'].unique())\n",
    "print('Classification Report:')\n",
    "print(class_report)"
   ]
  },
  {
   "cell_type": "markdown",
   "metadata": {},
   "source": [
    "# Triclinic vs Trigonal"
   ]
  },
  {
   "cell_type": "code",
   "execution_count": 57,
   "metadata": {},
   "outputs": [
    {
     "name": "stdout",
     "output_type": "stream",
     "text": [
      "Least common multiple: 36\n"
     ]
    }
   ],
   "source": [
    "crystal_system_1: str = 'Triclinic'\n",
    "crystal_system_2: str = 'Trigonal'\n",
    "\n",
    "space_groups_1: np.ndarray = df.loc[df['Crystal System'] == crystal_system_1]['Space Group'].unique()\n",
    "space_groups_2: np.ndarray = df.loc[df['Crystal System'] == crystal_system_2]['Space Group'].unique()\n",
    "\n",
    "random_space_group_index: np.ndarray = np.random.randint(low = 0, high = len(space_groups_1), size = 1, dtype = int)[0]\n",
    "space_group_1: int = space_groups_1[random_space_group_index]\n",
    "\n",
    "random_space_group_index: np.ndarray = np.random.randint(low = 0, high = len(space_groups_2), size = 1, dtype = int)[0]\n",
    "space_group_2: int = space_groups_2[random_space_group_index]\n",
    "\n",
    "row_1 = df.loc[df['Space Group'] == space_group_1]\n",
    "row_2 = df.loc[df['Space Group'] == space_group_2]\n",
    "\n",
    "group_order_1: int = row_1['Group Order'].values[0]\n",
    "group_order_2: int = row_2['Group Order'].values[0]\n",
    "\n",
    "least_common_multiple: int = lcm(group_order_1, group_order_2)\n",
    "print(f'Least common multiple: {least_common_multiple}')\n",
    "\n",
    "crystal_dict = {}\n",
    "n = 48"
   ]
  },
  {
   "cell_type": "code",
   "execution_count": 58,
   "metadata": {},
   "outputs": [
    {
     "name": "stderr",
     "output_type": "stream",
     "text": [
      "100%|██████████| 50/50 [00:00<00:00, 159.59it/s]\n"
     ]
    }
   ],
   "source": [
    "symmetries: list = row_1['Symmetries'].values[0].split(sep=\";\")\n",
    "symmetries: List[Symmetry] = [Symmetry(sym) for sym in symmetries]\n",
    "\n",
    "unit_cell: List[str] = row_1['Unit Cell'].values[0].split(sep=\",\")\n",
    "unit_cell: UnitCell = UnitCell(*[float(x) for x in unit_cell])\n",
    "normalised_unit_cell: UnitCell = unit_cell.normalise()\n",
    "\n",
    "normalising_constant: float = unit_cell.normalising_constant\n",
    "k = least_common_multiple // group_order_1\n",
    "if least_common_multiple < n:\n",
    "    k *= (n // least_common_multiple)\n",
    "\n",
    "rips = Rips(maxdim=2, verbose=False)\n",
    "\n",
    "for _ in tqdm(range(50)):\n",
    "    random_crystal: RandomCrystal = RandomCrystal(symmetries, k)\n",
    "    positional_coordinates: PositionalCoordinateList = random_crystal.fractional_coordinates.orthogonalise(unit_cell)\n",
    "    normalised_positional_coordinates: PositionalCoordinateList = positional_coordinates.normalise(normalising_constant)\n",
    "\n",
    "    distance_matrix: np.ndarray = normalised_positional_coordinates.calculate_distance_matrix(normalised_unit_cell, boundary_conditions=True)\n",
    "    persistence = rips.fit_transform(X = distance_matrix, distance_matrix=True)\n",
    "\n",
    "    for dim, intervals in enumerate(persistence):\n",
    "        persistence[dim] = np.array(list(filter(lambda i: i[1] < float('inf'), intervals)))\n",
    "\n",
    "    crystal_dict[f'{space_group_1}_{_+1}'] = {\n",
    "        'system': crystal_system_1,\n",
    "        'persistence': persistence\n",
    "    }"
   ]
  },
  {
   "cell_type": "code",
   "execution_count": 59,
   "metadata": {},
   "outputs": [
    {
     "name": "stderr",
     "output_type": "stream",
     "text": [
      "100%|██████████| 50/50 [00:00<00:00, 59.90it/s]\n"
     ]
    }
   ],
   "source": [
    "symmetries: list = row_2['Symmetries'].values[0].split(sep=\";\")\n",
    "symmetries: List[Symmetry] = [Symmetry(sym) for sym in symmetries]\n",
    "\n",
    "unit_cell: List[str] = row_2['Unit Cell'].values[0].split(sep=\",\")\n",
    "unit_cell: UnitCell = UnitCell(*[float(x) for x in unit_cell])\n",
    "normalised_unit_cell: UnitCell = unit_cell.normalise()\n",
    "\n",
    "normalising_constant: float = unit_cell.normalising_constant\n",
    "k = least_common_multiple // group_order_2\n",
    "if least_common_multiple < n:\n",
    "    k *= (n // least_common_multiple)\n",
    "\n",
    "rips = Rips(maxdim=2, verbose=False)\n",
    "\n",
    "for _ in tqdm(range(50)):\n",
    "    random_crystal: RandomCrystal = RandomCrystal(symmetries, k)\n",
    "    positional_coordinates: PositionalCoordinateList = random_crystal.fractional_coordinates.orthogonalise(unit_cell)\n",
    "    normalised_positional_coordinates: PositionalCoordinateList = positional_coordinates.normalise(normalising_constant)\n",
    "\n",
    "    distance_matrix: np.ndarray = normalised_positional_coordinates.calculate_distance_matrix(normalised_unit_cell, boundary_conditions=True)\n",
    "    persistence = rips.fit_transform(X = distance_matrix, distance_matrix=True)\n",
    "\n",
    "    for dim, intervals in enumerate(persistence):\n",
    "        persistence[dim] = np.array(list(filter(lambda i: i[1] < float('inf'), intervals)))\n",
    "\n",
    "    crystal_dict[f'{space_group_2}_{_+1}'] = {\n",
    "        'system': crystal_system_2,\n",
    "        'persistence': persistence\n",
    "    }"
   ]
  },
  {
   "cell_type": "code",
   "execution_count": 60,
   "metadata": {},
   "outputs": [
    {
     "name": "stderr",
     "output_type": "stream",
     "text": [
      "100%|██████████| 100/100 [00:01<00:00, 61.23it/s]\n",
      "100%|██████████| 100/100 [00:01<00:00, 83.50it/s]\n",
      "100%|██████████| 100/100 [00:01<00:00, 90.80it/s]\n"
     ]
    }
   ],
   "source": [
    "distance_matrix_0 = wasserstein_distance_matrix(crystal_dict, 0)\n",
    "distance_matrix_1 = wasserstein_distance_matrix(crystal_dict, 1)\n",
    "distance_matrix_2 = wasserstein_distance_matrix(crystal_dict, 2)\n",
    "\n",
    "distance_matrix: np.ndarray = np.maximum.reduce([distance_matrix_0, distance_matrix_1, distance_matrix_2])"
   ]
  },
  {
   "cell_type": "code",
   "execution_count": 61,
   "metadata": {},
   "outputs": [
    {
     "data": {
      "text/html": [
       "<div>\n",
       "<style scoped>\n",
       "    .dataframe tbody tr th:only-of-type {\n",
       "        vertical-align: middle;\n",
       "    }\n",
       "\n",
       "    .dataframe tbody tr th {\n",
       "        vertical-align: top;\n",
       "    }\n",
       "\n",
       "    .dataframe thead th {\n",
       "        text-align: right;\n",
       "    }\n",
       "</style>\n",
       "<table border=\"1\" class=\"dataframe\">\n",
       "  <thead>\n",
       "    <tr style=\"text-align: right;\">\n",
       "      <th></th>\n",
       "      <th>1</th>\n",
       "      <th>2</th>\n",
       "      <th>3</th>\n",
       "      <th>4</th>\n",
       "      <th>5</th>\n",
       "      <th>Crystal System</th>\n",
       "      <th>Name</th>\n",
       "    </tr>\n",
       "  </thead>\n",
       "  <tbody>\n",
       "    <tr>\n",
       "      <th>0</th>\n",
       "      <td>-0.719584</td>\n",
       "      <td>-0.103654</td>\n",
       "      <td>-0.790742</td>\n",
       "      <td>-0.243752</td>\n",
       "      <td>-0.080248</td>\n",
       "      <td>Triclinic</td>\n",
       "      <td>2_1</td>\n",
       "    </tr>\n",
       "    <tr>\n",
       "      <th>1</th>\n",
       "      <td>-0.490912</td>\n",
       "      <td>0.008997</td>\n",
       "      <td>-0.587112</td>\n",
       "      <td>-0.517603</td>\n",
       "      <td>-0.166346</td>\n",
       "      <td>Triclinic</td>\n",
       "      <td>2_2</td>\n",
       "    </tr>\n",
       "    <tr>\n",
       "      <th>2</th>\n",
       "      <td>-0.933790</td>\n",
       "      <td>0.349426</td>\n",
       "      <td>-0.347401</td>\n",
       "      <td>-0.347485</td>\n",
       "      <td>0.395071</td>\n",
       "      <td>Triclinic</td>\n",
       "      <td>2_3</td>\n",
       "    </tr>\n",
       "    <tr>\n",
       "      <th>3</th>\n",
       "      <td>-0.839854</td>\n",
       "      <td>0.062510</td>\n",
       "      <td>-0.576279</td>\n",
       "      <td>-0.507213</td>\n",
       "      <td>-0.083270</td>\n",
       "      <td>Triclinic</td>\n",
       "      <td>2_4</td>\n",
       "    </tr>\n",
       "    <tr>\n",
       "      <th>4</th>\n",
       "      <td>-0.419921</td>\n",
       "      <td>0.264821</td>\n",
       "      <td>0.338313</td>\n",
       "      <td>-0.249635</td>\n",
       "      <td>0.113980</td>\n",
       "      <td>Triclinic</td>\n",
       "      <td>2_5</td>\n",
       "    </tr>\n",
       "  </tbody>\n",
       "</table>\n",
       "</div>"
      ],
      "text/plain": [
       "          1         2         3         4         5 Crystal System Name\n",
       "0 -0.719584 -0.103654 -0.790742 -0.243752 -0.080248      Triclinic  2_1\n",
       "1 -0.490912  0.008997 -0.587112 -0.517603 -0.166346      Triclinic  2_2\n",
       "2 -0.933790  0.349426 -0.347401 -0.347485  0.395071      Triclinic  2_3\n",
       "3 -0.839854  0.062510 -0.576279 -0.507213 -0.083270      Triclinic  2_4\n",
       "4 -0.419921  0.264821  0.338313 -0.249635  0.113980      Triclinic  2_5"
      ]
     },
     "execution_count": 61,
     "metadata": {},
     "output_type": "execute_result"
    }
   ],
   "source": [
    "system = [v['system'] for v in crystal_dict.values()]\n",
    "crystals = list(crystal_dict.keys())\n",
    "\n",
    "n = 5\n",
    "mds = MDS(n_components=n, dissimilarity='precomputed', metric=True)\n",
    "embedding = mds.fit_transform(distance_matrix)\n",
    "\n",
    "embedding_df = pd.DataFrame(embedding, columns=[str(_+1) for _ in range(n)])\n",
    "embedding_df['Crystal System'] = system\n",
    "embedding_df['Name'] = crystals\n",
    "\n",
    "X = embedding\n",
    "y = embedding_df['Crystal System'].values\n",
    "\n",
    "X_train, X_test, y_train, y_test = train_test_split(X, y, test_size=0.3, random_state=42)\n",
    "\n",
    "embedding_df.head()"
   ]
  },
  {
   "cell_type": "code",
   "execution_count": 62,
   "metadata": {},
   "outputs": [
    {
     "name": "stdout",
     "output_type": "stream",
     "text": [
      "Accuracy: 1.00\n",
      "Classification Report:\n",
      "              precision    recall  f1-score   support\n",
      "\n",
      "   Triclinic       1.00      1.00      1.00        17\n",
      "    Trigonal       1.00      1.00      1.00        13\n",
      "\n",
      "    accuracy                           1.00        30\n",
      "   macro avg       1.00      1.00      1.00        30\n",
      "weighted avg       1.00      1.00      1.00        30\n",
      "\n"
     ]
    }
   ],
   "source": [
    "clf = OneVsOneClassifier(SVC())\n",
    "clf.fit(X_train, y_train)\n",
    "\n",
    "y_pred = clf.predict(X_test)\n",
    "\n",
    "accuracy = accuracy_score(y_test, y_pred)\n",
    "print(f'Accuracy: {accuracy:.2f}')\n",
    "\n",
    "class_report = classification_report(y_test, y_pred, target_names = embedding_df['Crystal System'].unique())\n",
    "print('Classification Report:')\n",
    "print(class_report)"
   ]
  },
  {
   "cell_type": "markdown",
   "metadata": {},
   "source": [
    "# Triclinic vs Hexagonal"
   ]
  },
  {
   "cell_type": "code",
   "execution_count": 63,
   "metadata": {},
   "outputs": [
    {
     "name": "stdout",
     "output_type": "stream",
     "text": [
      "Least common multiple: 24\n"
     ]
    }
   ],
   "source": [
    "crystal_system_1: str = 'Triclinic'\n",
    "crystal_system_2: str = 'Hexagonal'\n",
    "\n",
    "space_groups_1: np.ndarray = df.loc[df['Crystal System'] == crystal_system_1]['Space Group'].unique()\n",
    "space_groups_2: np.ndarray = df.loc[df['Crystal System'] == crystal_system_2]['Space Group'].unique()\n",
    "\n",
    "random_space_group_index: np.ndarray = np.random.randint(low = 0, high = len(space_groups_1), size = 1, dtype = int)[0]\n",
    "space_group_1: int = space_groups_1[random_space_group_index]\n",
    "\n",
    "random_space_group_index: np.ndarray = np.random.randint(low = 0, high = len(space_groups_2), size = 1, dtype = int)[0]\n",
    "space_group_2: int = space_groups_2[random_space_group_index]\n",
    "\n",
    "row_1 = df.loc[df['Space Group'] == space_group_1]\n",
    "row_2 = df.loc[df['Space Group'] == space_group_2]\n",
    "\n",
    "group_order_1: int = row_1['Group Order'].values[0]\n",
    "group_order_2: int = row_2['Group Order'].values[0]\n",
    "\n",
    "least_common_multiple: int = lcm(group_order_1, group_order_2)\n",
    "print(f'Least common multiple: {least_common_multiple}')\n",
    "\n",
    "crystal_dict = {}\n",
    "n = 48"
   ]
  },
  {
   "cell_type": "code",
   "execution_count": 64,
   "metadata": {},
   "outputs": [
    {
     "name": "stderr",
     "output_type": "stream",
     "text": [
      "100%|██████████| 50/50 [00:00<00:00, 86.58it/s]\n"
     ]
    }
   ],
   "source": [
    "symmetries: list = row_1['Symmetries'].values[0].split(sep=\";\")\n",
    "symmetries: List[Symmetry] = [Symmetry(sym) for sym in symmetries]\n",
    "\n",
    "unit_cell: List[str] = row_1['Unit Cell'].values[0].split(sep=\",\")\n",
    "unit_cell: UnitCell = UnitCell(*[float(x) for x in unit_cell])\n",
    "normalised_unit_cell: UnitCell = unit_cell.normalise()\n",
    "\n",
    "normalising_constant: float = unit_cell.normalising_constant\n",
    "k = least_common_multiple // group_order_1\n",
    "if least_common_multiple < n:\n",
    "    k *= (n // least_common_multiple)\n",
    "\n",
    "rips = Rips(maxdim=2, verbose=False)\n",
    "\n",
    "for _ in tqdm(range(50)):\n",
    "    random_crystal: RandomCrystal = RandomCrystal(symmetries, k)\n",
    "    positional_coordinates: PositionalCoordinateList = random_crystal.fractional_coordinates.orthogonalise(unit_cell)\n",
    "    normalised_positional_coordinates: PositionalCoordinateList = positional_coordinates.normalise(normalising_constant)\n",
    "\n",
    "    distance_matrix: np.ndarray = normalised_positional_coordinates.calculate_distance_matrix(normalised_unit_cell, boundary_conditions=True)\n",
    "    persistence = rips.fit_transform(X = distance_matrix, distance_matrix=True)\n",
    "\n",
    "    for dim, intervals in enumerate(persistence):\n",
    "        persistence[dim] = np.array(list(filter(lambda i: i[1] < float('inf'), intervals)))\n",
    "\n",
    "    crystal_dict[f'{space_group_1}_{_+1}'] = {\n",
    "        'system': crystal_system_1,\n",
    "        'persistence': persistence\n",
    "    }"
   ]
  },
  {
   "cell_type": "code",
   "execution_count": 65,
   "metadata": {},
   "outputs": [
    {
     "name": "stderr",
     "output_type": "stream",
     "text": [
      "100%|██████████| 50/50 [00:01<00:00, 47.78it/s]\n"
     ]
    }
   ],
   "source": [
    "symmetries: list = row_2['Symmetries'].values[0].split(sep=\";\")\n",
    "symmetries: List[Symmetry] = [Symmetry(sym) for sym in symmetries]\n",
    "\n",
    "unit_cell: List[str] = row_2['Unit Cell'].values[0].split(sep=\",\")\n",
    "unit_cell: UnitCell = UnitCell(*[float(x) for x in unit_cell])\n",
    "normalised_unit_cell: UnitCell = unit_cell.normalise()\n",
    "\n",
    "normalising_constant: float = unit_cell.normalising_constant\n",
    "k = least_common_multiple // group_order_2\n",
    "if least_common_multiple < n:\n",
    "    k *= (n // least_common_multiple)\n",
    "\n",
    "rips = Rips(maxdim=2, verbose=False)\n",
    "\n",
    "for _ in tqdm(range(50)):\n",
    "    random_crystal: RandomCrystal = RandomCrystal(symmetries, k)\n",
    "    positional_coordinates: PositionalCoordinateList = random_crystal.fractional_coordinates.orthogonalise(unit_cell)\n",
    "    normalised_positional_coordinates: PositionalCoordinateList = positional_coordinates.normalise(normalising_constant)\n",
    "\n",
    "    distance_matrix: np.ndarray = normalised_positional_coordinates.calculate_distance_matrix(normalised_unit_cell, boundary_conditions=True)\n",
    "    persistence = rips.fit_transform(X = distance_matrix, distance_matrix=True)\n",
    "\n",
    "    for dim, intervals in enumerate(persistence):\n",
    "        persistence[dim] = np.array(list(filter(lambda i: i[1] < float('inf'), intervals)))\n",
    "\n",
    "    crystal_dict[f'{space_group_2}_{_+1}'] = {\n",
    "        'system': crystal_system_2,\n",
    "        'persistence': persistence\n",
    "    }"
   ]
  },
  {
   "cell_type": "code",
   "execution_count": 66,
   "metadata": {},
   "outputs": [
    {
     "name": "stderr",
     "output_type": "stream",
     "text": [
      "100%|██████████| 100/100 [00:02<00:00, 48.20it/s]\n",
      "100%|██████████| 100/100 [00:01<00:00, 65.87it/s]\n",
      "100%|██████████| 100/100 [00:01<00:00, 85.70it/s]\n"
     ]
    }
   ],
   "source": [
    "distance_matrix_0 = wasserstein_distance_matrix(crystal_dict, 0)\n",
    "distance_matrix_1 = wasserstein_distance_matrix(crystal_dict, 1)\n",
    "distance_matrix_2 = wasserstein_distance_matrix(crystal_dict, 2)\n",
    "\n",
    "distance_matrix: np.ndarray = np.maximum.reduce([distance_matrix_0, distance_matrix_1, distance_matrix_2])"
   ]
  },
  {
   "cell_type": "code",
   "execution_count": 67,
   "metadata": {},
   "outputs": [
    {
     "data": {
      "text/html": [
       "<div>\n",
       "<style scoped>\n",
       "    .dataframe tbody tr th:only-of-type {\n",
       "        vertical-align: middle;\n",
       "    }\n",
       "\n",
       "    .dataframe tbody tr th {\n",
       "        vertical-align: top;\n",
       "    }\n",
       "\n",
       "    .dataframe thead th {\n",
       "        text-align: right;\n",
       "    }\n",
       "</style>\n",
       "<table border=\"1\" class=\"dataframe\">\n",
       "  <thead>\n",
       "    <tr style=\"text-align: right;\">\n",
       "      <th></th>\n",
       "      <th>1</th>\n",
       "      <th>2</th>\n",
       "      <th>3</th>\n",
       "      <th>4</th>\n",
       "      <th>5</th>\n",
       "      <th>Crystal System</th>\n",
       "      <th>Name</th>\n",
       "    </tr>\n",
       "  </thead>\n",
       "  <tbody>\n",
       "    <tr>\n",
       "      <th>0</th>\n",
       "      <td>0.655634</td>\n",
       "      <td>0.295137</td>\n",
       "      <td>0.068082</td>\n",
       "      <td>-0.628344</td>\n",
       "      <td>1.018221</td>\n",
       "      <td>Triclinic</td>\n",
       "      <td>2_1</td>\n",
       "    </tr>\n",
       "    <tr>\n",
       "      <th>1</th>\n",
       "      <td>-0.041008</td>\n",
       "      <td>0.015500</td>\n",
       "      <td>0.494180</td>\n",
       "      <td>-1.270732</td>\n",
       "      <td>0.655032</td>\n",
       "      <td>Triclinic</td>\n",
       "      <td>2_2</td>\n",
       "    </tr>\n",
       "    <tr>\n",
       "      <th>2</th>\n",
       "      <td>0.602528</td>\n",
       "      <td>-0.072387</td>\n",
       "      <td>0.042657</td>\n",
       "      <td>-1.051711</td>\n",
       "      <td>0.749787</td>\n",
       "      <td>Triclinic</td>\n",
       "      <td>2_3</td>\n",
       "    </tr>\n",
       "    <tr>\n",
       "      <th>3</th>\n",
       "      <td>-0.340024</td>\n",
       "      <td>-0.035990</td>\n",
       "      <td>0.632445</td>\n",
       "      <td>-0.349320</td>\n",
       "      <td>-0.083834</td>\n",
       "      <td>Triclinic</td>\n",
       "      <td>2_4</td>\n",
       "    </tr>\n",
       "    <tr>\n",
       "      <th>4</th>\n",
       "      <td>0.159580</td>\n",
       "      <td>-0.014740</td>\n",
       "      <td>-0.003095</td>\n",
       "      <td>-0.569111</td>\n",
       "      <td>1.006888</td>\n",
       "      <td>Triclinic</td>\n",
       "      <td>2_5</td>\n",
       "    </tr>\n",
       "  </tbody>\n",
       "</table>\n",
       "</div>"
      ],
      "text/plain": [
       "          1         2         3         4         5 Crystal System Name\n",
       "0  0.655634  0.295137  0.068082 -0.628344  1.018221      Triclinic  2_1\n",
       "1 -0.041008  0.015500  0.494180 -1.270732  0.655032      Triclinic  2_2\n",
       "2  0.602528 -0.072387  0.042657 -1.051711  0.749787      Triclinic  2_3\n",
       "3 -0.340024 -0.035990  0.632445 -0.349320 -0.083834      Triclinic  2_4\n",
       "4  0.159580 -0.014740 -0.003095 -0.569111  1.006888      Triclinic  2_5"
      ]
     },
     "execution_count": 67,
     "metadata": {},
     "output_type": "execute_result"
    }
   ],
   "source": [
    "system = [v['system'] for v in crystal_dict.values()]\n",
    "crystals = list(crystal_dict.keys())\n",
    "\n",
    "n = 5\n",
    "mds = MDS(n_components=n, dissimilarity='precomputed', metric=True)\n",
    "embedding = mds.fit_transform(distance_matrix)\n",
    "\n",
    "embedding_df = pd.DataFrame(embedding, columns=[str(_+1) for _ in range(n)])\n",
    "embedding_df['Crystal System'] = system\n",
    "embedding_df['Name'] = crystals\n",
    "\n",
    "X = embedding\n",
    "y = embedding_df['Crystal System'].values\n",
    "\n",
    "X_train, X_test, y_train, y_test = train_test_split(X, y, test_size=0.3, random_state=42)\n",
    "\n",
    "embedding_df.head()"
   ]
  },
  {
   "cell_type": "code",
   "execution_count": 68,
   "metadata": {},
   "outputs": [
    {
     "name": "stdout",
     "output_type": "stream",
     "text": [
      "Accuracy: 1.00\n",
      "Classification Report:\n",
      "              precision    recall  f1-score   support\n",
      "\n",
      "   Triclinic       1.00      1.00      1.00        13\n",
      "   Hexagonal       1.00      1.00      1.00        17\n",
      "\n",
      "    accuracy                           1.00        30\n",
      "   macro avg       1.00      1.00      1.00        30\n",
      "weighted avg       1.00      1.00      1.00        30\n",
      "\n"
     ]
    }
   ],
   "source": [
    "clf = OneVsOneClassifier(SVC())\n",
    "clf.fit(X_train, y_train)\n",
    "\n",
    "y_pred = clf.predict(X_test)\n",
    "\n",
    "accuracy = accuracy_score(y_test, y_pred)\n",
    "print(f'Accuracy: {accuracy:.2f}')\n",
    "\n",
    "class_report = classification_report(y_test, y_pred, target_names = embedding_df['Crystal System'].unique())\n",
    "print('Classification Report:')\n",
    "print(class_report)"
   ]
  },
  {
   "cell_type": "markdown",
   "metadata": {},
   "source": [
    "# Triclinic vs Cubic"
   ]
  },
  {
   "cell_type": "code",
   "execution_count": 69,
   "metadata": {},
   "outputs": [
    {
     "name": "stdout",
     "output_type": "stream",
     "text": [
      "Least common multiple: 24\n"
     ]
    }
   ],
   "source": [
    "crystal_system_1: str = 'Triclinic'\n",
    "crystal_system_2: str = 'Cubic'\n",
    "\n",
    "space_groups_1: np.ndarray = df.loc[df['Crystal System'] == crystal_system_1]['Space Group'].unique()\n",
    "space_groups_2: np.ndarray = df.loc[df['Crystal System'] == crystal_system_2]['Space Group'].unique()\n",
    "\n",
    "random_space_group_index: np.ndarray = np.random.randint(low = 0, high = len(space_groups_1), size = 1, dtype = int)[0]\n",
    "space_group_1: int = space_groups_1[random_space_group_index]\n",
    "\n",
    "random_space_group_index: np.ndarray = np.random.randint(low = 0, high = len(space_groups_2), size = 1, dtype = int)[0]\n",
    "space_group_2: int = space_groups_2[random_space_group_index]\n",
    "\n",
    "row_1 = df.loc[df['Space Group'] == space_group_1]\n",
    "row_2 = df.loc[df['Space Group'] == space_group_2]\n",
    "\n",
    "group_order_1: int = row_1['Group Order'].values[0]\n",
    "group_order_2: int = row_2['Group Order'].values[0]\n",
    "\n",
    "least_common_multiple: int = lcm(group_order_1, group_order_2)\n",
    "print(f'Least common multiple: {least_common_multiple}')\n",
    "\n",
    "crystal_dict = {}\n",
    "n = 48"
   ]
  },
  {
   "cell_type": "code",
   "execution_count": 70,
   "metadata": {},
   "outputs": [
    {
     "name": "stderr",
     "output_type": "stream",
     "text": [
      "100%|██████████| 50/50 [00:00<00:00, 72.77it/s]\n"
     ]
    }
   ],
   "source": [
    "symmetries: list = row_1['Symmetries'].values[0].split(sep=\";\")\n",
    "symmetries: List[Symmetry] = [Symmetry(sym) for sym in symmetries]\n",
    "\n",
    "unit_cell: List[str] = row_1['Unit Cell'].values[0].split(sep=\",\")\n",
    "unit_cell: UnitCell = UnitCell(*[float(x) for x in unit_cell])\n",
    "normalised_unit_cell: UnitCell = unit_cell.normalise()\n",
    "\n",
    "normalising_constant: float = unit_cell.normalising_constant\n",
    "k = least_common_multiple // group_order_1\n",
    "if least_common_multiple < n:\n",
    "    k *= (n // least_common_multiple)\n",
    "\n",
    "rips = Rips(maxdim=2, verbose=False)\n",
    "\n",
    "for _ in tqdm(range(50)):\n",
    "    random_crystal: RandomCrystal = RandomCrystal(symmetries, k)\n",
    "    positional_coordinates: PositionalCoordinateList = random_crystal.fractional_coordinates.orthogonalise(unit_cell)\n",
    "    normalised_positional_coordinates: PositionalCoordinateList = positional_coordinates.normalise(normalising_constant)\n",
    "\n",
    "    distance_matrix: np.ndarray = normalised_positional_coordinates.calculate_distance_matrix(normalised_unit_cell, boundary_conditions=True)\n",
    "    persistence = rips.fit_transform(X = distance_matrix, distance_matrix=True)\n",
    "\n",
    "    for dim, intervals in enumerate(persistence):\n",
    "        persistence[dim] = np.array(list(filter(lambda i: i[1] < float('inf'), intervals)))\n",
    "\n",
    "    crystal_dict[f'{space_group_1}_{_+1}'] = {\n",
    "        'system': crystal_system_1,\n",
    "        'persistence': persistence\n",
    "    }"
   ]
  },
  {
   "cell_type": "code",
   "execution_count": 71,
   "metadata": {},
   "outputs": [
    {
     "name": "stderr",
     "output_type": "stream",
     "text": [
      "100%|██████████| 50/50 [00:01<00:00, 36.61it/s]\n"
     ]
    }
   ],
   "source": [
    "symmetries: list = row_2['Symmetries'].values[0].split(sep=\";\")\n",
    "symmetries: List[Symmetry] = [Symmetry(sym) for sym in symmetries]\n",
    "\n",
    "unit_cell: List[str] = row_2['Unit Cell'].values[0].split(sep=\",\")\n",
    "unit_cell: UnitCell = UnitCell(*[float(x) for x in unit_cell])\n",
    "normalised_unit_cell: UnitCell = unit_cell.normalise()\n",
    "\n",
    "normalising_constant: float = unit_cell.normalising_constant\n",
    "k = least_common_multiple // group_order_2\n",
    "if least_common_multiple < n:\n",
    "    k *= (n // least_common_multiple)\n",
    "\n",
    "rips = Rips(maxdim=2, verbose=False)\n",
    "\n",
    "for _ in tqdm(range(50)):\n",
    "    random_crystal: RandomCrystal = RandomCrystal(symmetries, k)\n",
    "    positional_coordinates: PositionalCoordinateList = random_crystal.fractional_coordinates.orthogonalise(unit_cell)\n",
    "    normalised_positional_coordinates: PositionalCoordinateList = positional_coordinates.normalise(normalising_constant)\n",
    "\n",
    "    distance_matrix: np.ndarray = normalised_positional_coordinates.calculate_distance_matrix(normalised_unit_cell, boundary_conditions=True)\n",
    "    persistence = rips.fit_transform(X = distance_matrix, distance_matrix=True)\n",
    "\n",
    "    for dim, intervals in enumerate(persistence):\n",
    "        persistence[dim] = np.array(list(filter(lambda i: i[1] < float('inf'), intervals)))\n",
    "\n",
    "    crystal_dict[f'{space_group_2}_{_+1}'] = {\n",
    "        'system': crystal_system_2,\n",
    "        'persistence': persistence\n",
    "    }"
   ]
  },
  {
   "cell_type": "code",
   "execution_count": 72,
   "metadata": {},
   "outputs": [
    {
     "name": "stderr",
     "output_type": "stream",
     "text": [
      "100%|██████████| 100/100 [00:01<00:00, 56.92it/s]\n",
      "100%|██████████| 100/100 [00:01<00:00, 65.09it/s]\n",
      "100%|██████████| 100/100 [00:01<00:00, 74.04it/s]\n"
     ]
    }
   ],
   "source": [
    "distance_matrix_0 = wasserstein_distance_matrix(crystal_dict, 0)\n",
    "distance_matrix_1 = wasserstein_distance_matrix(crystal_dict, 1)\n",
    "distance_matrix_2 = wasserstein_distance_matrix(crystal_dict, 2)\n",
    "\n",
    "distance_matrix: np.ndarray = np.maximum.reduce([distance_matrix_0, distance_matrix_1, distance_matrix_2])"
   ]
  },
  {
   "cell_type": "code",
   "execution_count": 73,
   "metadata": {},
   "outputs": [
    {
     "data": {
      "text/html": [
       "<div>\n",
       "<style scoped>\n",
       "    .dataframe tbody tr th:only-of-type {\n",
       "        vertical-align: middle;\n",
       "    }\n",
       "\n",
       "    .dataframe tbody tr th {\n",
       "        vertical-align: top;\n",
       "    }\n",
       "\n",
       "    .dataframe thead th {\n",
       "        text-align: right;\n",
       "    }\n",
       "</style>\n",
       "<table border=\"1\" class=\"dataframe\">\n",
       "  <thead>\n",
       "    <tr style=\"text-align: right;\">\n",
       "      <th></th>\n",
       "      <th>1</th>\n",
       "      <th>2</th>\n",
       "      <th>3</th>\n",
       "      <th>4</th>\n",
       "      <th>5</th>\n",
       "      <th>Crystal System</th>\n",
       "      <th>Name</th>\n",
       "    </tr>\n",
       "  </thead>\n",
       "  <tbody>\n",
       "    <tr>\n",
       "      <th>0</th>\n",
       "      <td>0.374403</td>\n",
       "      <td>0.009753</td>\n",
       "      <td>-0.110494</td>\n",
       "      <td>0.371849</td>\n",
       "      <td>-0.244655</td>\n",
       "      <td>Triclinic</td>\n",
       "      <td>2_1</td>\n",
       "    </tr>\n",
       "    <tr>\n",
       "      <th>1</th>\n",
       "      <td>-0.151028</td>\n",
       "      <td>-0.415694</td>\n",
       "      <td>0.005568</td>\n",
       "      <td>-0.066634</td>\n",
       "      <td>0.204762</td>\n",
       "      <td>Triclinic</td>\n",
       "      <td>2_2</td>\n",
       "    </tr>\n",
       "    <tr>\n",
       "      <th>2</th>\n",
       "      <td>-0.243043</td>\n",
       "      <td>-0.351292</td>\n",
       "      <td>0.156409</td>\n",
       "      <td>0.005634</td>\n",
       "      <td>-0.620960</td>\n",
       "      <td>Triclinic</td>\n",
       "      <td>2_3</td>\n",
       "    </tr>\n",
       "    <tr>\n",
       "      <th>3</th>\n",
       "      <td>0.433591</td>\n",
       "      <td>0.023117</td>\n",
       "      <td>-0.042956</td>\n",
       "      <td>0.090754</td>\n",
       "      <td>-0.149337</td>\n",
       "      <td>Triclinic</td>\n",
       "      <td>2_4</td>\n",
       "    </tr>\n",
       "    <tr>\n",
       "      <th>4</th>\n",
       "      <td>-0.818204</td>\n",
       "      <td>0.117764</td>\n",
       "      <td>0.183034</td>\n",
       "      <td>-0.161103</td>\n",
       "      <td>0.114827</td>\n",
       "      <td>Triclinic</td>\n",
       "      <td>2_5</td>\n",
       "    </tr>\n",
       "  </tbody>\n",
       "</table>\n",
       "</div>"
      ],
      "text/plain": [
       "          1         2         3         4         5 Crystal System Name\n",
       "0  0.374403  0.009753 -0.110494  0.371849 -0.244655      Triclinic  2_1\n",
       "1 -0.151028 -0.415694  0.005568 -0.066634  0.204762      Triclinic  2_2\n",
       "2 -0.243043 -0.351292  0.156409  0.005634 -0.620960      Triclinic  2_3\n",
       "3  0.433591  0.023117 -0.042956  0.090754 -0.149337      Triclinic  2_4\n",
       "4 -0.818204  0.117764  0.183034 -0.161103  0.114827      Triclinic  2_5"
      ]
     },
     "execution_count": 73,
     "metadata": {},
     "output_type": "execute_result"
    }
   ],
   "source": [
    "system = [v['system'] for v in crystal_dict.values()]\n",
    "crystals = list(crystal_dict.keys())\n",
    "\n",
    "n = 5\n",
    "mds = MDS(n_components=n, dissimilarity='precomputed', metric=True)\n",
    "embedding = mds.fit_transform(distance_matrix)\n",
    "\n",
    "embedding_df = pd.DataFrame(embedding, columns=[str(_+1) for _ in range(n)])\n",
    "embedding_df['Crystal System'] = system\n",
    "embedding_df['Name'] = crystals\n",
    "\n",
    "X = embedding\n",
    "y = embedding_df['Crystal System'].values\n",
    "\n",
    "X_train, X_test, y_train, y_test = train_test_split(X, y, test_size=0.3, random_state=42)\n",
    "\n",
    "embedding_df.head()"
   ]
  },
  {
   "cell_type": "code",
   "execution_count": 74,
   "metadata": {},
   "outputs": [
    {
     "name": "stdout",
     "output_type": "stream",
     "text": [
      "Accuracy: 1.00\n",
      "Classification Report:\n",
      "              precision    recall  f1-score   support\n",
      "\n",
      "   Triclinic       1.00      1.00      1.00        13\n",
      "       Cubic       1.00      1.00      1.00        17\n",
      "\n",
      "    accuracy                           1.00        30\n",
      "   macro avg       1.00      1.00      1.00        30\n",
      "weighted avg       1.00      1.00      1.00        30\n",
      "\n"
     ]
    }
   ],
   "source": [
    "clf = OneVsOneClassifier(SVC())\n",
    "clf.fit(X_train, y_train)\n",
    "\n",
    "y_pred = clf.predict(X_test)\n",
    "\n",
    "accuracy = accuracy_score(y_test, y_pred)\n",
    "print(f'Accuracy: {accuracy:.2f}')\n",
    "\n",
    "class_report = classification_report(y_test, y_pred, target_names = embedding_df['Crystal System'].unique())\n",
    "print('Classification Report:')\n",
    "print(class_report)"
   ]
  },
  {
   "cell_type": "code",
   "execution_count": null,
   "metadata": {},
   "outputs": [],
   "source": []
  }
 ],
 "metadata": {
  "kernelspec": {
   "display_name": "venv",
   "language": "python",
   "name": "python3"
  },
  "language_info": {
   "codemirror_mode": {
    "name": "ipython",
    "version": 3
   },
   "file_extension": ".py",
   "mimetype": "text/x-python",
   "name": "python",
   "nbconvert_exporter": "python",
   "pygments_lexer": "ipython3",
   "version": "3.12.2"
  }
 },
 "nbformat": 4,
 "nbformat_minor": 2
}
