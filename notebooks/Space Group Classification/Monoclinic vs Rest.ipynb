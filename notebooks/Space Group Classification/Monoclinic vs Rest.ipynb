{
 "cells": [
  {
   "cell_type": "code",
   "execution_count": 1,
   "metadata": {},
   "outputs": [],
   "source": [
    "import os\n",
    "os.chdir(\"../../crystal/\")\n",
    "\n",
    "import pandas as pd\n",
    "import numpy as np\n",
    "import matplotlib.pyplot as plt\n",
    "import plotly.express as px\n",
    "import plotly.io as pio\n",
    "\n",
    "from tqdm import tqdm\n",
    "from math import lcm\n",
    "from typing import List, Dict\n",
    "from ripser import Rips\n",
    "from utils import wasserstein_distance_matrix, plot_distance_matrix\n",
    "\n",
    "from Symmetry import Symmetry\n",
    "from UnitCell import UnitCell\n",
    "from RandomCrystal import RandomCrystal\n",
    "from Fractional import FractionalCoordinate, FractionalCoordinateList\n",
    "from Positional import PositionalCoordinate, PositionalCoordinateList\n",
    "\n",
    "from sklearn.manifold import TSNE, Isomap, MDS, SpectralEmbedding\n",
    "from sklearn.multiclass import OneVsOneClassifier\n",
    "from sklearn.svm import SVC\n",
    "\n",
    "from sklearn.model_selection import train_test_split\n",
    "from sklearn.metrics import accuracy_score, classification_report\n",
    "\n",
    "plt.rcParams['text.usetex'] = False"
   ]
  },
  {
   "cell_type": "code",
   "execution_count": 2,
   "metadata": {},
   "outputs": [
    {
     "data": {
      "text/html": [
       "<div>\n",
       "<style scoped>\n",
       "    .dataframe tbody tr th:only-of-type {\n",
       "        vertical-align: middle;\n",
       "    }\n",
       "\n",
       "    .dataframe tbody tr th {\n",
       "        vertical-align: top;\n",
       "    }\n",
       "\n",
       "    .dataframe thead th {\n",
       "        text-align: right;\n",
       "    }\n",
       "</style>\n",
       "<table border=\"1\" class=\"dataframe\">\n",
       "  <thead>\n",
       "    <tr style=\"text-align: right;\">\n",
       "      <th></th>\n",
       "      <th>Space Group</th>\n",
       "      <th>Crystal System</th>\n",
       "      <th>Asymmetric Unit</th>\n",
       "      <th>Symmetries</th>\n",
       "      <th>Group Order</th>\n",
       "      <th>Unit Cell</th>\n",
       "    </tr>\n",
       "  </thead>\n",
       "  <tbody>\n",
       "    <tr>\n",
       "      <th>0</th>\n",
       "      <td>2</td>\n",
       "      <td>Triclinic</td>\n",
       "      <td>30</td>\n",
       "      <td>x,y,z;-x,-y,-z</td>\n",
       "      <td>2</td>\n",
       "      <td>13.027,11.1822,9.2189,92.35,107.3,104.5</td>\n",
       "    </tr>\n",
       "    <tr>\n",
       "      <th>1</th>\n",
       "      <td>9</td>\n",
       "      <td>Monoclinic</td>\n",
       "      <td>71</td>\n",
       "      <td>x,y,z;x,-y,z+1/2;x+1/2,y+1/2,z;x+1/2,-y+1/2,z+1/2</td>\n",
       "      <td>4</td>\n",
       "      <td>20.408,13.304,20.166,90.0,102.33,90.0</td>\n",
       "    </tr>\n",
       "    <tr>\n",
       "      <th>2</th>\n",
       "      <td>10</td>\n",
       "      <td>Monoclinic</td>\n",
       "      <td>50</td>\n",
       "      <td>x,y,z;-x,y,-z;-x,-y,-z;x,-y,z</td>\n",
       "      <td>4</td>\n",
       "      <td>12.7411,12.6989,20.9991,90.0,96.29,90.0</td>\n",
       "    </tr>\n",
       "    <tr>\n",
       "      <th>3</th>\n",
       "      <td>11</td>\n",
       "      <td>Monoclinic</td>\n",
       "      <td>25</td>\n",
       "      <td>x,y,z;-x,y+1/2,-z;-x,-y,-z;x,-y+1/2,z</td>\n",
       "      <td>4</td>\n",
       "      <td>11.454,21.695,7.227,90.0,93.15,90.0</td>\n",
       "    </tr>\n",
       "    <tr>\n",
       "      <th>4</th>\n",
       "      <td>12</td>\n",
       "      <td>Monoclinic</td>\n",
       "      <td>24</td>\n",
       "      <td>x,y,z;-x,y,-z;-x,-y,-z;x,-y,z;x+1/2,y+1/2,z;-x...</td>\n",
       "      <td>8</td>\n",
       "      <td>22.684,13.373,12.553,90.0,69.48,90.0</td>\n",
       "    </tr>\n",
       "    <tr>\n",
       "      <th>...</th>\n",
       "      <td>...</td>\n",
       "      <td>...</td>\n",
       "      <td>...</td>\n",
       "      <td>...</td>\n",
       "      <td>...</td>\n",
       "      <td>...</td>\n",
       "    </tr>\n",
       "    <tr>\n",
       "      <th>68</th>\n",
       "      <td>223</td>\n",
       "      <td>Cubic</td>\n",
       "      <td>7</td>\n",
       "      <td>x,y,z;-x,-y,z;x,-y,-z;-x,y,-z;z,x,y;y,z,x;-z,-...</td>\n",
       "      <td>48</td>\n",
       "      <td>13.705,13.705,13.705,90.0,90.0,90.0</td>\n",
       "    </tr>\n",
       "    <tr>\n",
       "      <th>69</th>\n",
       "      <td>225</td>\n",
       "      <td>Cubic</td>\n",
       "      <td>4</td>\n",
       "      <td>x,y,z;-x,-y,z;x,-y,-z;-x,y,-z;z,x,y;y,z,x;-z,-...</td>\n",
       "      <td>192</td>\n",
       "      <td>13.624,13.624,13.624,90.0,90.0,90.0</td>\n",
       "    </tr>\n",
       "    <tr>\n",
       "      <th>70</th>\n",
       "      <td>227</td>\n",
       "      <td>Cubic</td>\n",
       "      <td>5</td>\n",
       "      <td>x,y,z;-x+1/4,-y+1/4,z;x,-y+1/4,-z+1/4;-x+1/4,y...</td>\n",
       "      <td>192</td>\n",
       "      <td>24.345,24.345,24.345,90.0,90.0,90.0</td>\n",
       "    </tr>\n",
       "    <tr>\n",
       "      <th>71</th>\n",
       "      <td>229</td>\n",
       "      <td>Cubic</td>\n",
       "      <td>5</td>\n",
       "      <td>x,y,z;-x,-y,z;x,-y,-z;-x,y,-z;z,x,y;y,z,x;-z,-...</td>\n",
       "      <td>96</td>\n",
       "      <td>18.578,18.578,18.578,90.0,90.0,90.0</td>\n",
       "    </tr>\n",
       "    <tr>\n",
       "      <th>72</th>\n",
       "      <td>230</td>\n",
       "      <td>Cubic</td>\n",
       "      <td>3</td>\n",
       "      <td>x,y,z;-x,-y+1/2,z;x,-y,-z+1/2;-x+1/2,y,-z;z,x,...</td>\n",
       "      <td>96</td>\n",
       "      <td>17.252,17.252,17.252,90.0,90.0,90.0</td>\n",
       "    </tr>\n",
       "  </tbody>\n",
       "</table>\n",
       "<p>73 rows × 6 columns</p>\n",
       "</div>"
      ],
      "text/plain": [
       "    Space Group Crystal System  Asymmetric Unit  \\\n",
       "0             2      Triclinic               30   \n",
       "1             9     Monoclinic               71   \n",
       "2            10     Monoclinic               50   \n",
       "3            11     Monoclinic               25   \n",
       "4            12     Monoclinic               24   \n",
       "..          ...            ...              ...   \n",
       "68          223          Cubic                7   \n",
       "69          225          Cubic                4   \n",
       "70          227          Cubic                5   \n",
       "71          229          Cubic                5   \n",
       "72          230          Cubic                3   \n",
       "\n",
       "                                           Symmetries  Group Order  \\\n",
       "0                                      x,y,z;-x,-y,-z            2   \n",
       "1   x,y,z;x,-y,z+1/2;x+1/2,y+1/2,z;x+1/2,-y+1/2,z+1/2            4   \n",
       "2                       x,y,z;-x,y,-z;-x,-y,-z;x,-y,z            4   \n",
       "3               x,y,z;-x,y+1/2,-z;-x,-y,-z;x,-y+1/2,z            4   \n",
       "4   x,y,z;-x,y,-z;-x,-y,-z;x,-y,z;x+1/2,y+1/2,z;-x...            8   \n",
       "..                                                ...          ...   \n",
       "68  x,y,z;-x,-y,z;x,-y,-z;-x,y,-z;z,x,y;y,z,x;-z,-...           48   \n",
       "69  x,y,z;-x,-y,z;x,-y,-z;-x,y,-z;z,x,y;y,z,x;-z,-...          192   \n",
       "70  x,y,z;-x+1/4,-y+1/4,z;x,-y+1/4,-z+1/4;-x+1/4,y...          192   \n",
       "71  x,y,z;-x,-y,z;x,-y,-z;-x,y,-z;z,x,y;y,z,x;-z,-...           96   \n",
       "72  x,y,z;-x,-y+1/2,z;x,-y,-z+1/2;-x+1/2,y,-z;z,x,...           96   \n",
       "\n",
       "                                  Unit Cell  \n",
       "0   13.027,11.1822,9.2189,92.35,107.3,104.5  \n",
       "1     20.408,13.304,20.166,90.0,102.33,90.0  \n",
       "2   12.7411,12.6989,20.9991,90.0,96.29,90.0  \n",
       "3       11.454,21.695,7.227,90.0,93.15,90.0  \n",
       "4      22.684,13.373,12.553,90.0,69.48,90.0  \n",
       "..                                      ...  \n",
       "68      13.705,13.705,13.705,90.0,90.0,90.0  \n",
       "69      13.624,13.624,13.624,90.0,90.0,90.0  \n",
       "70      24.345,24.345,24.345,90.0,90.0,90.0  \n",
       "71      18.578,18.578,18.578,90.0,90.0,90.0  \n",
       "72      17.252,17.252,17.252,90.0,90.0,90.0  \n",
       "\n",
       "[73 rows x 6 columns]"
      ]
     },
     "execution_count": 2,
     "metadata": {},
     "output_type": "execute_result"
    }
   ],
   "source": [
    "df = pd.read_csv(\"output/space_groups.csv\", sep=\" \")\n",
    "df"
   ]
  },
  {
   "cell_type": "markdown",
   "metadata": {},
   "source": [
    "# Monoclinic vs Orthorhombic"
   ]
  },
  {
   "cell_type": "code",
   "execution_count": 3,
   "metadata": {},
   "outputs": [
    {
     "name": "stdout",
     "output_type": "stream",
     "text": [
      "Least common multiple: 16\n"
     ]
    }
   ],
   "source": [
    "crystal_system_1: str = 'Monoclinic'\n",
    "crystal_system_2: str = 'Orthorhombic'\n",
    "\n",
    "space_groups_1: np.ndarray = df.loc[df['Crystal System'] == crystal_system_1]['Space Group'].unique()\n",
    "space_groups_2: np.ndarray = df.loc[df['Crystal System'] == crystal_system_2]['Space Group'].unique()\n",
    "\n",
    "random_space_group_index: np.ndarray = np.random.randint(low = 0, high = len(space_groups_1), size = 1, dtype = int)[0]\n",
    "space_group_1: int = space_groups_1[random_space_group_index]\n",
    "\n",
    "random_space_group_index: np.ndarray = np.random.randint(low = 0, high = len(space_groups_2), size = 1, dtype = int)[0]\n",
    "space_group_2: int = space_groups_2[random_space_group_index]\n",
    "\n",
    "row_1 = df.loc[df['Space Group'] == space_group_1]\n",
    "row_2 = df.loc[df['Space Group'] == space_group_2]\n",
    "\n",
    "group_order_1: int = row_1['Group Order'].values[0]\n",
    "group_order_2: int = row_2['Group Order'].values[0]\n",
    "\n",
    "least_common_multiple: int = lcm(group_order_1, group_order_2)\n",
    "print(f'Least common multiple: {least_common_multiple}')\n",
    "\n",
    "crystal_dict = {}\n",
    "n = 48"
   ]
  },
  {
   "cell_type": "code",
   "execution_count": 4,
   "metadata": {},
   "outputs": [
    {
     "name": "stderr",
     "output_type": "stream",
     "text": [
      "100%|██████████| 50/50 [00:00<00:00, 72.39it/s]\n"
     ]
    }
   ],
   "source": [
    "symmetries: list = row_1['Symmetries'].values[0].split(sep=\";\")\n",
    "symmetries: List[Symmetry] = [Symmetry(sym) for sym in symmetries]\n",
    "\n",
    "unit_cell: List[str] = row_1['Unit Cell'].values[0].split(sep=\",\")\n",
    "unit_cell: UnitCell = UnitCell(*[float(x) for x in unit_cell])\n",
    "normalised_unit_cell: UnitCell = unit_cell.normalise()\n",
    "\n",
    "normalising_constant: float = unit_cell.normalising_constant\n",
    "k = least_common_multiple // group_order_1\n",
    "if least_common_multiple < n:\n",
    "    k *= (n // least_common_multiple)\n",
    "\n",
    "rips = Rips(maxdim=2, verbose=False)\n",
    "\n",
    "for _ in tqdm(range(50)):\n",
    "    random_crystal: RandomCrystal = RandomCrystal(symmetries, k)\n",
    "    positional_coordinates: PositionalCoordinateList = random_crystal.fractional_coordinates.orthogonalise(unit_cell)\n",
    "    normalised_positional_coordinates: PositionalCoordinateList = positional_coordinates.normalise(normalising_constant)\n",
    "\n",
    "    distance_matrix: np.ndarray = normalised_positional_coordinates.calculate_distance_matrix(normalised_unit_cell, boundary_conditions=True)\n",
    "    persistence = rips.fit_transform(X = distance_matrix, distance_matrix=True)\n",
    "\n",
    "    for dim, intervals in enumerate(persistence):\n",
    "        persistence[dim] = np.array(list(filter(lambda i: i[1] < float('inf'), intervals)))\n",
    "\n",
    "    crystal_dict[f'{space_group_1}_{_+1}'] = {\n",
    "        'system': crystal_system_1,\n",
    "        'persistence': persistence\n",
    "    }"
   ]
  },
  {
   "cell_type": "code",
   "execution_count": 5,
   "metadata": {},
   "outputs": [
    {
     "name": "stderr",
     "output_type": "stream",
     "text": [
      "100%|██████████| 50/50 [00:00<00:00, 60.01it/s]\n"
     ]
    }
   ],
   "source": [
    "symmetries: list = row_2['Symmetries'].values[0].split(sep=\";\")\n",
    "symmetries: List[Symmetry] = [Symmetry(sym) for sym in symmetries]\n",
    "\n",
    "unit_cell: List[str] = row_2['Unit Cell'].values[0].split(sep=\",\")\n",
    "unit_cell: UnitCell = UnitCell(*[float(x) for x in unit_cell])\n",
    "normalised_unit_cell: UnitCell = unit_cell.normalise()\n",
    "\n",
    "normalising_constant: float = unit_cell.normalising_constant\n",
    "k = least_common_multiple // group_order_2\n",
    "if least_common_multiple < n:\n",
    "    k *= (n // least_common_multiple)\n",
    "\n",
    "rips = Rips(maxdim=2, verbose=False)\n",
    "\n",
    "for _ in tqdm(range(50)):\n",
    "    random_crystal: RandomCrystal = RandomCrystal(symmetries, k)\n",
    "    positional_coordinates: PositionalCoordinateList = random_crystal.fractional_coordinates.orthogonalise(unit_cell)\n",
    "    normalised_positional_coordinates: PositionalCoordinateList = positional_coordinates.normalise(normalising_constant)\n",
    "\n",
    "    distance_matrix: np.ndarray = normalised_positional_coordinates.calculate_distance_matrix(normalised_unit_cell, boundary_conditions=True)\n",
    "    persistence = rips.fit_transform(X = distance_matrix, distance_matrix=True)\n",
    "\n",
    "    for dim, intervals in enumerate(persistence):\n",
    "        persistence[dim] = np.array(list(filter(lambda i: i[1] < float('inf'), intervals)))\n",
    "\n",
    "    crystal_dict[f'{space_group_2}_{_+1}'] = {\n",
    "        'system': crystal_system_2,\n",
    "        'persistence': persistence\n",
    "    }"
   ]
  },
  {
   "cell_type": "code",
   "execution_count": 6,
   "metadata": {},
   "outputs": [
    {
     "name": "stderr",
     "output_type": "stream",
     "text": [
      "100%|██████████| 100/100 [00:01<00:00, 50.46it/s]\n",
      "100%|██████████| 100/100 [00:01<00:00, 55.06it/s]\n",
      "100%|██████████| 100/100 [00:01<00:00, 86.91it/s]\n"
     ]
    }
   ],
   "source": [
    "distance_matrix_0 = wasserstein_distance_matrix(crystal_dict, 0)\n",
    "distance_matrix_1 = wasserstein_distance_matrix(crystal_dict, 1)\n",
    "distance_matrix_2 = wasserstein_distance_matrix(crystal_dict, 2)\n",
    "\n",
    "distance_matrix: np.ndarray = np.maximum.reduce([distance_matrix_0, distance_matrix_1, distance_matrix_2])"
   ]
  },
  {
   "cell_type": "code",
   "execution_count": 7,
   "metadata": {},
   "outputs": [
    {
     "data": {
      "text/html": [
       "<div>\n",
       "<style scoped>\n",
       "    .dataframe tbody tr th:only-of-type {\n",
       "        vertical-align: middle;\n",
       "    }\n",
       "\n",
       "    .dataframe tbody tr th {\n",
       "        vertical-align: top;\n",
       "    }\n",
       "\n",
       "    .dataframe thead th {\n",
       "        text-align: right;\n",
       "    }\n",
       "</style>\n",
       "<table border=\"1\" class=\"dataframe\">\n",
       "  <thead>\n",
       "    <tr style=\"text-align: right;\">\n",
       "      <th></th>\n",
       "      <th>1</th>\n",
       "      <th>2</th>\n",
       "      <th>3</th>\n",
       "      <th>4</th>\n",
       "      <th>5</th>\n",
       "      <th>Crystal System</th>\n",
       "      <th>Name</th>\n",
       "    </tr>\n",
       "  </thead>\n",
       "  <tbody>\n",
       "    <tr>\n",
       "      <th>0</th>\n",
       "      <td>-0.775253</td>\n",
       "      <td>0.491980</td>\n",
       "      <td>-0.229569</td>\n",
       "      <td>0.015623</td>\n",
       "      <td>-0.520967</td>\n",
       "      <td>Monoclinic</td>\n",
       "      <td>12_1</td>\n",
       "    </tr>\n",
       "    <tr>\n",
       "      <th>1</th>\n",
       "      <td>-0.728834</td>\n",
       "      <td>0.156534</td>\n",
       "      <td>-0.092243</td>\n",
       "      <td>0.672801</td>\n",
       "      <td>0.249527</td>\n",
       "      <td>Monoclinic</td>\n",
       "      <td>12_2</td>\n",
       "    </tr>\n",
       "    <tr>\n",
       "      <th>2</th>\n",
       "      <td>-0.151225</td>\n",
       "      <td>-0.135885</td>\n",
       "      <td>-0.021377</td>\n",
       "      <td>0.530866</td>\n",
       "      <td>-0.220262</td>\n",
       "      <td>Monoclinic</td>\n",
       "      <td>12_3</td>\n",
       "    </tr>\n",
       "    <tr>\n",
       "      <th>3</th>\n",
       "      <td>0.699772</td>\n",
       "      <td>0.518443</td>\n",
       "      <td>0.301742</td>\n",
       "      <td>-0.128093</td>\n",
       "      <td>-0.296676</td>\n",
       "      <td>Monoclinic</td>\n",
       "      <td>12_4</td>\n",
       "    </tr>\n",
       "    <tr>\n",
       "      <th>4</th>\n",
       "      <td>0.476755</td>\n",
       "      <td>0.457183</td>\n",
       "      <td>-0.174947</td>\n",
       "      <td>0.812912</td>\n",
       "      <td>-0.663901</td>\n",
       "      <td>Monoclinic</td>\n",
       "      <td>12_5</td>\n",
       "    </tr>\n",
       "  </tbody>\n",
       "</table>\n",
       "</div>"
      ],
      "text/plain": [
       "          1         2         3         4         5 Crystal System  Name\n",
       "0 -0.775253  0.491980 -0.229569  0.015623 -0.520967     Monoclinic  12_1\n",
       "1 -0.728834  0.156534 -0.092243  0.672801  0.249527     Monoclinic  12_2\n",
       "2 -0.151225 -0.135885 -0.021377  0.530866 -0.220262     Monoclinic  12_3\n",
       "3  0.699772  0.518443  0.301742 -0.128093 -0.296676     Monoclinic  12_4\n",
       "4  0.476755  0.457183 -0.174947  0.812912 -0.663901     Monoclinic  12_5"
      ]
     },
     "execution_count": 7,
     "metadata": {},
     "output_type": "execute_result"
    }
   ],
   "source": [
    "system = [v['system'] for v in crystal_dict.values()]\n",
    "crystals = list(crystal_dict.keys())\n",
    "\n",
    "n = 5\n",
    "mds = MDS(n_components=n, dissimilarity='precomputed', metric=True)\n",
    "embedding = mds.fit_transform(distance_matrix)\n",
    "\n",
    "embedding_df = pd.DataFrame(embedding, columns=[str(_+1) for _ in range(n)])\n",
    "embedding_df['Crystal System'] = system\n",
    "embedding_df['Name'] = crystals\n",
    "\n",
    "X = embedding\n",
    "y = embedding_df['Crystal System'].values\n",
    "\n",
    "X_train, X_test, y_train, y_test = train_test_split(X, y, test_size=0.3, random_state=42)\n",
    "\n",
    "embedding_df.head()"
   ]
  },
  {
   "cell_type": "code",
   "execution_count": 8,
   "metadata": {},
   "outputs": [
    {
     "name": "stdout",
     "output_type": "stream",
     "text": [
      "Accuracy: 0.90\n",
      "Classification Report:\n",
      "              precision    recall  f1-score   support\n",
      "\n",
      "  Monoclinic       1.00      0.82      0.90        17\n",
      "Orthorhombic       0.81      1.00      0.90        13\n",
      "\n",
      "    accuracy                           0.90        30\n",
      "   macro avg       0.91      0.91      0.90        30\n",
      "weighted avg       0.92      0.90      0.90        30\n",
      "\n"
     ]
    }
   ],
   "source": [
    "clf = OneVsOneClassifier(SVC())\n",
    "clf.fit(X_train, y_train)\n",
    "\n",
    "y_pred = clf.predict(X_test)\n",
    "\n",
    "accuracy = accuracy_score(y_test, y_pred)\n",
    "print(f'Accuracy: {accuracy:.2f}')\n",
    "\n",
    "class_report = classification_report(y_test, y_pred, target_names = embedding_df['Crystal System'].unique())\n",
    "print('Classification Report:')\n",
    "print(class_report)"
   ]
  },
  {
   "cell_type": "markdown",
   "metadata": {},
   "source": [
    "# Monoclinic vs Tetragonal"
   ]
  },
  {
   "cell_type": "code",
   "execution_count": 9,
   "metadata": {},
   "outputs": [
    {
     "name": "stdout",
     "output_type": "stream",
     "text": [
      "Least common multiple: 16\n"
     ]
    }
   ],
   "source": [
    "crystal_system_1: str = 'Monoclinic'\n",
    "crystal_system_2: str = 'Tetragonal'\n",
    "\n",
    "space_groups_1: np.ndarray = df.loc[df['Crystal System'] == crystal_system_1]['Space Group'].unique()\n",
    "space_groups_2: np.ndarray = df.loc[df['Crystal System'] == crystal_system_2]['Space Group'].unique()\n",
    "\n",
    "random_space_group_index: np.ndarray = np.random.randint(low = 0, high = len(space_groups_1), size = 1, dtype = int)[0]\n",
    "space_group_1: int = space_groups_1[random_space_group_index]\n",
    "\n",
    "random_space_group_index: np.ndarray = np.random.randint(low = 0, high = len(space_groups_2), size = 1, dtype = int)[0]\n",
    "space_group_2: int = space_groups_2[random_space_group_index]\n",
    "\n",
    "row_1 = df.loc[df['Space Group'] == space_group_1]\n",
    "row_2 = df.loc[df['Space Group'] == space_group_2]\n",
    "\n",
    "group_order_1: int = row_1['Group Order'].values[0]\n",
    "group_order_2: int = row_2['Group Order'].values[0]\n",
    "\n",
    "least_common_multiple: int = lcm(group_order_1, group_order_2)\n",
    "print(f'Least common multiple: {least_common_multiple}')\n",
    "\n",
    "crystal_dict = {}\n",
    "n = 48"
   ]
  },
  {
   "cell_type": "code",
   "execution_count": 10,
   "metadata": {},
   "outputs": [
    {
     "name": "stderr",
     "output_type": "stream",
     "text": [
      "100%|██████████| 50/50 [00:00<00:00, 77.50it/s]\n"
     ]
    }
   ],
   "source": [
    "symmetries: list = row_1['Symmetries'].values[0].split(sep=\";\")\n",
    "symmetries: List[Symmetry] = [Symmetry(sym) for sym in symmetries]\n",
    "\n",
    "unit_cell: List[str] = row_1['Unit Cell'].values[0].split(sep=\",\")\n",
    "unit_cell: UnitCell = UnitCell(*[float(x) for x in unit_cell])\n",
    "normalised_unit_cell: UnitCell = unit_cell.normalise()\n",
    "\n",
    "normalising_constant: float = unit_cell.normalising_constant\n",
    "k = least_common_multiple // group_order_1\n",
    "if least_common_multiple < n:\n",
    "    k *= (n // least_common_multiple)\n",
    "\n",
    "rips = Rips(maxdim=2, verbose=False)\n",
    "\n",
    "for _ in tqdm(range(50)):\n",
    "    random_crystal: RandomCrystal = RandomCrystal(symmetries, k)\n",
    "    positional_coordinates: PositionalCoordinateList = random_crystal.fractional_coordinates.orthogonalise(unit_cell)\n",
    "    normalised_positional_coordinates: PositionalCoordinateList = positional_coordinates.normalise(normalising_constant)\n",
    "\n",
    "    distance_matrix: np.ndarray = normalised_positional_coordinates.calculate_distance_matrix(normalised_unit_cell, boundary_conditions=True)\n",
    "    persistence = rips.fit_transform(X = distance_matrix, distance_matrix=True)\n",
    "\n",
    "    for dim, intervals in enumerate(persistence):\n",
    "        persistence[dim] = np.array(list(filter(lambda i: i[1] < float('inf'), intervals)))\n",
    "\n",
    "    crystal_dict[f'{space_group_1}_{_+1}'] = {\n",
    "        'system': crystal_system_1,\n",
    "        'persistence': persistence\n",
    "    }"
   ]
  },
  {
   "cell_type": "code",
   "execution_count": 11,
   "metadata": {},
   "outputs": [
    {
     "name": "stderr",
     "output_type": "stream",
     "text": [
      "100%|██████████| 50/50 [00:01<00:00, 47.58it/s]\n"
     ]
    }
   ],
   "source": [
    "symmetries: list = row_2['Symmetries'].values[0].split(sep=\";\")\n",
    "symmetries: List[Symmetry] = [Symmetry(sym) for sym in symmetries]\n",
    "\n",
    "unit_cell: List[str] = row_2['Unit Cell'].values[0].split(sep=\",\")\n",
    "unit_cell: UnitCell = UnitCell(*[float(x) for x in unit_cell])\n",
    "normalised_unit_cell: UnitCell = unit_cell.normalise()\n",
    "\n",
    "normalising_constant: float = unit_cell.normalising_constant\n",
    "k = least_common_multiple // group_order_2\n",
    "if least_common_multiple < n:\n",
    "    k *= (n // least_common_multiple)\n",
    "\n",
    "rips = Rips(maxdim=2, verbose=False)\n",
    "\n",
    "for _ in tqdm(range(50)):\n",
    "    random_crystal: RandomCrystal = RandomCrystal(symmetries, k)\n",
    "    positional_coordinates: PositionalCoordinateList = random_crystal.fractional_coordinates.orthogonalise(unit_cell)\n",
    "    normalised_positional_coordinates: PositionalCoordinateList = positional_coordinates.normalise(normalising_constant)\n",
    "\n",
    "    distance_matrix: np.ndarray = normalised_positional_coordinates.calculate_distance_matrix(normalised_unit_cell, boundary_conditions=True)\n",
    "    persistence = rips.fit_transform(X = distance_matrix, distance_matrix=True)\n",
    "\n",
    "    for dim, intervals in enumerate(persistence):\n",
    "        persistence[dim] = np.array(list(filter(lambda i: i[1] < float('inf'), intervals)))\n",
    "\n",
    "    crystal_dict[f'{space_group_2}_{_+1}'] = {\n",
    "        'system': crystal_system_2,\n",
    "        'persistence': persistence\n",
    "    }"
   ]
  },
  {
   "cell_type": "code",
   "execution_count": 12,
   "metadata": {},
   "outputs": [
    {
     "name": "stderr",
     "output_type": "stream",
     "text": [
      "100%|██████████| 100/100 [00:01<00:00, 50.45it/s]\n",
      "100%|██████████| 100/100 [00:01<00:00, 64.99it/s]\n",
      "100%|██████████| 100/100 [00:01<00:00, 76.41it/s]\n"
     ]
    }
   ],
   "source": [
    "distance_matrix_0 = wasserstein_distance_matrix(crystal_dict, 0)\n",
    "distance_matrix_1 = wasserstein_distance_matrix(crystal_dict, 1)\n",
    "distance_matrix_2 = wasserstein_distance_matrix(crystal_dict, 2)\n",
    "\n",
    "distance_matrix: np.ndarray = np.maximum.reduce([distance_matrix_0, distance_matrix_1, distance_matrix_2])"
   ]
  },
  {
   "cell_type": "code",
   "execution_count": 13,
   "metadata": {},
   "outputs": [
    {
     "data": {
      "text/html": [
       "<div>\n",
       "<style scoped>\n",
       "    .dataframe tbody tr th:only-of-type {\n",
       "        vertical-align: middle;\n",
       "    }\n",
       "\n",
       "    .dataframe tbody tr th {\n",
       "        vertical-align: top;\n",
       "    }\n",
       "\n",
       "    .dataframe thead th {\n",
       "        text-align: right;\n",
       "    }\n",
       "</style>\n",
       "<table border=\"1\" class=\"dataframe\">\n",
       "  <thead>\n",
       "    <tr style=\"text-align: right;\">\n",
       "      <th></th>\n",
       "      <th>1</th>\n",
       "      <th>2</th>\n",
       "      <th>3</th>\n",
       "      <th>4</th>\n",
       "      <th>5</th>\n",
       "      <th>Crystal System</th>\n",
       "      <th>Name</th>\n",
       "    </tr>\n",
       "  </thead>\n",
       "  <tbody>\n",
       "    <tr>\n",
       "      <th>0</th>\n",
       "      <td>0.230137</td>\n",
       "      <td>-0.199955</td>\n",
       "      <td>0.376172</td>\n",
       "      <td>-0.752661</td>\n",
       "      <td>0.090166</td>\n",
       "      <td>Monoclinic</td>\n",
       "      <td>9_1</td>\n",
       "    </tr>\n",
       "    <tr>\n",
       "      <th>1</th>\n",
       "      <td>-0.025234</td>\n",
       "      <td>-0.047683</td>\n",
       "      <td>0.481706</td>\n",
       "      <td>-0.277336</td>\n",
       "      <td>0.295642</td>\n",
       "      <td>Monoclinic</td>\n",
       "      <td>9_2</td>\n",
       "    </tr>\n",
       "    <tr>\n",
       "      <th>2</th>\n",
       "      <td>-0.524304</td>\n",
       "      <td>-0.288643</td>\n",
       "      <td>0.208370</td>\n",
       "      <td>0.154317</td>\n",
       "      <td>-0.263510</td>\n",
       "      <td>Monoclinic</td>\n",
       "      <td>9_3</td>\n",
       "    </tr>\n",
       "    <tr>\n",
       "      <th>3</th>\n",
       "      <td>-0.506586</td>\n",
       "      <td>0.008863</td>\n",
       "      <td>0.321086</td>\n",
       "      <td>-0.815695</td>\n",
       "      <td>-0.410417</td>\n",
       "      <td>Monoclinic</td>\n",
       "      <td>9_4</td>\n",
       "    </tr>\n",
       "    <tr>\n",
       "      <th>4</th>\n",
       "      <td>-0.082540</td>\n",
       "      <td>0.107985</td>\n",
       "      <td>0.023237</td>\n",
       "      <td>-0.444339</td>\n",
       "      <td>0.597437</td>\n",
       "      <td>Monoclinic</td>\n",
       "      <td>9_5</td>\n",
       "    </tr>\n",
       "  </tbody>\n",
       "</table>\n",
       "</div>"
      ],
      "text/plain": [
       "          1         2         3         4         5 Crystal System Name\n",
       "0  0.230137 -0.199955  0.376172 -0.752661  0.090166     Monoclinic  9_1\n",
       "1 -0.025234 -0.047683  0.481706 -0.277336  0.295642     Monoclinic  9_2\n",
       "2 -0.524304 -0.288643  0.208370  0.154317 -0.263510     Monoclinic  9_3\n",
       "3 -0.506586  0.008863  0.321086 -0.815695 -0.410417     Monoclinic  9_4\n",
       "4 -0.082540  0.107985  0.023237 -0.444339  0.597437     Monoclinic  9_5"
      ]
     },
     "execution_count": 13,
     "metadata": {},
     "output_type": "execute_result"
    }
   ],
   "source": [
    "system = [v['system'] for v in crystal_dict.values()]\n",
    "crystals = list(crystal_dict.keys())\n",
    "\n",
    "n = 5\n",
    "mds = MDS(n_components=n, dissimilarity='precomputed', metric=True)\n",
    "embedding = mds.fit_transform(distance_matrix)\n",
    "\n",
    "embedding_df = pd.DataFrame(embedding, columns=[str(_+1) for _ in range(n)])\n",
    "embedding_df['Crystal System'] = system\n",
    "embedding_df['Name'] = crystals\n",
    "\n",
    "X = embedding\n",
    "y = embedding_df['Crystal System'].values\n",
    "\n",
    "X_train, X_test, y_train, y_test = train_test_split(X, y, test_size=0.3, random_state=42)\n",
    "\n",
    "embedding_df.head()"
   ]
  },
  {
   "cell_type": "code",
   "execution_count": 14,
   "metadata": {},
   "outputs": [
    {
     "name": "stdout",
     "output_type": "stream",
     "text": [
      "Accuracy: 0.93\n",
      "Classification Report:\n",
      "              precision    recall  f1-score   support\n",
      "\n",
      "  Monoclinic       1.00      0.88      0.94        17\n",
      "  Tetragonal       0.87      1.00      0.93        13\n",
      "\n",
      "    accuracy                           0.93        30\n",
      "   macro avg       0.93      0.94      0.93        30\n",
      "weighted avg       0.94      0.93      0.93        30\n",
      "\n"
     ]
    }
   ],
   "source": [
    "clf = OneVsOneClassifier(SVC())\n",
    "clf.fit(X_train, y_train)\n",
    "\n",
    "y_pred = clf.predict(X_test)\n",
    "\n",
    "accuracy = accuracy_score(y_test, y_pred)\n",
    "print(f'Accuracy: {accuracy:.2f}')\n",
    "\n",
    "class_report = classification_report(y_test, y_pred, target_names = embedding_df['Crystal System'].unique())\n",
    "print('Classification Report:')\n",
    "print(class_report)"
   ]
  },
  {
   "cell_type": "markdown",
   "metadata": {},
   "source": [
    "# Monoclinic vs Trigonal"
   ]
  },
  {
   "cell_type": "code",
   "execution_count": 21,
   "metadata": {},
   "outputs": [
    {
     "name": "stdout",
     "output_type": "stream",
     "text": [
      "Least common multiple: 72\n"
     ]
    }
   ],
   "source": [
    "crystal_system_1: str = 'Monoclinic'\n",
    "crystal_system_2: str = 'Trigonal'\n",
    "\n",
    "space_groups_1: np.ndarray = df.loc[df['Crystal System'] == crystal_system_1]['Space Group'].unique()\n",
    "space_groups_2: np.ndarray = df.loc[df['Crystal System'] == crystal_system_2]['Space Group'].unique()\n",
    "\n",
    "random_space_group_index: np.ndarray = np.random.randint(low = 0, high = len(space_groups_1), size = 1, dtype = int)[0]\n",
    "space_group_1: int = space_groups_1[random_space_group_index]\n",
    "\n",
    "random_space_group_index: np.ndarray = np.random.randint(low = 0, high = len(space_groups_2), size = 1, dtype = int)[0]\n",
    "space_group_2: int = space_groups_2[random_space_group_index]\n",
    "\n",
    "row_1 = df.loc[df['Space Group'] == space_group_1]\n",
    "row_2 = df.loc[df['Space Group'] == space_group_2]\n",
    "\n",
    "group_order_1: int = row_1['Group Order'].values[0]\n",
    "group_order_2: int = row_2['Group Order'].values[0]\n",
    "\n",
    "least_common_multiple: int = lcm(group_order_1, group_order_2)\n",
    "print(f'Least common multiple: {least_common_multiple}')\n",
    "\n",
    "crystal_dict = {}\n",
    "n = 48"
   ]
  },
  {
   "cell_type": "code",
   "execution_count": 23,
   "metadata": {},
   "outputs": [
    {
     "name": "stderr",
     "output_type": "stream",
     "text": [
      "  0%|          | 0/50 [00:00<?, ?it/s]"
     ]
    },
    {
     "name": "stderr",
     "output_type": "stream",
     "text": [
      "100%|██████████| 50/50 [00:01<00:00, 25.11it/s]\n"
     ]
    }
   ],
   "source": [
    "symmetries: list = row_1['Symmetries'].values[0].split(sep=\";\")\n",
    "symmetries: List[Symmetry] = [Symmetry(sym) for sym in symmetries]\n",
    "\n",
    "unit_cell: List[str] = row_1['Unit Cell'].values[0].split(sep=\",\")\n",
    "unit_cell: UnitCell = UnitCell(*[float(x) for x in unit_cell])\n",
    "normalised_unit_cell: UnitCell = unit_cell.normalise()\n",
    "\n",
    "normalising_constant: float = unit_cell.normalising_constant\n",
    "k = least_common_multiple // group_order_1\n",
    "if least_common_multiple < n:\n",
    "    k *= (n // least_common_multiple)\n",
    "\n",
    "rips = Rips(maxdim=2, verbose=False)\n",
    "\n",
    "for _ in tqdm(range(50)):\n",
    "    random_crystal: RandomCrystal = RandomCrystal(symmetries, k)\n",
    "    positional_coordinates: PositionalCoordinateList = random_crystal.fractional_coordinates.orthogonalise(unit_cell)\n",
    "    normalised_positional_coordinates: PositionalCoordinateList = positional_coordinates.normalise(normalising_constant)\n",
    "\n",
    "    distance_matrix: np.ndarray = normalised_positional_coordinates.calculate_distance_matrix(normalised_unit_cell, boundary_conditions=True)\n",
    "    persistence = rips.fit_transform(X = distance_matrix, distance_matrix=True)\n",
    "\n",
    "    for dim, intervals in enumerate(persistence):\n",
    "        persistence[dim] = np.array(list(filter(lambda i: i[1] < float('inf'), intervals)))\n",
    "\n",
    "    crystal_dict[f'{space_group_1}_{_+1}'] = {\n",
    "        'system': crystal_system_1,\n",
    "        'persistence': persistence\n",
    "    }"
   ]
  },
  {
   "cell_type": "code",
   "execution_count": 24,
   "metadata": {},
   "outputs": [
    {
     "name": "stderr",
     "output_type": "stream",
     "text": [
      "100%|██████████| 50/50 [00:02<00:00, 19.08it/s]\n"
     ]
    }
   ],
   "source": [
    "symmetries: list = row_2['Symmetries'].values[0].split(sep=\";\")\n",
    "symmetries: List[Symmetry] = [Symmetry(sym) for sym in symmetries]\n",
    "\n",
    "unit_cell: List[str] = row_2['Unit Cell'].values[0].split(sep=\",\")\n",
    "unit_cell: UnitCell = UnitCell(*[float(x) for x in unit_cell])\n",
    "normalised_unit_cell: UnitCell = unit_cell.normalise()\n",
    "\n",
    "normalising_constant: float = unit_cell.normalising_constant\n",
    "k = least_common_multiple // group_order_2\n",
    "if least_common_multiple < n:\n",
    "    k *= (n // least_common_multiple)\n",
    "\n",
    "rips = Rips(maxdim=2, verbose=False)\n",
    "\n",
    "for _ in tqdm(range(50)):\n",
    "    random_crystal: RandomCrystal = RandomCrystal(symmetries, k)\n",
    "    positional_coordinates: PositionalCoordinateList = random_crystal.fractional_coordinates.orthogonalise(unit_cell)\n",
    "    normalised_positional_coordinates: PositionalCoordinateList = positional_coordinates.normalise(normalising_constant)\n",
    "\n",
    "    distance_matrix: np.ndarray = normalised_positional_coordinates.calculate_distance_matrix(normalised_unit_cell, boundary_conditions=True)\n",
    "    persistence = rips.fit_transform(X = distance_matrix, distance_matrix=True)\n",
    "\n",
    "    for dim, intervals in enumerate(persistence):\n",
    "        persistence[dim] = np.array(list(filter(lambda i: i[1] < float('inf'), intervals)))\n",
    "\n",
    "    crystal_dict[f'{space_group_2}_{_+1}'] = {\n",
    "        'system': crystal_system_2,\n",
    "        'persistence': persistence\n",
    "    }"
   ]
  },
  {
   "cell_type": "code",
   "execution_count": 25,
   "metadata": {},
   "outputs": [
    {
     "name": "stderr",
     "output_type": "stream",
     "text": [
      "100%|██████████| 100/100 [00:02<00:00, 40.33it/s]\n",
      "100%|██████████| 100/100 [00:01<00:00, 57.05it/s]\n",
      "100%|██████████| 100/100 [00:01<00:00, 69.26it/s]\n"
     ]
    }
   ],
   "source": [
    "distance_matrix_0 = wasserstein_distance_matrix(crystal_dict, 0)\n",
    "distance_matrix_1 = wasserstein_distance_matrix(crystal_dict, 1)\n",
    "distance_matrix_2 = wasserstein_distance_matrix(crystal_dict, 2)\n",
    "\n",
    "distance_matrix: np.ndarray = np.maximum.reduce([distance_matrix_0, distance_matrix_1, distance_matrix_2])"
   ]
  },
  {
   "cell_type": "code",
   "execution_count": 26,
   "metadata": {},
   "outputs": [
    {
     "data": {
      "text/html": [
       "<div>\n",
       "<style scoped>\n",
       "    .dataframe tbody tr th:only-of-type {\n",
       "        vertical-align: middle;\n",
       "    }\n",
       "\n",
       "    .dataframe tbody tr th {\n",
       "        vertical-align: top;\n",
       "    }\n",
       "\n",
       "    .dataframe thead th {\n",
       "        text-align: right;\n",
       "    }\n",
       "</style>\n",
       "<table border=\"1\" class=\"dataframe\">\n",
       "  <thead>\n",
       "    <tr style=\"text-align: right;\">\n",
       "      <th></th>\n",
       "      <th>1</th>\n",
       "      <th>2</th>\n",
       "      <th>3</th>\n",
       "      <th>4</th>\n",
       "      <th>5</th>\n",
       "      <th>Crystal System</th>\n",
       "      <th>Name</th>\n",
       "    </tr>\n",
       "  </thead>\n",
       "  <tbody>\n",
       "    <tr>\n",
       "      <th>0</th>\n",
       "      <td>-0.512560</td>\n",
       "      <td>0.614708</td>\n",
       "      <td>-1.241839</td>\n",
       "      <td>0.266248</td>\n",
       "      <td>-0.421273</td>\n",
       "      <td>Monoclinic</td>\n",
       "      <td>15_1</td>\n",
       "    </tr>\n",
       "    <tr>\n",
       "      <th>1</th>\n",
       "      <td>-0.657537</td>\n",
       "      <td>0.369298</td>\n",
       "      <td>-0.959566</td>\n",
       "      <td>-0.153510</td>\n",
       "      <td>0.403191</td>\n",
       "      <td>Monoclinic</td>\n",
       "      <td>15_2</td>\n",
       "    </tr>\n",
       "    <tr>\n",
       "      <th>2</th>\n",
       "      <td>-0.691478</td>\n",
       "      <td>-0.082155</td>\n",
       "      <td>-0.089305</td>\n",
       "      <td>0.361073</td>\n",
       "      <td>0.465768</td>\n",
       "      <td>Monoclinic</td>\n",
       "      <td>15_3</td>\n",
       "    </tr>\n",
       "    <tr>\n",
       "      <th>3</th>\n",
       "      <td>-0.115820</td>\n",
       "      <td>-0.014040</td>\n",
       "      <td>1.044064</td>\n",
       "      <td>0.785292</td>\n",
       "      <td>-0.322464</td>\n",
       "      <td>Monoclinic</td>\n",
       "      <td>15_4</td>\n",
       "    </tr>\n",
       "    <tr>\n",
       "      <th>4</th>\n",
       "      <td>-0.114091</td>\n",
       "      <td>0.808100</td>\n",
       "      <td>-0.867878</td>\n",
       "      <td>0.685158</td>\n",
       "      <td>0.396137</td>\n",
       "      <td>Monoclinic</td>\n",
       "      <td>15_5</td>\n",
       "    </tr>\n",
       "  </tbody>\n",
       "</table>\n",
       "</div>"
      ],
      "text/plain": [
       "          1         2         3         4         5 Crystal System  Name\n",
       "0 -0.512560  0.614708 -1.241839  0.266248 -0.421273     Monoclinic  15_1\n",
       "1 -0.657537  0.369298 -0.959566 -0.153510  0.403191     Monoclinic  15_2\n",
       "2 -0.691478 -0.082155 -0.089305  0.361073  0.465768     Monoclinic  15_3\n",
       "3 -0.115820 -0.014040  1.044064  0.785292 -0.322464     Monoclinic  15_4\n",
       "4 -0.114091  0.808100 -0.867878  0.685158  0.396137     Monoclinic  15_5"
      ]
     },
     "execution_count": 26,
     "metadata": {},
     "output_type": "execute_result"
    }
   ],
   "source": [
    "system = [v['system'] for v in crystal_dict.values()]\n",
    "crystals = list(crystal_dict.keys())\n",
    "\n",
    "n = 5\n",
    "mds = MDS(n_components=n, dissimilarity='precomputed', metric=True)\n",
    "embedding = mds.fit_transform(distance_matrix)\n",
    "\n",
    "embedding_df = pd.DataFrame(embedding, columns=[str(_+1) for _ in range(n)])\n",
    "embedding_df['Crystal System'] = system\n",
    "embedding_df['Name'] = crystals\n",
    "\n",
    "X = embedding\n",
    "y = embedding_df['Crystal System'].values\n",
    "\n",
    "X_train, X_test, y_train, y_test = train_test_split(X, y, test_size=0.3, random_state=42)\n",
    "\n",
    "embedding_df.head()"
   ]
  },
  {
   "cell_type": "code",
   "execution_count": 27,
   "metadata": {},
   "outputs": [
    {
     "name": "stdout",
     "output_type": "stream",
     "text": [
      "Accuracy: 0.97\n",
      "Classification Report:\n",
      "              precision    recall  f1-score   support\n",
      "\n",
      "  Monoclinic       0.94      1.00      0.97        17\n",
      "    Trigonal       1.00      0.92      0.96        13\n",
      "\n",
      "    accuracy                           0.97        30\n",
      "   macro avg       0.97      0.96      0.97        30\n",
      "weighted avg       0.97      0.97      0.97        30\n",
      "\n"
     ]
    }
   ],
   "source": [
    "clf = OneVsOneClassifier(SVC())\n",
    "clf.fit(X_train, y_train)\n",
    "\n",
    "y_pred = clf.predict(X_test)\n",
    "\n",
    "accuracy = accuracy_score(y_test, y_pred)\n",
    "print(f'Accuracy: {accuracy:.2f}')\n",
    "\n",
    "class_report = classification_report(y_test, y_pred, target_names = embedding_df['Crystal System'].unique())\n",
    "print('Classification Report:')\n",
    "print(class_report)"
   ]
  },
  {
   "cell_type": "markdown",
   "metadata": {},
   "source": [
    "# Monoclinic vs Hexagonal"
   ]
  },
  {
   "cell_type": "code",
   "execution_count": 35,
   "metadata": {},
   "outputs": [
    {
     "name": "stdout",
     "output_type": "stream",
     "text": [
      "Least common multiple: 24\n"
     ]
    }
   ],
   "source": [
    "crystal_system_1: str = 'Monoclinic'\n",
    "crystal_system_2: str = 'Hexagonal'\n",
    "\n",
    "space_groups_1: np.ndarray = df.loc[df['Crystal System'] == crystal_system_1]['Space Group'].unique()\n",
    "space_groups_2: np.ndarray = df.loc[df['Crystal System'] == crystal_system_2]['Space Group'].unique()\n",
    "\n",
    "random_space_group_index: np.ndarray = np.random.randint(low = 0, high = len(space_groups_1), size = 1, dtype = int)[0]\n",
    "space_group_1: int = space_groups_1[random_space_group_index]\n",
    "\n",
    "random_space_group_index: np.ndarray = np.random.randint(low = 0, high = len(space_groups_2), size = 1, dtype = int)[0]\n",
    "space_group_2: int = space_groups_2[random_space_group_index]\n",
    "\n",
    "row_1 = df.loc[df['Space Group'] == space_group_1]\n",
    "row_2 = df.loc[df['Space Group'] == space_group_2]\n",
    "\n",
    "group_order_1: int = row_1['Group Order'].values[0]\n",
    "group_order_2: int = row_2['Group Order'].values[0]\n",
    "\n",
    "least_common_multiple: int = lcm(group_order_1, group_order_2)\n",
    "print(f'Least common multiple: {least_common_multiple}')\n",
    "\n",
    "crystal_dict = {}\n",
    "n = 48"
   ]
  },
  {
   "cell_type": "code",
   "execution_count": 36,
   "metadata": {},
   "outputs": [
    {
     "name": "stderr",
     "output_type": "stream",
     "text": [
      "100%|██████████| 50/50 [00:00<00:00, 61.16it/s]\n"
     ]
    }
   ],
   "source": [
    "symmetries: list = row_1['Symmetries'].values[0].split(sep=\";\")\n",
    "symmetries: List[Symmetry] = [Symmetry(sym) for sym in symmetries]\n",
    "\n",
    "unit_cell: List[str] = row_1['Unit Cell'].values[0].split(sep=\",\")\n",
    "unit_cell: UnitCell = UnitCell(*[float(x) for x in unit_cell])\n",
    "normalised_unit_cell: UnitCell = unit_cell.normalise()\n",
    "\n",
    "normalising_constant: float = unit_cell.normalising_constant\n",
    "k = least_common_multiple // group_order_1\n",
    "if least_common_multiple < n:\n",
    "    k *= (n // least_common_multiple)\n",
    "\n",
    "rips = Rips(maxdim=2, verbose=False)\n",
    "\n",
    "for _ in tqdm(range(50)):\n",
    "    random_crystal: RandomCrystal = RandomCrystal(symmetries, k)\n",
    "    positional_coordinates: PositionalCoordinateList = random_crystal.fractional_coordinates.orthogonalise(unit_cell)\n",
    "    normalised_positional_coordinates: PositionalCoordinateList = positional_coordinates.normalise(normalising_constant)\n",
    "\n",
    "    distance_matrix: np.ndarray = normalised_positional_coordinates.calculate_distance_matrix(normalised_unit_cell, boundary_conditions=True)\n",
    "    persistence = rips.fit_transform(X = distance_matrix, distance_matrix=True)\n",
    "\n",
    "    for dim, intervals in enumerate(persistence):\n",
    "        persistence[dim] = np.array(list(filter(lambda i: i[1] < float('inf'), intervals)))\n",
    "\n",
    "    crystal_dict[f'{space_group_1}_{_+1}'] = {\n",
    "        'system': crystal_system_1,\n",
    "        'persistence': persistence\n",
    "    }"
   ]
  },
  {
   "cell_type": "code",
   "execution_count": 37,
   "metadata": {},
   "outputs": [
    {
     "name": "stderr",
     "output_type": "stream",
     "text": [
      "100%|██████████| 50/50 [00:01<00:00, 47.48it/s]\n"
     ]
    }
   ],
   "source": [
    "symmetries: list = row_2['Symmetries'].values[0].split(sep=\";\")\n",
    "symmetries: List[Symmetry] = [Symmetry(sym) for sym in symmetries]\n",
    "\n",
    "unit_cell: List[str] = row_2['Unit Cell'].values[0].split(sep=\",\")\n",
    "unit_cell: UnitCell = UnitCell(*[float(x) for x in unit_cell])\n",
    "normalised_unit_cell: UnitCell = unit_cell.normalise()\n",
    "\n",
    "normalising_constant: float = unit_cell.normalising_constant\n",
    "k = least_common_multiple // group_order_2\n",
    "if least_common_multiple < n:\n",
    "    k *= (n // least_common_multiple)\n",
    "\n",
    "rips = Rips(maxdim=2, verbose=False)\n",
    "\n",
    "for _ in tqdm(range(50)):\n",
    "    random_crystal: RandomCrystal = RandomCrystal(symmetries, k)\n",
    "    positional_coordinates: PositionalCoordinateList = random_crystal.fractional_coordinates.orthogonalise(unit_cell)\n",
    "    normalised_positional_coordinates: PositionalCoordinateList = positional_coordinates.normalise(normalising_constant)\n",
    "\n",
    "    distance_matrix: np.ndarray = normalised_positional_coordinates.calculate_distance_matrix(normalised_unit_cell, boundary_conditions=True)\n",
    "    persistence = rips.fit_transform(X = distance_matrix, distance_matrix=True)\n",
    "\n",
    "    for dim, intervals in enumerate(persistence):\n",
    "        persistence[dim] = np.array(list(filter(lambda i: i[1] < float('inf'), intervals)))\n",
    "\n",
    "    crystal_dict[f'{space_group_2}_{_+1}'] = {\n",
    "        'system': crystal_system_2,\n",
    "        'persistence': persistence\n",
    "    }"
   ]
  },
  {
   "cell_type": "code",
   "execution_count": 38,
   "metadata": {},
   "outputs": [
    {
     "name": "stderr",
     "output_type": "stream",
     "text": [
      "100%|██████████| 100/100 [00:01<00:00, 54.23it/s]\n",
      "100%|██████████| 100/100 [00:01<00:00, 67.28it/s]\n",
      "100%|██████████| 100/100 [00:01<00:00, 87.87it/s]\n"
     ]
    }
   ],
   "source": [
    "distance_matrix_0 = wasserstein_distance_matrix(crystal_dict, 0)\n",
    "distance_matrix_1 = wasserstein_distance_matrix(crystal_dict, 1)\n",
    "distance_matrix_2 = wasserstein_distance_matrix(crystal_dict, 2)\n",
    "\n",
    "distance_matrix: np.ndarray = np.maximum.reduce([distance_matrix_0, distance_matrix_1, distance_matrix_2])"
   ]
  },
  {
   "cell_type": "code",
   "execution_count": 39,
   "metadata": {},
   "outputs": [
    {
     "data": {
      "text/html": [
       "<div>\n",
       "<style scoped>\n",
       "    .dataframe tbody tr th:only-of-type {\n",
       "        vertical-align: middle;\n",
       "    }\n",
       "\n",
       "    .dataframe tbody tr th {\n",
       "        vertical-align: top;\n",
       "    }\n",
       "\n",
       "    .dataframe thead th {\n",
       "        text-align: right;\n",
       "    }\n",
       "</style>\n",
       "<table border=\"1\" class=\"dataframe\">\n",
       "  <thead>\n",
       "    <tr style=\"text-align: right;\">\n",
       "      <th></th>\n",
       "      <th>1</th>\n",
       "      <th>2</th>\n",
       "      <th>3</th>\n",
       "      <th>4</th>\n",
       "      <th>5</th>\n",
       "      <th>Crystal System</th>\n",
       "      <th>Name</th>\n",
       "    </tr>\n",
       "  </thead>\n",
       "  <tbody>\n",
       "    <tr>\n",
       "      <th>0</th>\n",
       "      <td>0.450592</td>\n",
       "      <td>0.167632</td>\n",
       "      <td>0.206459</td>\n",
       "      <td>0.705532</td>\n",
       "      <td>0.626213</td>\n",
       "      <td>Monoclinic</td>\n",
       "      <td>9_1</td>\n",
       "    </tr>\n",
       "    <tr>\n",
       "      <th>1</th>\n",
       "      <td>0.006509</td>\n",
       "      <td>0.072198</td>\n",
       "      <td>-0.141758</td>\n",
       "      <td>0.878599</td>\n",
       "      <td>-0.342972</td>\n",
       "      <td>Monoclinic</td>\n",
       "      <td>9_2</td>\n",
       "    </tr>\n",
       "    <tr>\n",
       "      <th>2</th>\n",
       "      <td>0.772370</td>\n",
       "      <td>-0.086290</td>\n",
       "      <td>0.943204</td>\n",
       "      <td>0.480953</td>\n",
       "      <td>0.427038</td>\n",
       "      <td>Monoclinic</td>\n",
       "      <td>9_3</td>\n",
       "    </tr>\n",
       "    <tr>\n",
       "      <th>3</th>\n",
       "      <td>-0.246274</td>\n",
       "      <td>0.267198</td>\n",
       "      <td>-0.090661</td>\n",
       "      <td>0.332684</td>\n",
       "      <td>-0.292561</td>\n",
       "      <td>Monoclinic</td>\n",
       "      <td>9_4</td>\n",
       "    </tr>\n",
       "    <tr>\n",
       "      <th>4</th>\n",
       "      <td>-0.335904</td>\n",
       "      <td>-0.038503</td>\n",
       "      <td>0.180145</td>\n",
       "      <td>0.856510</td>\n",
       "      <td>0.196812</td>\n",
       "      <td>Monoclinic</td>\n",
       "      <td>9_5</td>\n",
       "    </tr>\n",
       "  </tbody>\n",
       "</table>\n",
       "</div>"
      ],
      "text/plain": [
       "          1         2         3         4         5 Crystal System Name\n",
       "0  0.450592  0.167632  0.206459  0.705532  0.626213     Monoclinic  9_1\n",
       "1  0.006509  0.072198 -0.141758  0.878599 -0.342972     Monoclinic  9_2\n",
       "2  0.772370 -0.086290  0.943204  0.480953  0.427038     Monoclinic  9_3\n",
       "3 -0.246274  0.267198 -0.090661  0.332684 -0.292561     Monoclinic  9_4\n",
       "4 -0.335904 -0.038503  0.180145  0.856510  0.196812     Monoclinic  9_5"
      ]
     },
     "execution_count": 39,
     "metadata": {},
     "output_type": "execute_result"
    }
   ],
   "source": [
    "system = [v['system'] for v in crystal_dict.values()]\n",
    "crystals = list(crystal_dict.keys())\n",
    "\n",
    "n = 5\n",
    "mds = MDS(n_components=n, dissimilarity='precomputed', metric=True)\n",
    "embedding = mds.fit_transform(distance_matrix)\n",
    "\n",
    "embedding_df = pd.DataFrame(embedding, columns=[str(_+1) for _ in range(n)])\n",
    "embedding_df['Crystal System'] = system\n",
    "embedding_df['Name'] = crystals\n",
    "\n",
    "X = embedding\n",
    "y = embedding_df['Crystal System'].values\n",
    "\n",
    "X_train, X_test, y_train, y_test = train_test_split(X, y, test_size=0.3, random_state=42)\n",
    "\n",
    "embedding_df.head()"
   ]
  },
  {
   "cell_type": "code",
   "execution_count": 40,
   "metadata": {},
   "outputs": [
    {
     "name": "stdout",
     "output_type": "stream",
     "text": [
      "Accuracy: 0.97\n",
      "Classification Report:\n",
      "              precision    recall  f1-score   support\n",
      "\n",
      "  Monoclinic       0.93      1.00      0.96        13\n",
      "   Hexagonal       1.00      0.94      0.97        17\n",
      "\n",
      "    accuracy                           0.97        30\n",
      "   macro avg       0.96      0.97      0.97        30\n",
      "weighted avg       0.97      0.97      0.97        30\n",
      "\n"
     ]
    }
   ],
   "source": [
    "clf = OneVsOneClassifier(SVC())\n",
    "clf.fit(X_train, y_train)\n",
    "\n",
    "y_pred = clf.predict(X_test)\n",
    "\n",
    "accuracy = accuracy_score(y_test, y_pred)\n",
    "print(f'Accuracy: {accuracy:.2f}')\n",
    "\n",
    "class_report = classification_report(y_test, y_pred, target_names = embedding_df['Crystal System'].unique())\n",
    "print('Classification Report:')\n",
    "print(class_report)"
   ]
  },
  {
   "cell_type": "markdown",
   "metadata": {},
   "source": [
    "# Monoclinic vs Cubic"
   ]
  },
  {
   "cell_type": "code",
   "execution_count": 41,
   "metadata": {},
   "outputs": [
    {
     "name": "stdout",
     "output_type": "stream",
     "text": [
      "Least common multiple: 96\n"
     ]
    }
   ],
   "source": [
    "crystal_system_1: str = 'Monoclinic'\n",
    "crystal_system_2: str = 'Cubic'\n",
    "\n",
    "space_groups_1: np.ndarray = df.loc[df['Crystal System'] == crystal_system_1]['Space Group'].unique()\n",
    "space_groups_2: np.ndarray = df.loc[df['Crystal System'] == crystal_system_2]['Space Group'].unique()\n",
    "\n",
    "random_space_group_index: np.ndarray = np.random.randint(low = 0, high = len(space_groups_1), size = 1, dtype = int)[0]\n",
    "space_group_1: int = space_groups_1[random_space_group_index]\n",
    "\n",
    "random_space_group_index: np.ndarray = np.random.randint(low = 0, high = len(space_groups_2), size = 1, dtype = int)[0]\n",
    "space_group_2: int = space_groups_2[random_space_group_index]\n",
    "\n",
    "row_1 = df.loc[df['Space Group'] == space_group_1]\n",
    "row_2 = df.loc[df['Space Group'] == space_group_2]\n",
    "\n",
    "group_order_1: int = row_1['Group Order'].values[0]\n",
    "group_order_2: int = row_2['Group Order'].values[0]\n",
    "\n",
    "least_common_multiple: int = lcm(group_order_1, group_order_2)\n",
    "print(f'Least common multiple: {least_common_multiple}')\n",
    "\n",
    "crystal_dict = {}\n",
    "n = 48"
   ]
  },
  {
   "cell_type": "code",
   "execution_count": 42,
   "metadata": {},
   "outputs": [
    {
     "name": "stderr",
     "output_type": "stream",
     "text": [
      "100%|██████████| 50/50 [00:04<00:00, 11.56it/s]\n"
     ]
    }
   ],
   "source": [
    "symmetries: list = row_1['Symmetries'].values[0].split(sep=\";\")\n",
    "symmetries: List[Symmetry] = [Symmetry(sym) for sym in symmetries]\n",
    "\n",
    "unit_cell: List[str] = row_1['Unit Cell'].values[0].split(sep=\",\")\n",
    "unit_cell: UnitCell = UnitCell(*[float(x) for x in unit_cell])\n",
    "normalised_unit_cell: UnitCell = unit_cell.normalise()\n",
    "\n",
    "normalising_constant: float = unit_cell.normalising_constant\n",
    "k = least_common_multiple // group_order_1\n",
    "if least_common_multiple < n:\n",
    "    k *= (n // least_common_multiple)\n",
    "\n",
    "rips = Rips(maxdim=2, verbose=False)\n",
    "\n",
    "for _ in tqdm(range(50)):\n",
    "    random_crystal: RandomCrystal = RandomCrystal(symmetries, k)\n",
    "    positional_coordinates: PositionalCoordinateList = random_crystal.fractional_coordinates.orthogonalise(unit_cell)\n",
    "    normalised_positional_coordinates: PositionalCoordinateList = positional_coordinates.normalise(normalising_constant)\n",
    "\n",
    "    distance_matrix: np.ndarray = normalised_positional_coordinates.calculate_distance_matrix(normalised_unit_cell, boundary_conditions=True)\n",
    "    persistence = rips.fit_transform(X = distance_matrix, distance_matrix=True)\n",
    "\n",
    "    for dim, intervals in enumerate(persistence):\n",
    "        persistence[dim] = np.array(list(filter(lambda i: i[1] < float('inf'), intervals)))\n",
    "\n",
    "    crystal_dict[f'{space_group_1}_{_+1}'] = {\n",
    "        'system': crystal_system_1,\n",
    "        'persistence': persistence\n",
    "    }"
   ]
  },
  {
   "cell_type": "code",
   "execution_count": 43,
   "metadata": {},
   "outputs": [
    {
     "name": "stderr",
     "output_type": "stream",
     "text": [
      "100%|██████████| 50/50 [00:09<00:00,  5.24it/s]\n"
     ]
    }
   ],
   "source": [
    "symmetries: list = row_2['Symmetries'].values[0].split(sep=\";\")\n",
    "symmetries: List[Symmetry] = [Symmetry(sym) for sym in symmetries]\n",
    "\n",
    "unit_cell: List[str] = row_2['Unit Cell'].values[0].split(sep=\",\")\n",
    "unit_cell: UnitCell = UnitCell(*[float(x) for x in unit_cell])\n",
    "normalised_unit_cell: UnitCell = unit_cell.normalise()\n",
    "\n",
    "normalising_constant: float = unit_cell.normalising_constant\n",
    "k = least_common_multiple // group_order_2\n",
    "if least_common_multiple < n:\n",
    "    k *= (n // least_common_multiple)\n",
    "\n",
    "rips = Rips(maxdim=2, verbose=False)\n",
    "\n",
    "for _ in tqdm(range(50)):\n",
    "    random_crystal: RandomCrystal = RandomCrystal(symmetries, k)\n",
    "    positional_coordinates: PositionalCoordinateList = random_crystal.fractional_coordinates.orthogonalise(unit_cell)\n",
    "    normalised_positional_coordinates: PositionalCoordinateList = positional_coordinates.normalise(normalising_constant)\n",
    "\n",
    "    distance_matrix: np.ndarray = normalised_positional_coordinates.calculate_distance_matrix(normalised_unit_cell, boundary_conditions=True)\n",
    "    persistence = rips.fit_transform(X = distance_matrix, distance_matrix=True)\n",
    "\n",
    "    for dim, intervals in enumerate(persistence):\n",
    "        persistence[dim] = np.array(list(filter(lambda i: i[1] < float('inf'), intervals)))\n",
    "\n",
    "    crystal_dict[f'{space_group_2}_{_+1}'] = {\n",
    "        'system': crystal_system_2,\n",
    "        'persistence': persistence\n",
    "    }"
   ]
  },
  {
   "cell_type": "code",
   "execution_count": 44,
   "metadata": {},
   "outputs": [
    {
     "name": "stderr",
     "output_type": "stream",
     "text": [
      "100%|██████████| 100/100 [00:03<00:00, 28.82it/s]\n",
      "100%|██████████| 100/100 [00:02<00:00, 34.21it/s]\n",
      "100%|██████████| 100/100 [00:03<00:00, 26.69it/s]\n"
     ]
    }
   ],
   "source": [
    "distance_matrix_0 = wasserstein_distance_matrix(crystal_dict, 0)\n",
    "distance_matrix_1 = wasserstein_distance_matrix(crystal_dict, 1)\n",
    "distance_matrix_2 = wasserstein_distance_matrix(crystal_dict, 2)\n",
    "\n",
    "distance_matrix: np.ndarray = np.maximum.reduce([distance_matrix_0, distance_matrix_1, distance_matrix_2])"
   ]
  },
  {
   "cell_type": "code",
   "execution_count": 45,
   "metadata": {},
   "outputs": [
    {
     "data": {
      "text/html": [
       "<div>\n",
       "<style scoped>\n",
       "    .dataframe tbody tr th:only-of-type {\n",
       "        vertical-align: middle;\n",
       "    }\n",
       "\n",
       "    .dataframe tbody tr th {\n",
       "        vertical-align: top;\n",
       "    }\n",
       "\n",
       "    .dataframe thead th {\n",
       "        text-align: right;\n",
       "    }\n",
       "</style>\n",
       "<table border=\"1\" class=\"dataframe\">\n",
       "  <thead>\n",
       "    <tr style=\"text-align: right;\">\n",
       "      <th></th>\n",
       "      <th>1</th>\n",
       "      <th>2</th>\n",
       "      <th>3</th>\n",
       "      <th>4</th>\n",
       "      <th>5</th>\n",
       "      <th>Crystal System</th>\n",
       "      <th>Name</th>\n",
       "    </tr>\n",
       "  </thead>\n",
       "  <tbody>\n",
       "    <tr>\n",
       "      <th>0</th>\n",
       "      <td>-0.039644</td>\n",
       "      <td>0.161578</td>\n",
       "      <td>-0.432109</td>\n",
       "      <td>-0.817307</td>\n",
       "      <td>0.834220</td>\n",
       "      <td>Monoclinic</td>\n",
       "      <td>9_1</td>\n",
       "    </tr>\n",
       "    <tr>\n",
       "      <th>1</th>\n",
       "      <td>0.591387</td>\n",
       "      <td>-0.167386</td>\n",
       "      <td>-0.267927</td>\n",
       "      <td>-0.599779</td>\n",
       "      <td>0.840153</td>\n",
       "      <td>Monoclinic</td>\n",
       "      <td>9_2</td>\n",
       "    </tr>\n",
       "    <tr>\n",
       "      <th>2</th>\n",
       "      <td>0.011751</td>\n",
       "      <td>-0.375347</td>\n",
       "      <td>0.326015</td>\n",
       "      <td>-0.126027</td>\n",
       "      <td>0.539519</td>\n",
       "      <td>Monoclinic</td>\n",
       "      <td>9_3</td>\n",
       "    </tr>\n",
       "    <tr>\n",
       "      <th>3</th>\n",
       "      <td>0.018180</td>\n",
       "      <td>-0.427665</td>\n",
       "      <td>-0.442267</td>\n",
       "      <td>-0.866687</td>\n",
       "      <td>0.182212</td>\n",
       "      <td>Monoclinic</td>\n",
       "      <td>9_4</td>\n",
       "    </tr>\n",
       "    <tr>\n",
       "      <th>4</th>\n",
       "      <td>0.550965</td>\n",
       "      <td>-0.393688</td>\n",
       "      <td>-1.284181</td>\n",
       "      <td>-1.031077</td>\n",
       "      <td>0.562738</td>\n",
       "      <td>Monoclinic</td>\n",
       "      <td>9_5</td>\n",
       "    </tr>\n",
       "  </tbody>\n",
       "</table>\n",
       "</div>"
      ],
      "text/plain": [
       "          1         2         3         4         5 Crystal System Name\n",
       "0 -0.039644  0.161578 -0.432109 -0.817307  0.834220     Monoclinic  9_1\n",
       "1  0.591387 -0.167386 -0.267927 -0.599779  0.840153     Monoclinic  9_2\n",
       "2  0.011751 -0.375347  0.326015 -0.126027  0.539519     Monoclinic  9_3\n",
       "3  0.018180 -0.427665 -0.442267 -0.866687  0.182212     Monoclinic  9_4\n",
       "4  0.550965 -0.393688 -1.284181 -1.031077  0.562738     Monoclinic  9_5"
      ]
     },
     "execution_count": 45,
     "metadata": {},
     "output_type": "execute_result"
    }
   ],
   "source": [
    "system = [v['system'] for v in crystal_dict.values()]\n",
    "crystals = list(crystal_dict.keys())\n",
    "\n",
    "n = 5\n",
    "mds = MDS(n_components=n, dissimilarity='precomputed', metric=True)\n",
    "embedding = mds.fit_transform(distance_matrix)\n",
    "\n",
    "embedding_df = pd.DataFrame(embedding, columns=[str(_+1) for _ in range(n)])\n",
    "embedding_df['Crystal System'] = system\n",
    "embedding_df['Name'] = crystals\n",
    "\n",
    "X = embedding\n",
    "y = embedding_df['Crystal System'].values\n",
    "\n",
    "X_train, X_test, y_train, y_test = train_test_split(X, y, test_size=0.3, random_state=42)\n",
    "\n",
    "embedding_df.head()"
   ]
  },
  {
   "cell_type": "code",
   "execution_count": 46,
   "metadata": {},
   "outputs": [
    {
     "name": "stdout",
     "output_type": "stream",
     "text": [
      "Accuracy: 1.00\n",
      "Classification Report:\n",
      "              precision    recall  f1-score   support\n",
      "\n",
      "  Monoclinic       1.00      1.00      1.00        13\n",
      "       Cubic       1.00      1.00      1.00        17\n",
      "\n",
      "    accuracy                           1.00        30\n",
      "   macro avg       1.00      1.00      1.00        30\n",
      "weighted avg       1.00      1.00      1.00        30\n",
      "\n"
     ]
    }
   ],
   "source": [
    "clf = OneVsOneClassifier(SVC())\n",
    "clf.fit(X_train, y_train)\n",
    "\n",
    "y_pred = clf.predict(X_test)\n",
    "\n",
    "accuracy = accuracy_score(y_test, y_pred)\n",
    "print(f'Accuracy: {accuracy:.2f}')\n",
    "\n",
    "class_report = classification_report(y_test, y_pred, target_names = embedding_df['Crystal System'].unique())\n",
    "print('Classification Report:')\n",
    "print(class_report)"
   ]
  },
  {
   "cell_type": "code",
   "execution_count": null,
   "metadata": {},
   "outputs": [],
   "source": []
  }
 ],
 "metadata": {
  "kernelspec": {
   "display_name": "venv",
   "language": "python",
   "name": "python3"
  },
  "language_info": {
   "codemirror_mode": {
    "name": "ipython",
    "version": 3
   },
   "file_extension": ".py",
   "mimetype": "text/x-python",
   "name": "python",
   "nbconvert_exporter": "python",
   "pygments_lexer": "ipython3",
   "version": "3.12.2"
  }
 },
 "nbformat": 4,
 "nbformat_minor": 2
}
