{
 "cells": [
  {
   "cell_type": "code",
   "execution_count": 1,
   "metadata": {},
   "outputs": [],
   "source": [
    "import os\n",
    "os.chdir(\"../../crystal/\")\n",
    "\n",
    "import pandas as pd\n",
    "import numpy as np\n",
    "import matplotlib.pyplot as plt\n",
    "import plotly.express as px\n",
    "import plotly.io as pio\n",
    "\n",
    "from tqdm import tqdm\n",
    "from math import lcm\n",
    "from typing import List, Dict\n",
    "from ripser import Rips\n",
    "from utils import wasserstein_distance_matrix, plot_distance_matrix\n",
    "\n",
    "from Symmetry import Symmetry\n",
    "from UnitCell import UnitCell\n",
    "from RandomCrystal import RandomCrystal\n",
    "from Fractional import FractionalCoordinate, FractionalCoordinateList\n",
    "from Positional import PositionalCoordinate, PositionalCoordinateList\n",
    "\n",
    "from sklearn.manifold import TSNE, Isomap, MDS, SpectralEmbedding\n",
    "from sklearn.multiclass import OneVsOneClassifier\n",
    "from sklearn.svm import SVC\n",
    "\n",
    "from sklearn.model_selection import train_test_split\n",
    "from sklearn.metrics import accuracy_score, classification_report\n",
    "\n",
    "plt.rcParams['text.usetex'] = False"
   ]
  },
  {
   "cell_type": "code",
   "execution_count": 2,
   "metadata": {},
   "outputs": [
    {
     "data": {
      "text/html": [
       "<div>\n",
       "<style scoped>\n",
       "    .dataframe tbody tr th:only-of-type {\n",
       "        vertical-align: middle;\n",
       "    }\n",
       "\n",
       "    .dataframe tbody tr th {\n",
       "        vertical-align: top;\n",
       "    }\n",
       "\n",
       "    .dataframe thead th {\n",
       "        text-align: right;\n",
       "    }\n",
       "</style>\n",
       "<table border=\"1\" class=\"dataframe\">\n",
       "  <thead>\n",
       "    <tr style=\"text-align: right;\">\n",
       "      <th></th>\n",
       "      <th>Space Group</th>\n",
       "      <th>Crystal System</th>\n",
       "      <th>Asymmetric Unit</th>\n",
       "      <th>Symmetries</th>\n",
       "      <th>Group Order</th>\n",
       "      <th>Unit Cell</th>\n",
       "    </tr>\n",
       "  </thead>\n",
       "  <tbody>\n",
       "    <tr>\n",
       "      <th>0</th>\n",
       "      <td>2</td>\n",
       "      <td>Triclinic</td>\n",
       "      <td>30</td>\n",
       "      <td>x,y,z;-x,-y,-z</td>\n",
       "      <td>2</td>\n",
       "      <td>13.027,11.1822,9.2189,92.35,107.3,104.5</td>\n",
       "    </tr>\n",
       "    <tr>\n",
       "      <th>1</th>\n",
       "      <td>9</td>\n",
       "      <td>Monoclinic</td>\n",
       "      <td>71</td>\n",
       "      <td>x,y,z;x,-y,z+1/2;x+1/2,y+1/2,z;x+1/2,-y+1/2,z+1/2</td>\n",
       "      <td>4</td>\n",
       "      <td>20.408,13.304,20.166,90.0,102.33,90.0</td>\n",
       "    </tr>\n",
       "    <tr>\n",
       "      <th>2</th>\n",
       "      <td>10</td>\n",
       "      <td>Monoclinic</td>\n",
       "      <td>50</td>\n",
       "      <td>x,y,z;-x,y,-z;-x,-y,-z;x,-y,z</td>\n",
       "      <td>4</td>\n",
       "      <td>12.7411,12.6989,20.9991,90.0,96.29,90.0</td>\n",
       "    </tr>\n",
       "    <tr>\n",
       "      <th>3</th>\n",
       "      <td>11</td>\n",
       "      <td>Monoclinic</td>\n",
       "      <td>25</td>\n",
       "      <td>x,y,z;-x,y+1/2,-z;-x,-y,-z;x,-y+1/2,z</td>\n",
       "      <td>4</td>\n",
       "      <td>11.454,21.695,7.227,90.0,93.15,90.0</td>\n",
       "    </tr>\n",
       "    <tr>\n",
       "      <th>4</th>\n",
       "      <td>12</td>\n",
       "      <td>Monoclinic</td>\n",
       "      <td>24</td>\n",
       "      <td>x,y,z;-x,y,-z;-x,-y,-z;x,-y,z;x+1/2,y+1/2,z;-x...</td>\n",
       "      <td>8</td>\n",
       "      <td>22.684,13.373,12.553,90.0,69.48,90.0</td>\n",
       "    </tr>\n",
       "    <tr>\n",
       "      <th>...</th>\n",
       "      <td>...</td>\n",
       "      <td>...</td>\n",
       "      <td>...</td>\n",
       "      <td>...</td>\n",
       "      <td>...</td>\n",
       "      <td>...</td>\n",
       "    </tr>\n",
       "    <tr>\n",
       "      <th>68</th>\n",
       "      <td>223</td>\n",
       "      <td>Cubic</td>\n",
       "      <td>7</td>\n",
       "      <td>x,y,z;-x,-y,z;x,-y,-z;-x,y,-z;z,x,y;y,z,x;-z,-...</td>\n",
       "      <td>48</td>\n",
       "      <td>13.705,13.705,13.705,90.0,90.0,90.0</td>\n",
       "    </tr>\n",
       "    <tr>\n",
       "      <th>69</th>\n",
       "      <td>225</td>\n",
       "      <td>Cubic</td>\n",
       "      <td>4</td>\n",
       "      <td>x,y,z;-x,-y,z;x,-y,-z;-x,y,-z;z,x,y;y,z,x;-z,-...</td>\n",
       "      <td>192</td>\n",
       "      <td>13.624,13.624,13.624,90.0,90.0,90.0</td>\n",
       "    </tr>\n",
       "    <tr>\n",
       "      <th>70</th>\n",
       "      <td>227</td>\n",
       "      <td>Cubic</td>\n",
       "      <td>5</td>\n",
       "      <td>x,y,z;-x+1/4,-y+1/4,z;x,-y+1/4,-z+1/4;-x+1/4,y...</td>\n",
       "      <td>192</td>\n",
       "      <td>24.345,24.345,24.345,90.0,90.0,90.0</td>\n",
       "    </tr>\n",
       "    <tr>\n",
       "      <th>71</th>\n",
       "      <td>229</td>\n",
       "      <td>Cubic</td>\n",
       "      <td>5</td>\n",
       "      <td>x,y,z;-x,-y,z;x,-y,-z;-x,y,-z;z,x,y;y,z,x;-z,-...</td>\n",
       "      <td>96</td>\n",
       "      <td>18.578,18.578,18.578,90.0,90.0,90.0</td>\n",
       "    </tr>\n",
       "    <tr>\n",
       "      <th>72</th>\n",
       "      <td>230</td>\n",
       "      <td>Cubic</td>\n",
       "      <td>3</td>\n",
       "      <td>x,y,z;-x,-y+1/2,z;x,-y,-z+1/2;-x+1/2,y,-z;z,x,...</td>\n",
       "      <td>96</td>\n",
       "      <td>17.252,17.252,17.252,90.0,90.0,90.0</td>\n",
       "    </tr>\n",
       "  </tbody>\n",
       "</table>\n",
       "<p>73 rows × 6 columns</p>\n",
       "</div>"
      ],
      "text/plain": [
       "    Space Group Crystal System  Asymmetric Unit  \\\n",
       "0             2      Triclinic               30   \n",
       "1             9     Monoclinic               71   \n",
       "2            10     Monoclinic               50   \n",
       "3            11     Monoclinic               25   \n",
       "4            12     Monoclinic               24   \n",
       "..          ...            ...              ...   \n",
       "68          223          Cubic                7   \n",
       "69          225          Cubic                4   \n",
       "70          227          Cubic                5   \n",
       "71          229          Cubic                5   \n",
       "72          230          Cubic                3   \n",
       "\n",
       "                                           Symmetries  Group Order  \\\n",
       "0                                      x,y,z;-x,-y,-z            2   \n",
       "1   x,y,z;x,-y,z+1/2;x+1/2,y+1/2,z;x+1/2,-y+1/2,z+1/2            4   \n",
       "2                       x,y,z;-x,y,-z;-x,-y,-z;x,-y,z            4   \n",
       "3               x,y,z;-x,y+1/2,-z;-x,-y,-z;x,-y+1/2,z            4   \n",
       "4   x,y,z;-x,y,-z;-x,-y,-z;x,-y,z;x+1/2,y+1/2,z;-x...            8   \n",
       "..                                                ...          ...   \n",
       "68  x,y,z;-x,-y,z;x,-y,-z;-x,y,-z;z,x,y;y,z,x;-z,-...           48   \n",
       "69  x,y,z;-x,-y,z;x,-y,-z;-x,y,-z;z,x,y;y,z,x;-z,-...          192   \n",
       "70  x,y,z;-x+1/4,-y+1/4,z;x,-y+1/4,-z+1/4;-x+1/4,y...          192   \n",
       "71  x,y,z;-x,-y,z;x,-y,-z;-x,y,-z;z,x,y;y,z,x;-z,-...           96   \n",
       "72  x,y,z;-x,-y+1/2,z;x,-y,-z+1/2;-x+1/2,y,-z;z,x,...           96   \n",
       "\n",
       "                                  Unit Cell  \n",
       "0   13.027,11.1822,9.2189,92.35,107.3,104.5  \n",
       "1     20.408,13.304,20.166,90.0,102.33,90.0  \n",
       "2   12.7411,12.6989,20.9991,90.0,96.29,90.0  \n",
       "3       11.454,21.695,7.227,90.0,93.15,90.0  \n",
       "4      22.684,13.373,12.553,90.0,69.48,90.0  \n",
       "..                                      ...  \n",
       "68      13.705,13.705,13.705,90.0,90.0,90.0  \n",
       "69      13.624,13.624,13.624,90.0,90.0,90.0  \n",
       "70      24.345,24.345,24.345,90.0,90.0,90.0  \n",
       "71      18.578,18.578,18.578,90.0,90.0,90.0  \n",
       "72      17.252,17.252,17.252,90.0,90.0,90.0  \n",
       "\n",
       "[73 rows x 6 columns]"
      ]
     },
     "execution_count": 2,
     "metadata": {},
     "output_type": "execute_result"
    }
   ],
   "source": [
    "df = pd.read_csv(\"output/space_groups.csv\", sep=\" \")\n",
    "df"
   ]
  },
  {
   "cell_type": "markdown",
   "metadata": {},
   "source": [
    "# Orthorhombic vs Tetragonal"
   ]
  },
  {
   "cell_type": "code",
   "execution_count": 15,
   "metadata": {},
   "outputs": [
    {
     "name": "stdout",
     "output_type": "stream",
     "text": [
      "Least common multiple: 16\n"
     ]
    }
   ],
   "source": [
    "crystal_system_1: str = 'Orthorhombic'\n",
    "crystal_system_2: str = 'Tetragonal'\n",
    "\n",
    "space_groups_1: np.ndarray = df.loc[df['Crystal System'] == crystal_system_1]['Space Group'].unique()\n",
    "space_groups_2: np.ndarray = df.loc[df['Crystal System'] == crystal_system_2]['Space Group'].unique()\n",
    "\n",
    "random_space_group_index: np.ndarray = np.random.randint(low = 0, high = len(space_groups_1), size = 1, dtype = int)[0]\n",
    "space_group_1: int = space_groups_1[random_space_group_index]\n",
    "\n",
    "random_space_group_index: np.ndarray = np.random.randint(low = 0, high = len(space_groups_2), size = 1, dtype = int)[0]\n",
    "space_group_2: int = space_groups_2[random_space_group_index]\n",
    "\n",
    "row_1 = df.loc[df['Space Group'] == space_group_1]\n",
    "row_2 = df.loc[df['Space Group'] == space_group_2]\n",
    "\n",
    "group_order_1: int = row_1['Group Order'].values[0]\n",
    "group_order_2: int = row_2['Group Order'].values[0]\n",
    "\n",
    "least_common_multiple: int = lcm(group_order_1, group_order_2)\n",
    "print(f'Least common multiple: {least_common_multiple}')\n",
    "\n",
    "crystal_dict = {}\n",
    "n = 96"
   ]
  },
  {
   "cell_type": "code",
   "execution_count": 16,
   "metadata": {},
   "outputs": [
    {
     "name": "stderr",
     "output_type": "stream",
     "text": [
      "100%|██████████| 50/50 [00:05<00:00,  9.83it/s]\n"
     ]
    }
   ],
   "source": [
    "symmetries: list = row_1['Symmetries'].values[0].split(sep=\";\")\n",
    "symmetries: List[Symmetry] = [Symmetry(sym) for sym in symmetries]\n",
    "\n",
    "unit_cell: List[str] = row_1['Unit Cell'].values[0].split(sep=\",\")\n",
    "unit_cell: UnitCell = UnitCell(*[float(x) for x in unit_cell])\n",
    "normalised_unit_cell: UnitCell = unit_cell.normalise()\n",
    "\n",
    "normalising_constant: float = unit_cell.normalising_constant\n",
    "k = least_common_multiple // group_order_1\n",
    "if least_common_multiple < n:\n",
    "    k *= (n // least_common_multiple)\n",
    "\n",
    "rips = Rips(maxdim=2, verbose=False)\n",
    "\n",
    "for _ in tqdm(range(50)):\n",
    "    random_crystal: RandomCrystal = RandomCrystal(symmetries, k)\n",
    "    positional_coordinates: PositionalCoordinateList = random_crystal.fractional_coordinates.orthogonalise(unit_cell)\n",
    "    normalised_positional_coordinates: PositionalCoordinateList = positional_coordinates.normalise(normalising_constant)\n",
    "\n",
    "    distance_matrix: np.ndarray = normalised_positional_coordinates.calculate_distance_matrix(normalised_unit_cell, boundary_conditions=True)\n",
    "    persistence = rips.fit_transform(X = distance_matrix, distance_matrix=True)\n",
    "\n",
    "    for dim, intervals in enumerate(persistence):\n",
    "        persistence[dim] = np.array(list(filter(lambda i: i[1] < float('inf'), intervals)))\n",
    "\n",
    "    crystal_dict[f'{space_group_1}_{_+1}'] = {\n",
    "        'system': crystal_system_1,\n",
    "        'persistence': persistence\n",
    "    }"
   ]
  },
  {
   "cell_type": "code",
   "execution_count": 17,
   "metadata": {},
   "outputs": [
    {
     "name": "stderr",
     "output_type": "stream",
     "text": [
      "  0%|          | 0/50 [00:00<?, ?it/s]"
     ]
    },
    {
     "name": "stderr",
     "output_type": "stream",
     "text": [
      "100%|██████████| 50/50 [00:04<00:00, 11.19it/s]\n"
     ]
    }
   ],
   "source": [
    "symmetries: list = row_2['Symmetries'].values[0].split(sep=\";\")\n",
    "symmetries: List[Symmetry] = [Symmetry(sym) for sym in symmetries]\n",
    "\n",
    "unit_cell: List[str] = row_2['Unit Cell'].values[0].split(sep=\",\")\n",
    "unit_cell: UnitCell = UnitCell(*[float(x) for x in unit_cell])\n",
    "normalised_unit_cell: UnitCell = unit_cell.normalise()\n",
    "\n",
    "normalising_constant: float = unit_cell.normalising_constant\n",
    "k = least_common_multiple // group_order_2\n",
    "if least_common_multiple < n:\n",
    "    k *= (n // least_common_multiple)\n",
    "\n",
    "rips = Rips(maxdim=2, verbose=False)\n",
    "\n",
    "for _ in tqdm(range(50)):\n",
    "    random_crystal: RandomCrystal = RandomCrystal(symmetries, k)\n",
    "    positional_coordinates: PositionalCoordinateList = random_crystal.fractional_coordinates.orthogonalise(unit_cell)\n",
    "    normalised_positional_coordinates: PositionalCoordinateList = positional_coordinates.normalise(normalising_constant)\n",
    "\n",
    "    distance_matrix: np.ndarray = normalised_positional_coordinates.calculate_distance_matrix(normalised_unit_cell, boundary_conditions=True)\n",
    "    persistence = rips.fit_transform(X = distance_matrix, distance_matrix=True)\n",
    "\n",
    "    for dim, intervals in enumerate(persistence):\n",
    "        persistence[dim] = np.array(list(filter(lambda i: i[1] < float('inf'), intervals)))\n",
    "\n",
    "    crystal_dict[f'{space_group_2}_{_+1}'] = {\n",
    "        'system': crystal_system_2,\n",
    "        'persistence': persistence\n",
    "    }"
   ]
  },
  {
   "cell_type": "code",
   "execution_count": 18,
   "metadata": {},
   "outputs": [
    {
     "name": "stderr",
     "output_type": "stream",
     "text": [
      "100%|██████████| 100/100 [00:03<00:00, 25.41it/s]\n",
      "100%|██████████| 100/100 [00:02<00:00, 37.43it/s]\n",
      "100%|██████████| 100/100 [00:01<00:00, 55.22it/s]\n"
     ]
    }
   ],
   "source": [
    "distance_matrix_0 = wasserstein_distance_matrix(crystal_dict, 0)\n",
    "distance_matrix_1 = wasserstein_distance_matrix(crystal_dict, 1)\n",
    "distance_matrix_2 = wasserstein_distance_matrix(crystal_dict, 2)\n",
    "\n",
    "distance_matrix: np.ndarray = np.maximum.reduce([distance_matrix_0, distance_matrix_1, distance_matrix_2])"
   ]
  },
  {
   "cell_type": "code",
   "execution_count": 19,
   "metadata": {},
   "outputs": [
    {
     "data": {
      "text/html": [
       "<div>\n",
       "<style scoped>\n",
       "    .dataframe tbody tr th:only-of-type {\n",
       "        vertical-align: middle;\n",
       "    }\n",
       "\n",
       "    .dataframe tbody tr th {\n",
       "        vertical-align: top;\n",
       "    }\n",
       "\n",
       "    .dataframe thead th {\n",
       "        text-align: right;\n",
       "    }\n",
       "</style>\n",
       "<table border=\"1\" class=\"dataframe\">\n",
       "  <thead>\n",
       "    <tr style=\"text-align: right;\">\n",
       "      <th></th>\n",
       "      <th>1</th>\n",
       "      <th>2</th>\n",
       "      <th>3</th>\n",
       "      <th>4</th>\n",
       "      <th>5</th>\n",
       "      <th>Crystal System</th>\n",
       "      <th>Name</th>\n",
       "    </tr>\n",
       "  </thead>\n",
       "  <tbody>\n",
       "    <tr>\n",
       "      <th>0</th>\n",
       "      <td>1.183376</td>\n",
       "      <td>-2.341149</td>\n",
       "      <td>0.557051</td>\n",
       "      <td>0.864894</td>\n",
       "      <td>0.488278</td>\n",
       "      <td>Orthorhombic</td>\n",
       "      <td>42_1</td>\n",
       "    </tr>\n",
       "    <tr>\n",
       "      <th>1</th>\n",
       "      <td>0.114120</td>\n",
       "      <td>-3.048407</td>\n",
       "      <td>0.569660</td>\n",
       "      <td>-0.119038</td>\n",
       "      <td>0.432919</td>\n",
       "      <td>Orthorhombic</td>\n",
       "      <td>42_2</td>\n",
       "    </tr>\n",
       "    <tr>\n",
       "      <th>2</th>\n",
       "      <td>-0.925338</td>\n",
       "      <td>0.201007</td>\n",
       "      <td>-1.363585</td>\n",
       "      <td>0.113157</td>\n",
       "      <td>0.547060</td>\n",
       "      <td>Orthorhombic</td>\n",
       "      <td>42_3</td>\n",
       "    </tr>\n",
       "    <tr>\n",
       "      <th>3</th>\n",
       "      <td>-1.320330</td>\n",
       "      <td>-0.273614</td>\n",
       "      <td>0.308607</td>\n",
       "      <td>-1.009594</td>\n",
       "      <td>1.297252</td>\n",
       "      <td>Orthorhombic</td>\n",
       "      <td>42_4</td>\n",
       "    </tr>\n",
       "    <tr>\n",
       "      <th>4</th>\n",
       "      <td>0.428655</td>\n",
       "      <td>0.363391</td>\n",
       "      <td>0.537682</td>\n",
       "      <td>-1.228568</td>\n",
       "      <td>0.924752</td>\n",
       "      <td>Orthorhombic</td>\n",
       "      <td>42_5</td>\n",
       "    </tr>\n",
       "  </tbody>\n",
       "</table>\n",
       "</div>"
      ],
      "text/plain": [
       "          1         2         3         4         5 Crystal System  Name\n",
       "0  1.183376 -2.341149  0.557051  0.864894  0.488278   Orthorhombic  42_1\n",
       "1  0.114120 -3.048407  0.569660 -0.119038  0.432919   Orthorhombic  42_2\n",
       "2 -0.925338  0.201007 -1.363585  0.113157  0.547060   Orthorhombic  42_3\n",
       "3 -1.320330 -0.273614  0.308607 -1.009594  1.297252   Orthorhombic  42_4\n",
       "4  0.428655  0.363391  0.537682 -1.228568  0.924752   Orthorhombic  42_5"
      ]
     },
     "execution_count": 19,
     "metadata": {},
     "output_type": "execute_result"
    }
   ],
   "source": [
    "system = [v['system'] for v in crystal_dict.values()]\n",
    "crystals = list(crystal_dict.keys())\n",
    "\n",
    "n = 5\n",
    "mds = MDS(n_components=n, dissimilarity='precomputed', metric=True)\n",
    "embedding = mds.fit_transform(distance_matrix)\n",
    "\n",
    "embedding_df = pd.DataFrame(embedding, columns=[str(_+1) for _ in range(n)])\n",
    "embedding_df['Crystal System'] = system\n",
    "embedding_df['Name'] = crystals\n",
    "\n",
    "X = embedding\n",
    "y = embedding_df['Crystal System'].values\n",
    "\n",
    "X_train, X_test, y_train, y_test = train_test_split(X, y, test_size=0.3, random_state=42)\n",
    "\n",
    "embedding_df.head()"
   ]
  },
  {
   "cell_type": "code",
   "execution_count": 20,
   "metadata": {},
   "outputs": [
    {
     "name": "stdout",
     "output_type": "stream",
     "text": [
      "Accuracy: 0.87\n",
      "Classification Report:\n",
      "              precision    recall  f1-score   support\n",
      "\n",
      "Orthorhombic       0.84      0.94      0.89        17\n",
      "  Tetragonal       0.91      0.77      0.83        13\n",
      "\n",
      "    accuracy                           0.87        30\n",
      "   macro avg       0.88      0.86      0.86        30\n",
      "weighted avg       0.87      0.87      0.86        30\n",
      "\n"
     ]
    }
   ],
   "source": [
    "clf = OneVsOneClassifier(SVC())\n",
    "clf.fit(X_train, y_train)\n",
    "\n",
    "y_pred = clf.predict(X_test)\n",
    "\n",
    "accuracy = accuracy_score(y_test, y_pred)\n",
    "print(f'Accuracy: {accuracy:.2f}')\n",
    "\n",
    "class_report = classification_report(y_test, y_pred, target_names = embedding_df['Crystal System'].unique())\n",
    "print('Classification Report:')\n",
    "print(class_report)"
   ]
  },
  {
   "cell_type": "markdown",
   "metadata": {},
   "source": [
    "# Orthorhombic vs Trigonal"
   ]
  },
  {
   "cell_type": "code",
   "execution_count": 21,
   "metadata": {},
   "outputs": [
    {
     "name": "stdout",
     "output_type": "stream",
     "text": [
      "Least common multiple: 24\n"
     ]
    }
   ],
   "source": [
    "crystal_system_1: str = 'Orthorhombic'\n",
    "crystal_system_2: str = 'Trigonal'\n",
    "\n",
    "space_groups_1: np.ndarray = df.loc[df['Crystal System'] == crystal_system_1]['Space Group'].unique()\n",
    "space_groups_2: np.ndarray = df.loc[df['Crystal System'] == crystal_system_2]['Space Group'].unique()\n",
    "\n",
    "random_space_group_index: np.ndarray = np.random.randint(low = 0, high = len(space_groups_1), size = 1, dtype = int)[0]\n",
    "space_group_1: int = space_groups_1[random_space_group_index]\n",
    "\n",
    "random_space_group_index: np.ndarray = np.random.randint(low = 0, high = len(space_groups_2), size = 1, dtype = int)[0]\n",
    "space_group_2: int = space_groups_2[random_space_group_index]\n",
    "\n",
    "row_1 = df.loc[df['Space Group'] == space_group_1]\n",
    "row_2 = df.loc[df['Space Group'] == space_group_2]\n",
    "\n",
    "group_order_1: int = row_1['Group Order'].values[0]\n",
    "group_order_2: int = row_2['Group Order'].values[0]\n",
    "\n",
    "least_common_multiple: int = lcm(group_order_1, group_order_2)\n",
    "print(f'Least common multiple: {least_common_multiple}')\n",
    "\n",
    "crystal_dict = {}\n",
    "n = 96"
   ]
  },
  {
   "cell_type": "code",
   "execution_count": 22,
   "metadata": {},
   "outputs": [
    {
     "name": "stderr",
     "output_type": "stream",
     "text": [
      "100%|██████████| 50/50 [00:04<00:00, 11.15it/s]\n"
     ]
    }
   ],
   "source": [
    "symmetries: list = row_1['Symmetries'].values[0].split(sep=\";\")\n",
    "symmetries: List[Symmetry] = [Symmetry(sym) for sym in symmetries]\n",
    "\n",
    "unit_cell: List[str] = row_1['Unit Cell'].values[0].split(sep=\",\")\n",
    "unit_cell: UnitCell = UnitCell(*[float(x) for x in unit_cell])\n",
    "normalised_unit_cell: UnitCell = unit_cell.normalise()\n",
    "\n",
    "normalising_constant: float = unit_cell.normalising_constant\n",
    "k = least_common_multiple // group_order_1\n",
    "if least_common_multiple < n:\n",
    "    k *= (n // least_common_multiple)\n",
    "\n",
    "rips = Rips(maxdim=2, verbose=False)\n",
    "\n",
    "for _ in tqdm(range(50)):\n",
    "    random_crystal: RandomCrystal = RandomCrystal(symmetries, k)\n",
    "    positional_coordinates: PositionalCoordinateList = random_crystal.fractional_coordinates.orthogonalise(unit_cell)\n",
    "    normalised_positional_coordinates: PositionalCoordinateList = positional_coordinates.normalise(normalising_constant)\n",
    "\n",
    "    distance_matrix: np.ndarray = normalised_positional_coordinates.calculate_distance_matrix(normalised_unit_cell, boundary_conditions=True)\n",
    "    persistence = rips.fit_transform(X = distance_matrix, distance_matrix=True)\n",
    "\n",
    "    for dim, intervals in enumerate(persistence):\n",
    "        persistence[dim] = np.array(list(filter(lambda i: i[1] < float('inf'), intervals)))\n",
    "\n",
    "    crystal_dict[f'{space_group_1}_{_+1}'] = {\n",
    "        'system': crystal_system_1,\n",
    "        'persistence': persistence\n",
    "    }"
   ]
  },
  {
   "cell_type": "code",
   "execution_count": 23,
   "metadata": {},
   "outputs": [
    {
     "name": "stderr",
     "output_type": "stream",
     "text": [
      "100%|██████████| 50/50 [00:04<00:00, 11.18it/s]\n"
     ]
    }
   ],
   "source": [
    "symmetries: list = row_2['Symmetries'].values[0].split(sep=\";\")\n",
    "symmetries: List[Symmetry] = [Symmetry(sym) for sym in symmetries]\n",
    "\n",
    "unit_cell: List[str] = row_2['Unit Cell'].values[0].split(sep=\",\")\n",
    "unit_cell: UnitCell = UnitCell(*[float(x) for x in unit_cell])\n",
    "normalised_unit_cell: UnitCell = unit_cell.normalise()\n",
    "\n",
    "normalising_constant: float = unit_cell.normalising_constant\n",
    "k = least_common_multiple // group_order_2\n",
    "if least_common_multiple < n:\n",
    "    k *= (n // least_common_multiple)\n",
    "\n",
    "rips = Rips(maxdim=2, verbose=False)\n",
    "\n",
    "for _ in tqdm(range(50)):\n",
    "    random_crystal: RandomCrystal = RandomCrystal(symmetries, k)\n",
    "    positional_coordinates: PositionalCoordinateList = random_crystal.fractional_coordinates.orthogonalise(unit_cell)\n",
    "    normalised_positional_coordinates: PositionalCoordinateList = positional_coordinates.normalise(normalising_constant)\n",
    "\n",
    "    distance_matrix: np.ndarray = normalised_positional_coordinates.calculate_distance_matrix(normalised_unit_cell, boundary_conditions=True)\n",
    "    persistence = rips.fit_transform(X = distance_matrix, distance_matrix=True)\n",
    "\n",
    "    for dim, intervals in enumerate(persistence):\n",
    "        persistence[dim] = np.array(list(filter(lambda i: i[1] < float('inf'), intervals)))\n",
    "\n",
    "    crystal_dict[f'{space_group_2}_{_+1}'] = {\n",
    "        'system': crystal_system_2,\n",
    "        'persistence': persistence\n",
    "    }"
   ]
  },
  {
   "cell_type": "code",
   "execution_count": 24,
   "metadata": {},
   "outputs": [
    {
     "name": "stderr",
     "output_type": "stream",
     "text": [
      "100%|██████████| 100/100 [00:04<00:00, 23.79it/s]\n",
      "100%|██████████| 100/100 [00:02<00:00, 45.79it/s]\n",
      "100%|██████████| 100/100 [00:01<00:00, 62.74it/s]\n"
     ]
    }
   ],
   "source": [
    "distance_matrix_0 = wasserstein_distance_matrix(crystal_dict, 0)\n",
    "distance_matrix_1 = wasserstein_distance_matrix(crystal_dict, 1)\n",
    "distance_matrix_2 = wasserstein_distance_matrix(crystal_dict, 2)\n",
    "\n",
    "distance_matrix: np.ndarray = np.maximum.reduce([distance_matrix_0, distance_matrix_1, distance_matrix_2])"
   ]
  },
  {
   "cell_type": "code",
   "execution_count": 25,
   "metadata": {},
   "outputs": [
    {
     "data": {
      "text/html": [
       "<div>\n",
       "<style scoped>\n",
       "    .dataframe tbody tr th:only-of-type {\n",
       "        vertical-align: middle;\n",
       "    }\n",
       "\n",
       "    .dataframe tbody tr th {\n",
       "        vertical-align: top;\n",
       "    }\n",
       "\n",
       "    .dataframe thead th {\n",
       "        text-align: right;\n",
       "    }\n",
       "</style>\n",
       "<table border=\"1\" class=\"dataframe\">\n",
       "  <thead>\n",
       "    <tr style=\"text-align: right;\">\n",
       "      <th></th>\n",
       "      <th>1</th>\n",
       "      <th>2</th>\n",
       "      <th>3</th>\n",
       "      <th>4</th>\n",
       "      <th>5</th>\n",
       "      <th>Crystal System</th>\n",
       "      <th>Name</th>\n",
       "    </tr>\n",
       "  </thead>\n",
       "  <tbody>\n",
       "    <tr>\n",
       "      <th>0</th>\n",
       "      <td>1.059657</td>\n",
       "      <td>0.095260</td>\n",
       "      <td>-0.396880</td>\n",
       "      <td>-0.628736</td>\n",
       "      <td>0.194854</td>\n",
       "      <td>Orthorhombic</td>\n",
       "      <td>58_1</td>\n",
       "    </tr>\n",
       "    <tr>\n",
       "      <th>1</th>\n",
       "      <td>0.244913</td>\n",
       "      <td>-0.960588</td>\n",
       "      <td>-0.240363</td>\n",
       "      <td>0.304085</td>\n",
       "      <td>-0.606019</td>\n",
       "      <td>Orthorhombic</td>\n",
       "      <td>58_2</td>\n",
       "    </tr>\n",
       "    <tr>\n",
       "      <th>2</th>\n",
       "      <td>-0.456868</td>\n",
       "      <td>0.064246</td>\n",
       "      <td>0.007675</td>\n",
       "      <td>-0.514546</td>\n",
       "      <td>0.414383</td>\n",
       "      <td>Orthorhombic</td>\n",
       "      <td>58_3</td>\n",
       "    </tr>\n",
       "    <tr>\n",
       "      <th>3</th>\n",
       "      <td>-1.032271</td>\n",
       "      <td>-0.161264</td>\n",
       "      <td>-0.121738</td>\n",
       "      <td>0.708544</td>\n",
       "      <td>0.339098</td>\n",
       "      <td>Orthorhombic</td>\n",
       "      <td>58_4</td>\n",
       "    </tr>\n",
       "    <tr>\n",
       "      <th>4</th>\n",
       "      <td>0.183588</td>\n",
       "      <td>-0.561426</td>\n",
       "      <td>0.254413</td>\n",
       "      <td>0.345948</td>\n",
       "      <td>0.228789</td>\n",
       "      <td>Orthorhombic</td>\n",
       "      <td>58_5</td>\n",
       "    </tr>\n",
       "  </tbody>\n",
       "</table>\n",
       "</div>"
      ],
      "text/plain": [
       "          1         2         3         4         5 Crystal System  Name\n",
       "0  1.059657  0.095260 -0.396880 -0.628736  0.194854   Orthorhombic  58_1\n",
       "1  0.244913 -0.960588 -0.240363  0.304085 -0.606019   Orthorhombic  58_2\n",
       "2 -0.456868  0.064246  0.007675 -0.514546  0.414383   Orthorhombic  58_3\n",
       "3 -1.032271 -0.161264 -0.121738  0.708544  0.339098   Orthorhombic  58_4\n",
       "4  0.183588 -0.561426  0.254413  0.345948  0.228789   Orthorhombic  58_5"
      ]
     },
     "execution_count": 25,
     "metadata": {},
     "output_type": "execute_result"
    }
   ],
   "source": [
    "system = [v['system'] for v in crystal_dict.values()]\n",
    "crystals = list(crystal_dict.keys())\n",
    "\n",
    "n = 5\n",
    "mds = MDS(n_components=n, dissimilarity='precomputed', metric=True)\n",
    "embedding = mds.fit_transform(distance_matrix)\n",
    "\n",
    "embedding_df = pd.DataFrame(embedding, columns=[str(_+1) for _ in range(n)])\n",
    "embedding_df['Crystal System'] = system\n",
    "embedding_df['Name'] = crystals\n",
    "\n",
    "X = embedding\n",
    "y = embedding_df['Crystal System'].values\n",
    "\n",
    "X_train, X_test, y_train, y_test = train_test_split(X, y, test_size=0.3, random_state=42)\n",
    "\n",
    "embedding_df.head()"
   ]
  },
  {
   "cell_type": "code",
   "execution_count": 26,
   "metadata": {},
   "outputs": [
    {
     "name": "stdout",
     "output_type": "stream",
     "text": [
      "Accuracy: 1.00\n",
      "Classification Report:\n",
      "              precision    recall  f1-score   support\n",
      "\n",
      "Orthorhombic       1.00      1.00      1.00        17\n",
      "    Trigonal       1.00      1.00      1.00        13\n",
      "\n",
      "    accuracy                           1.00        30\n",
      "   macro avg       1.00      1.00      1.00        30\n",
      "weighted avg       1.00      1.00      1.00        30\n",
      "\n"
     ]
    }
   ],
   "source": [
    "clf = OneVsOneClassifier(SVC())\n",
    "clf.fit(X_train, y_train)\n",
    "\n",
    "y_pred = clf.predict(X_test)\n",
    "\n",
    "accuracy = accuracy_score(y_test, y_pred)\n",
    "print(f'Accuracy: {accuracy:.2f}')\n",
    "\n",
    "class_report = classification_report(y_test, y_pred, target_names = embedding_df['Crystal System'].unique())\n",
    "print('Classification Report:')\n",
    "print(class_report)"
   ]
  },
  {
   "cell_type": "markdown",
   "metadata": {},
   "source": [
    "# Orthorhombic vs Hexagonal"
   ]
  },
  {
   "cell_type": "code",
   "execution_count": 27,
   "metadata": {},
   "outputs": [
    {
     "name": "stdout",
     "output_type": "stream",
     "text": [
      "Least common multiple: 24\n"
     ]
    }
   ],
   "source": [
    "crystal_system_1: str = 'Orthorhombic'\n",
    "crystal_system_2: str = 'Hexagonal'\n",
    "\n",
    "space_groups_1: np.ndarray = df.loc[df['Crystal System'] == crystal_system_1]['Space Group'].unique()\n",
    "space_groups_2: np.ndarray = df.loc[df['Crystal System'] == crystal_system_2]['Space Group'].unique()\n",
    "\n",
    "random_space_group_index: np.ndarray = np.random.randint(low = 0, high = len(space_groups_1), size = 1, dtype = int)[0]\n",
    "space_group_1: int = space_groups_1[random_space_group_index]\n",
    "\n",
    "random_space_group_index: np.ndarray = np.random.randint(low = 0, high = len(space_groups_2), size = 1, dtype = int)[0]\n",
    "space_group_2: int = space_groups_2[random_space_group_index]\n",
    "\n",
    "row_1 = df.loc[df['Space Group'] == space_group_1]\n",
    "row_2 = df.loc[df['Space Group'] == space_group_2]\n",
    "\n",
    "group_order_1: int = row_1['Group Order'].values[0]\n",
    "group_order_2: int = row_2['Group Order'].values[0]\n",
    "\n",
    "least_common_multiple: int = lcm(group_order_1, group_order_2)\n",
    "print(f'Least common multiple: {least_common_multiple}')\n",
    "\n",
    "crystal_dict = {}\n",
    "n = 96"
   ]
  },
  {
   "cell_type": "code",
   "execution_count": 28,
   "metadata": {},
   "outputs": [
    {
     "name": "stderr",
     "output_type": "stream",
     "text": [
      "100%|██████████| 50/50 [00:04<00:00, 10.74it/s]\n"
     ]
    }
   ],
   "source": [
    "symmetries: list = row_1['Symmetries'].values[0].split(sep=\";\")\n",
    "symmetries: List[Symmetry] = [Symmetry(sym) for sym in symmetries]\n",
    "\n",
    "unit_cell: List[str] = row_1['Unit Cell'].values[0].split(sep=\",\")\n",
    "unit_cell: UnitCell = UnitCell(*[float(x) for x in unit_cell])\n",
    "normalised_unit_cell: UnitCell = unit_cell.normalise()\n",
    "\n",
    "normalising_constant: float = unit_cell.normalising_constant\n",
    "k = least_common_multiple // group_order_1\n",
    "if least_common_multiple < n:\n",
    "    k *= (n // least_common_multiple)\n",
    "\n",
    "rips = Rips(maxdim=2, verbose=False)\n",
    "\n",
    "for _ in tqdm(range(50)):\n",
    "    random_crystal: RandomCrystal = RandomCrystal(symmetries, k)\n",
    "    positional_coordinates: PositionalCoordinateList = random_crystal.fractional_coordinates.orthogonalise(unit_cell)\n",
    "    normalised_positional_coordinates: PositionalCoordinateList = positional_coordinates.normalise(normalising_constant)\n",
    "\n",
    "    distance_matrix: np.ndarray = normalised_positional_coordinates.calculate_distance_matrix(normalised_unit_cell, boundary_conditions=True)\n",
    "    persistence = rips.fit_transform(X = distance_matrix, distance_matrix=True)\n",
    "\n",
    "    for dim, intervals in enumerate(persistence):\n",
    "        persistence[dim] = np.array(list(filter(lambda i: i[1] < float('inf'), intervals)))\n",
    "\n",
    "    crystal_dict[f'{space_group_1}_{_+1}'] = {\n",
    "        'system': crystal_system_1,\n",
    "        'persistence': persistence\n",
    "    }"
   ]
  },
  {
   "cell_type": "code",
   "execution_count": 29,
   "metadata": {},
   "outputs": [
    {
     "name": "stderr",
     "output_type": "stream",
     "text": [
      "100%|██████████| 50/50 [00:04<00:00, 10.68it/s]\n"
     ]
    }
   ],
   "source": [
    "symmetries: list = row_2['Symmetries'].values[0].split(sep=\";\")\n",
    "symmetries: List[Symmetry] = [Symmetry(sym) for sym in symmetries]\n",
    "\n",
    "unit_cell: List[str] = row_2['Unit Cell'].values[0].split(sep=\",\")\n",
    "unit_cell: UnitCell = UnitCell(*[float(x) for x in unit_cell])\n",
    "normalised_unit_cell: UnitCell = unit_cell.normalise()\n",
    "\n",
    "normalising_constant: float = unit_cell.normalising_constant\n",
    "k = least_common_multiple // group_order_2\n",
    "if least_common_multiple < n:\n",
    "    k *= (n // least_common_multiple)\n",
    "\n",
    "rips = Rips(maxdim=2, verbose=False)\n",
    "\n",
    "for _ in tqdm(range(50)):\n",
    "    random_crystal: RandomCrystal = RandomCrystal(symmetries, k)\n",
    "    positional_coordinates: PositionalCoordinateList = random_crystal.fractional_coordinates.orthogonalise(unit_cell)\n",
    "    normalised_positional_coordinates: PositionalCoordinateList = positional_coordinates.normalise(normalising_constant)\n",
    "\n",
    "    distance_matrix: np.ndarray = normalised_positional_coordinates.calculate_distance_matrix(normalised_unit_cell, boundary_conditions=True)\n",
    "    persistence = rips.fit_transform(X = distance_matrix, distance_matrix=True)\n",
    "\n",
    "    for dim, intervals in enumerate(persistence):\n",
    "        persistence[dim] = np.array(list(filter(lambda i: i[1] < float('inf'), intervals)))\n",
    "\n",
    "    crystal_dict[f'{space_group_2}_{_+1}'] = {\n",
    "        'system': crystal_system_2,\n",
    "        'persistence': persistence\n",
    "    }"
   ]
  },
  {
   "cell_type": "code",
   "execution_count": 30,
   "metadata": {},
   "outputs": [
    {
     "name": "stderr",
     "output_type": "stream",
     "text": [
      "100%|██████████| 100/100 [00:04<00:00, 21.32it/s]\n",
      "100%|██████████| 100/100 [00:02<00:00, 37.90it/s]\n",
      "100%|██████████| 100/100 [00:02<00:00, 48.95it/s]\n"
     ]
    }
   ],
   "source": [
    "distance_matrix_0 = wasserstein_distance_matrix(crystal_dict, 0)\n",
    "distance_matrix_1 = wasserstein_distance_matrix(crystal_dict, 1)\n",
    "distance_matrix_2 = wasserstein_distance_matrix(crystal_dict, 2)\n",
    "\n",
    "distance_matrix: np.ndarray = np.maximum.reduce([distance_matrix_0, distance_matrix_1, distance_matrix_2])"
   ]
  },
  {
   "cell_type": "code",
   "execution_count": 31,
   "metadata": {},
   "outputs": [
    {
     "data": {
      "text/html": [
       "<div>\n",
       "<style scoped>\n",
       "    .dataframe tbody tr th:only-of-type {\n",
       "        vertical-align: middle;\n",
       "    }\n",
       "\n",
       "    .dataframe tbody tr th {\n",
       "        vertical-align: top;\n",
       "    }\n",
       "\n",
       "    .dataframe thead th {\n",
       "        text-align: right;\n",
       "    }\n",
       "</style>\n",
       "<table border=\"1\" class=\"dataframe\">\n",
       "  <thead>\n",
       "    <tr style=\"text-align: right;\">\n",
       "      <th></th>\n",
       "      <th>1</th>\n",
       "      <th>2</th>\n",
       "      <th>3</th>\n",
       "      <th>4</th>\n",
       "      <th>5</th>\n",
       "      <th>Crystal System</th>\n",
       "      <th>Name</th>\n",
       "    </tr>\n",
       "  </thead>\n",
       "  <tbody>\n",
       "    <tr>\n",
       "      <th>0</th>\n",
       "      <td>-0.062228</td>\n",
       "      <td>-0.179955</td>\n",
       "      <td>-0.500768</td>\n",
       "      <td>0.837415</td>\n",
       "      <td>-0.320592</td>\n",
       "      <td>Orthorhombic</td>\n",
       "      <td>61_1</td>\n",
       "    </tr>\n",
       "    <tr>\n",
       "      <th>1</th>\n",
       "      <td>-0.059903</td>\n",
       "      <td>-0.937704</td>\n",
       "      <td>1.395901</td>\n",
       "      <td>1.473715</td>\n",
       "      <td>-0.883569</td>\n",
       "      <td>Orthorhombic</td>\n",
       "      <td>61_2</td>\n",
       "    </tr>\n",
       "    <tr>\n",
       "      <th>2</th>\n",
       "      <td>0.651274</td>\n",
       "      <td>-0.346762</td>\n",
       "      <td>1.243240</td>\n",
       "      <td>0.112221</td>\n",
       "      <td>1.021925</td>\n",
       "      <td>Orthorhombic</td>\n",
       "      <td>61_3</td>\n",
       "    </tr>\n",
       "    <tr>\n",
       "      <th>3</th>\n",
       "      <td>-0.122919</td>\n",
       "      <td>-0.129478</td>\n",
       "      <td>-0.648418</td>\n",
       "      <td>0.724762</td>\n",
       "      <td>0.167140</td>\n",
       "      <td>Orthorhombic</td>\n",
       "      <td>61_4</td>\n",
       "    </tr>\n",
       "    <tr>\n",
       "      <th>4</th>\n",
       "      <td>0.461349</td>\n",
       "      <td>-0.198212</td>\n",
       "      <td>1.165180</td>\n",
       "      <td>1.444028</td>\n",
       "      <td>0.679423</td>\n",
       "      <td>Orthorhombic</td>\n",
       "      <td>61_5</td>\n",
       "    </tr>\n",
       "  </tbody>\n",
       "</table>\n",
       "</div>"
      ],
      "text/plain": [
       "          1         2         3         4         5 Crystal System  Name\n",
       "0 -0.062228 -0.179955 -0.500768  0.837415 -0.320592   Orthorhombic  61_1\n",
       "1 -0.059903 -0.937704  1.395901  1.473715 -0.883569   Orthorhombic  61_2\n",
       "2  0.651274 -0.346762  1.243240  0.112221  1.021925   Orthorhombic  61_3\n",
       "3 -0.122919 -0.129478 -0.648418  0.724762  0.167140   Orthorhombic  61_4\n",
       "4  0.461349 -0.198212  1.165180  1.444028  0.679423   Orthorhombic  61_5"
      ]
     },
     "execution_count": 31,
     "metadata": {},
     "output_type": "execute_result"
    }
   ],
   "source": [
    "system = [v['system'] for v in crystal_dict.values()]\n",
    "crystals = list(crystal_dict.keys())\n",
    "\n",
    "n = 5\n",
    "mds = MDS(n_components=n, dissimilarity='precomputed', metric=True)\n",
    "embedding = mds.fit_transform(distance_matrix)\n",
    "\n",
    "embedding_df = pd.DataFrame(embedding, columns=[str(_+1) for _ in range(n)])\n",
    "embedding_df['Crystal System'] = system\n",
    "embedding_df['Name'] = crystals\n",
    "\n",
    "X = embedding\n",
    "y = embedding_df['Crystal System'].values\n",
    "\n",
    "X_train, X_test, y_train, y_test = train_test_split(X, y, test_size=0.3, random_state=42)\n",
    "\n",
    "embedding_df.head()"
   ]
  },
  {
   "cell_type": "code",
   "execution_count": 32,
   "metadata": {},
   "outputs": [
    {
     "name": "stdout",
     "output_type": "stream",
     "text": [
      "Accuracy: 0.97\n",
      "Classification Report:\n",
      "              precision    recall  f1-score   support\n",
      "\n",
      "Orthorhombic       0.93      1.00      0.96        13\n",
      "   Hexagonal       1.00      0.94      0.97        17\n",
      "\n",
      "    accuracy                           0.97        30\n",
      "   macro avg       0.96      0.97      0.97        30\n",
      "weighted avg       0.97      0.97      0.97        30\n",
      "\n"
     ]
    }
   ],
   "source": [
    "clf = OneVsOneClassifier(SVC())\n",
    "clf.fit(X_train, y_train)\n",
    "\n",
    "y_pred = clf.predict(X_test)\n",
    "\n",
    "accuracy = accuracy_score(y_test, y_pred)\n",
    "print(f'Accuracy: {accuracy:.2f}')\n",
    "\n",
    "class_report = classification_report(y_test, y_pred, target_names = embedding_df['Crystal System'].unique())\n",
    "print('Classification Report:')\n",
    "print(class_report)"
   ]
  },
  {
   "cell_type": "markdown",
   "metadata": {},
   "source": [
    "# Orthorhombic vs Cubic"
   ]
  },
  {
   "cell_type": "code",
   "execution_count": 39,
   "metadata": {},
   "outputs": [
    {
     "name": "stdout",
     "output_type": "stream",
     "text": [
      "Least common multiple: 24\n"
     ]
    }
   ],
   "source": [
    "crystal_system_1: str = 'Orthorhombic'\n",
    "crystal_system_2: str = 'Cubic'\n",
    "\n",
    "space_groups_1: np.ndarray = df.loc[df['Crystal System'] == crystal_system_1]['Space Group'].unique()\n",
    "space_groups_2: np.ndarray = df.loc[df['Crystal System'] == crystal_system_2]['Space Group'].unique()\n",
    "\n",
    "random_space_group_index: np.ndarray = np.random.randint(low = 0, high = len(space_groups_1), size = 1, dtype = int)[0]\n",
    "space_group_1: int = space_groups_1[random_space_group_index]\n",
    "\n",
    "random_space_group_index: np.ndarray = np.random.randint(low = 0, high = len(space_groups_2), size = 1, dtype = int)[0]\n",
    "space_group_2: int = space_groups_2[random_space_group_index]\n",
    "\n",
    "row_1 = df.loc[df['Space Group'] == space_group_1]\n",
    "row_2 = df.loc[df['Space Group'] == space_group_2]\n",
    "\n",
    "group_order_1: int = row_1['Group Order'].values[0]\n",
    "group_order_2: int = row_2['Group Order'].values[0]\n",
    "\n",
    "least_common_multiple: int = lcm(group_order_1, group_order_2)\n",
    "print(f'Least common multiple: {least_common_multiple}')\n",
    "\n",
    "crystal_dict = {}\n",
    "n = 96"
   ]
  },
  {
   "cell_type": "code",
   "execution_count": 40,
   "metadata": {},
   "outputs": [
    {
     "name": "stderr",
     "output_type": "stream",
     "text": [
      "100%|██████████| 50/50 [00:04<00:00, 11.60it/s]\n"
     ]
    }
   ],
   "source": [
    "symmetries: list = row_1['Symmetries'].values[0].split(sep=\";\")\n",
    "symmetries: List[Symmetry] = [Symmetry(sym) for sym in symmetries]\n",
    "\n",
    "unit_cell: List[str] = row_1['Unit Cell'].values[0].split(sep=\",\")\n",
    "unit_cell: UnitCell = UnitCell(*[float(x) for x in unit_cell])\n",
    "normalised_unit_cell: UnitCell = unit_cell.normalise()\n",
    "\n",
    "normalising_constant: float = unit_cell.normalising_constant\n",
    "k = least_common_multiple // group_order_1\n",
    "if least_common_multiple < n:\n",
    "    k *= (n // least_common_multiple)\n",
    "\n",
    "rips = Rips(maxdim=2, verbose=False)\n",
    "\n",
    "for _ in tqdm(range(50)):\n",
    "    random_crystal: RandomCrystal = RandomCrystal(symmetries, k)\n",
    "    positional_coordinates: PositionalCoordinateList = random_crystal.fractional_coordinates.orthogonalise(unit_cell)\n",
    "    normalised_positional_coordinates: PositionalCoordinateList = positional_coordinates.normalise(normalising_constant)\n",
    "\n",
    "    distance_matrix: np.ndarray = normalised_positional_coordinates.calculate_distance_matrix(normalised_unit_cell, boundary_conditions=True)\n",
    "    persistence = rips.fit_transform(X = distance_matrix, distance_matrix=True)\n",
    "\n",
    "    for dim, intervals in enumerate(persistence):\n",
    "        persistence[dim] = np.array(list(filter(lambda i: i[1] < float('inf'), intervals)))\n",
    "\n",
    "    crystal_dict[f'{space_group_1}_{_+1}'] = {\n",
    "        'system': crystal_system_1,\n",
    "        'persistence': persistence\n",
    "    }"
   ]
  },
  {
   "cell_type": "code",
   "execution_count": 41,
   "metadata": {},
   "outputs": [
    {
     "name": "stderr",
     "output_type": "stream",
     "text": [
      "  0%|          | 0/50 [00:00<?, ?it/s]"
     ]
    },
    {
     "name": "stderr",
     "output_type": "stream",
     "text": [
      "100%|██████████| 50/50 [00:06<00:00,  7.35it/s]\n"
     ]
    }
   ],
   "source": [
    "symmetries: list = row_2['Symmetries'].values[0].split(sep=\";\")\n",
    "symmetries: List[Symmetry] = [Symmetry(sym) for sym in symmetries]\n",
    "\n",
    "unit_cell: List[str] = row_2['Unit Cell'].values[0].split(sep=\",\")\n",
    "unit_cell: UnitCell = UnitCell(*[float(x) for x in unit_cell])\n",
    "normalised_unit_cell: UnitCell = unit_cell.normalise()\n",
    "\n",
    "normalising_constant: float = unit_cell.normalising_constant\n",
    "k = least_common_multiple // group_order_2\n",
    "if least_common_multiple < n:\n",
    "    k *= (n // least_common_multiple)\n",
    "\n",
    "rips = Rips(maxdim=2, verbose=False)\n",
    "\n",
    "for _ in tqdm(range(50)):\n",
    "    random_crystal: RandomCrystal = RandomCrystal(symmetries, k)\n",
    "    positional_coordinates: PositionalCoordinateList = random_crystal.fractional_coordinates.orthogonalise(unit_cell)\n",
    "    normalised_positional_coordinates: PositionalCoordinateList = positional_coordinates.normalise(normalising_constant)\n",
    "\n",
    "    distance_matrix: np.ndarray = normalised_positional_coordinates.calculate_distance_matrix(normalised_unit_cell, boundary_conditions=True)\n",
    "    persistence = rips.fit_transform(X = distance_matrix, distance_matrix=True)\n",
    "\n",
    "    for dim, intervals in enumerate(persistence):\n",
    "        persistence[dim] = np.array(list(filter(lambda i: i[1] < float('inf'), intervals)))\n",
    "\n",
    "    crystal_dict[f'{space_group_2}_{_+1}'] = {\n",
    "        'system': crystal_system_2,\n",
    "        'persistence': persistence\n",
    "    }"
   ]
  },
  {
   "cell_type": "code",
   "execution_count": 42,
   "metadata": {},
   "outputs": [
    {
     "name": "stderr",
     "output_type": "stream",
     "text": [
      "100%|██████████| 100/100 [00:03<00:00, 27.83it/s]\n",
      "100%|██████████| 100/100 [00:02<00:00, 44.93it/s]\n",
      "100%|██████████| 100/100 [00:02<00:00, 41.97it/s]\n"
     ]
    }
   ],
   "source": [
    "distance_matrix_0 = wasserstein_distance_matrix(crystal_dict, 0)\n",
    "distance_matrix_1 = wasserstein_distance_matrix(crystal_dict, 1)\n",
    "distance_matrix_2 = wasserstein_distance_matrix(crystal_dict, 2)\n",
    "\n",
    "distance_matrix: np.ndarray = np.maximum.reduce([distance_matrix_0, distance_matrix_1, distance_matrix_2])"
   ]
  },
  {
   "cell_type": "code",
   "execution_count": 43,
   "metadata": {},
   "outputs": [
    {
     "data": {
      "text/html": [
       "<div>\n",
       "<style scoped>\n",
       "    .dataframe tbody tr th:only-of-type {\n",
       "        vertical-align: middle;\n",
       "    }\n",
       "\n",
       "    .dataframe tbody tr th {\n",
       "        vertical-align: top;\n",
       "    }\n",
       "\n",
       "    .dataframe thead th {\n",
       "        text-align: right;\n",
       "    }\n",
       "</style>\n",
       "<table border=\"1\" class=\"dataframe\">\n",
       "  <thead>\n",
       "    <tr style=\"text-align: right;\">\n",
       "      <th></th>\n",
       "      <th>1</th>\n",
       "      <th>2</th>\n",
       "      <th>3</th>\n",
       "      <th>4</th>\n",
       "      <th>5</th>\n",
       "      <th>Crystal System</th>\n",
       "      <th>Name</th>\n",
       "    </tr>\n",
       "  </thead>\n",
       "  <tbody>\n",
       "    <tr>\n",
       "      <th>0</th>\n",
       "      <td>-0.060484</td>\n",
       "      <td>-1.735034</td>\n",
       "      <td>0.877962</td>\n",
       "      <td>-0.451612</td>\n",
       "      <td>0.612893</td>\n",
       "      <td>Orthorhombic</td>\n",
       "      <td>44_1</td>\n",
       "    </tr>\n",
       "    <tr>\n",
       "      <th>1</th>\n",
       "      <td>0.794545</td>\n",
       "      <td>-0.835849</td>\n",
       "      <td>0.961011</td>\n",
       "      <td>-0.742474</td>\n",
       "      <td>-0.127714</td>\n",
       "      <td>Orthorhombic</td>\n",
       "      <td>44_2</td>\n",
       "    </tr>\n",
       "    <tr>\n",
       "      <th>2</th>\n",
       "      <td>0.645459</td>\n",
       "      <td>-0.052235</td>\n",
       "      <td>-0.589091</td>\n",
       "      <td>-0.564019</td>\n",
       "      <td>0.219467</td>\n",
       "      <td>Orthorhombic</td>\n",
       "      <td>44_3</td>\n",
       "    </tr>\n",
       "    <tr>\n",
       "      <th>3</th>\n",
       "      <td>0.074939</td>\n",
       "      <td>-0.752232</td>\n",
       "      <td>0.137763</td>\n",
       "      <td>0.500420</td>\n",
       "      <td>-0.061140</td>\n",
       "      <td>Orthorhombic</td>\n",
       "      <td>44_4</td>\n",
       "    </tr>\n",
       "    <tr>\n",
       "      <th>4</th>\n",
       "      <td>-0.261179</td>\n",
       "      <td>-1.611209</td>\n",
       "      <td>1.164495</td>\n",
       "      <td>-0.057774</td>\n",
       "      <td>1.007767</td>\n",
       "      <td>Orthorhombic</td>\n",
       "      <td>44_5</td>\n",
       "    </tr>\n",
       "  </tbody>\n",
       "</table>\n",
       "</div>"
      ],
      "text/plain": [
       "          1         2         3         4         5 Crystal System  Name\n",
       "0 -0.060484 -1.735034  0.877962 -0.451612  0.612893   Orthorhombic  44_1\n",
       "1  0.794545 -0.835849  0.961011 -0.742474 -0.127714   Orthorhombic  44_2\n",
       "2  0.645459 -0.052235 -0.589091 -0.564019  0.219467   Orthorhombic  44_3\n",
       "3  0.074939 -0.752232  0.137763  0.500420 -0.061140   Orthorhombic  44_4\n",
       "4 -0.261179 -1.611209  1.164495 -0.057774  1.007767   Orthorhombic  44_5"
      ]
     },
     "execution_count": 43,
     "metadata": {},
     "output_type": "execute_result"
    }
   ],
   "source": [
    "system = [v['system'] for v in crystal_dict.values()]\n",
    "crystals = list(crystal_dict.keys())\n",
    "\n",
    "n = 5\n",
    "mds = MDS(n_components=n, dissimilarity='precomputed', metric=True)\n",
    "embedding = mds.fit_transform(distance_matrix)\n",
    "\n",
    "embedding_df = pd.DataFrame(embedding, columns=[str(_+1) for _ in range(n)])\n",
    "embedding_df['Crystal System'] = system\n",
    "embedding_df['Name'] = crystals\n",
    "\n",
    "X = embedding\n",
    "y = embedding_df['Crystal System'].values\n",
    "\n",
    "X_train, X_test, y_train, y_test = train_test_split(X, y, test_size=0.3, random_state=42)\n",
    "\n",
    "embedding_df.head()"
   ]
  },
  {
   "cell_type": "code",
   "execution_count": 44,
   "metadata": {},
   "outputs": [
    {
     "name": "stdout",
     "output_type": "stream",
     "text": [
      "Accuracy: 0.93\n",
      "Classification Report:\n",
      "              precision    recall  f1-score   support\n",
      "\n",
      "Orthorhombic       0.92      0.92      0.92        13\n",
      "       Cubic       0.94      0.94      0.94        17\n",
      "\n",
      "    accuracy                           0.93        30\n",
      "   macro avg       0.93      0.93      0.93        30\n",
      "weighted avg       0.93      0.93      0.93        30\n",
      "\n"
     ]
    }
   ],
   "source": [
    "clf = OneVsOneClassifier(SVC())\n",
    "clf.fit(X_train, y_train)\n",
    "\n",
    "y_pred = clf.predict(X_test)\n",
    "\n",
    "accuracy = accuracy_score(y_test, y_pred)\n",
    "print(f'Accuracy: {accuracy:.2f}')\n",
    "\n",
    "class_report = classification_report(y_test, y_pred, target_names = embedding_df['Crystal System'].unique())\n",
    "print('Classification Report:')\n",
    "print(class_report)"
   ]
  },
  {
   "cell_type": "code",
   "execution_count": null,
   "metadata": {},
   "outputs": [],
   "source": []
  }
 ],
 "metadata": {
  "kernelspec": {
   "display_name": "venv",
   "language": "python",
   "name": "python3"
  },
  "language_info": {
   "codemirror_mode": {
    "name": "ipython",
    "version": 3
   },
   "file_extension": ".py",
   "mimetype": "text/x-python",
   "name": "python",
   "nbconvert_exporter": "python",
   "pygments_lexer": "ipython3",
   "version": "3.12.2"
  }
 },
 "nbformat": 4,
 "nbformat_minor": 2
}
